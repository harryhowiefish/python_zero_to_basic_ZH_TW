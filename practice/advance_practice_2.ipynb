{
 "cells": [
  {
   "cell_type": "markdown",
   "metadata": {
    "id": "wB3Wmn5jW5cu"
   },
   "source": [
    "## 第零大題（5分）\n",
    "將numpy跟panda import到這個notebook裡"
   ]
  },
  {
   "cell_type": "code",
   "execution_count": null,
   "metadata": {
    "id": "n-Rr6ltKW5cu"
   },
   "outputs": [],
   "source": []
  },
  {
   "cell_type": "markdown",
   "metadata": {
    "id": "csCCrK3NW5cw",
    "tags": []
   },
   "source": [
    "## 第一大題 (35分)"
   ]
  },
  {
   "cell_type": "markdown",
   "metadata": {},
   "source": [
    "#### Part1（15分）\n",
    "建立一個新的np.array（Q1_array），shape為(16,)，裡面的數值為0~15"
   ]
  },
  {
   "cell_type": "code",
   "execution_count": null,
   "metadata": {},
   "outputs": [],
   "source": []
  },
  {
   "cell_type": "markdown",
   "metadata": {
    "tags": []
   },
   "source": [
    "#### Part2（10分）\n",
    "保留Q1_array的數值，將形狀改為(4,4)"
   ]
  },
  {
   "cell_type": "code",
   "execution_count": null,
   "metadata": {},
   "outputs": [],
   "source": []
  },
  {
   "cell_type": "markdown",
   "metadata": {
    "tags": []
   },
   "source": [
    "#### Part3（5分）\n",
    "將Q1_array內數值平方，並存回Q1_array"
   ]
  },
  {
   "cell_type": "code",
   "execution_count": null,
   "metadata": {},
   "outputs": [],
   "source": []
  },
  {
   "cell_type": "markdown",
   "metadata": {
    "tags": []
   },
   "source": [
    "#### Part4（5分）\n",
    "將Q1_array裡的數值全部減去平均值後存回Q1_array"
   ]
  },
  {
   "cell_type": "code",
   "execution_count": null,
   "metadata": {},
   "outputs": [],
   "source": []
  },
  {
   "cell_type": "markdown",
   "metadata": {
    "id": "csCCrK3NW5cw",
    "tags": []
   },
   "source": [
    "## 第二大題 (30分)"
   ]
  },
  {
   "cell_type": "markdown",
   "metadata": {
    "tags": []
   },
   "source": [
    "#### Part1（15分）\n",
    "用np.random.randint製作一個np.array(Q2_array)，shape為(3,3)，其中最大值為50、平均為22"
   ]
  },
  {
   "cell_type": "code",
   "execution_count": null,
   "metadata": {},
   "outputs": [],
   "source": []
  },
  {
   "cell_type": "markdown",
   "metadata": {
    "tags": []
   },
   "source": [
    "#### Part2（10分）\n",
    "找出Q2_array裡最大的3個數值，印出他的位置以及數值大小"
   ]
  },
  {
   "cell_type": "code",
   "execution_count": null,
   "metadata": {},
   "outputs": [],
   "source": []
  },
  {
   "cell_type": "markdown",
   "metadata": {
    "tags": []
   },
   "source": [
    "#### Part3（5分）\n",
    "將Q2_array裡的所有奇數改成偶數，但維持Q2_array的平均仍維持為22"
   ]
  },
  {
   "cell_type": "code",
   "execution_count": null,
   "metadata": {},
   "outputs": [],
   "source": []
  },
  {
   "cell_type": "markdown",
   "metadata": {
    "id": "csCCrK3NW5cw",
    "tags": []
   },
   "source": [
    "## 第三大題 (35分)"
   ]
  },
  {
   "cell_type": "markdown",
   "metadata": {
    "colab_type": "text",
    "id": "GaFpgyJAQnJO"
   },
   "source": [
    "#### Part1（15分）\n",
    "將midterm_data.csv載入，儲存為Q3_df"
   ]
  },
  {
   "cell_type": "code",
   "execution_count": null,
   "metadata": {},
   "outputs": [],
   "source": []
  },
  {
   "cell_type": "markdown",
   "metadata": {
    "colab_type": "text",
    "id": "XtwXcENSQnJS"
   },
   "source": [
    "#### Part2（10分）\n",
    "篩選Q3_df內，product_type_name屬於T-shirt，且graphical_appearance_name為Solid的資料"
   ]
  },
  {
   "cell_type": "code",
   "execution_count": null,
   "metadata": {},
   "outputs": [],
   "source": []
  },
  {
   "cell_type": "markdown",
   "metadata": {
    "colab_type": "text",
    "id": "XtwXcENSQnJS"
   },
   "source": [
    "#### Part3（10分）\n",
    "利用product_type_name分類\n",
    "1. 請問最多的類別是哪一個product_type_name，商品數量有幾個？\n",
    "2. 請問平均每一個product_type_name會有幾件商品？"
   ]
  },
  {
   "cell_type": "code",
   "execution_count": null,
   "metadata": {},
   "outputs": [],
   "source": []
  }
 ],
 "metadata": {
  "colab": {
   "collapsed_sections": [],
   "name": "110_1_midterm.ipynb",
   "provenance": []
  },
  "kernelspec": {
   "display_name": "Python 3 (ipykernel)",
   "language": "python",
   "name": "python3"
  },
  "language_info": {
   "codemirror_mode": {
    "name": "ipython",
    "version": 3
   },
   "file_extension": ".py",
   "mimetype": "text/x-python",
   "name": "python",
   "nbconvert_exporter": "python",
   "pygments_lexer": "ipython3",
   "version": "3.9.10"
  }
 },
 "nbformat": 4,
 "nbformat_minor": 4
}
