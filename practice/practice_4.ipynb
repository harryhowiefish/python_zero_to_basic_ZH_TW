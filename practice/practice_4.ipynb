{
 "cells": [
  {
   "cell_type": "markdown",
   "metadata": {
    "tags": []
   },
   "source": [
    "#### 第一題(難度☆☆☆☆★) （15分）\n",
    "將下列兩個list，製作成dictionary (no1_dict)（subject為key，score為value)\n",
    "\n",
    "考試內容：dictionary"
   ]
  },
  {
   "cell_type": "code",
   "execution_count": 1,
   "metadata": {},
   "outputs": [],
   "source": [
    "subject = ['Math','Chemistry','Biology',\n",
    "           'Physics','English','Chinese']\n",
    "score = [88,68,91,80,85,76]"
   ]
  },
  {
   "cell_type": "markdown",
   "metadata": {
    "tags": []
   },
   "source": [
    "#### 第二題(難度☆☆☆☆★)（15分）\n",
    "印出no1_list裡各個數值除以13的餘數\n",
    "\n",
    "e.x. no1_list=[13,14,15] >> 0,1,2   \n",
    "\n",
    "**依序印出即可，不用放到list裡"
   ]
  },
  {
   "cell_type": "code",
   "execution_count": null,
   "metadata": {},
   "outputs": [],
   "source": [
    "no1_list=[0,13,2,53124,5422,1231,223,30056]\n",
    "\n"
   ]
  },
  {
   "cell_type": "markdown",
   "metadata": {},
   "source": [
    "#### 第三題(難度☆☆☆★★)（12分）\n",
    "建立一個1~100的list（no3_list)，並依序用下列規則依序取代no3_list裡的數值，最後再將結果印出來\n",
    "\n",
    "a.若開根號為整數，用\"a\"取代\n",
    "\n",
    "b.若是除3的餘數為2，用\"b\"取代"
   ]
  },
  {
   "cell_type": "code",
   "execution_count": null,
   "metadata": {},
   "outputs": [],
   "source": []
  },
  {
   "cell_type": "markdown",
   "metadata": {},
   "source": [
    "#### 第四題(難度☆☆☆★★)（12分）\n",
    "請找出大於no4_num，且開根號後為整數的最小數字\n",
    "\n",
    "e.x. no4_num = 100 >> 121"
   ]
  },
  {
   "cell_type": "code",
   "execution_count": null,
   "metadata": {},
   "outputs": [],
   "source": [
    "no4_num = 12345"
   ]
  },
  {
   "cell_type": "markdown",
   "metadata": {},
   "source": [
    "#### 第五題(難度☆☆★★★)（10分）\n",
    "製作一個list(no4_list)，列出no4_num的所有的因數"
   ]
  },
  {
   "cell_type": "code",
   "execution_count": 15,
   "metadata": {},
   "outputs": [],
   "source": [
    "no5_num = 2315851"
   ]
  },
  {
   "cell_type": "markdown",
   "metadata": {},
   "source": [
    "#### 第六題(難度☆☆★★★)（10分）\n",
    "\n",
    "將no6_list中的文字跟數字分成兩個不同的list並從小到大排序\n",
    "\n",
    "考試內容：sorted, list操作, 判斷式\n",
    "\n",
    "\n"
   ]
  },
  {
   "cell_type": "code",
   "execution_count": 12,
   "metadata": {},
   "outputs": [],
   "source": [
    "no6_list=[12, 59, \"Chinese\", \"English\", 312,5, \"Math\", 0, \"Biology\"]"
   ]
  },
  {
   "cell_type": "markdown",
   "metadata": {},
   "source": [
    "#### 第七題(難度☆★★★★)（8分）\n",
    "請將編碼後的英文字 (code_data），依據解碼器（decoder）找出解碼後的字母，並將結果印出來\n",
    "\n",
    "code_data = \"ieuu\" >> \"kill\""
   ]
  },
  {
   "cell_type": "code",
   "execution_count": null,
   "metadata": {},
   "outputs": [],
   "source": [
    "code_data =\"ywuur\"\n",
    "decoder = {'q':'a','w':'e','e':'i','r':'o','t':'u','y':'h','u':'l','i':'k'}"
   ]
  },
  {
   "cell_type": "markdown",
   "metadata": {},
   "source": [
    "#### 第八題(難度☆★★★★)（8分）\n",
    "請將畢氏定理寫成一個函式（P_thereom)。給定兩邊長，來進行直角三角形的斜邊計算\n",
    "\n",
    "e.x. print(P_therom(3,4)) --> 5 "
   ]
  },
  {
   "cell_type": "code",
   "execution_count": null,
   "metadata": {},
   "outputs": [],
   "source": []
  },
  {
   "cell_type": "markdown",
   "metadata": {},
   "source": [
    "#### 第九題(難度★★★★★)（5分）\n",
    "\n",
    "將no9_list每個數字的「第二大因數」相加在一起並且印出來\n",
    "\n",
    "e.x. no9_list = [21,15,40]  --> 32"
   ]
  },
  {
   "cell_type": "code",
   "execution_count": 10,
   "metadata": {},
   "outputs": [],
   "source": [
    "no9_list = [3123,94350,31239,58401,30123]"
   ]
  },
  {
   "cell_type": "markdown",
   "metadata": {
    "tags": []
   },
   "source": [
    "#### 第十題(難度★★★★★)（5分）\n",
    "board為圈圈叉叉棋盤的結果，請判斷是由哪方獲勝，或是平手"
   ]
  },
  {
   "cell_type": "code",
   "execution_count": 14,
   "metadata": {},
   "outputs": [
    {
     "name": "stdout",
     "output_type": "stream",
     "text": [
      "['o', 'x', 'o']\n",
      "['x', 'o', 'o']\n",
      "['x', 'o', 'x']\n"
     ]
    }
   ],
   "source": [
    "board = [['o','x','o'],['x','o','o'],['x','o','x']]\n",
    "print(board[0])\n",
    "print(board[1])\n",
    "print(board[2])"
   ]
  }
 ],
 "metadata": {
  "kernelspec": {
   "display_name": "Python 3 (ipykernel)",
   "language": "python",
   "name": "python3"
  },
  "language_info": {
   "codemirror_mode": {
    "name": "ipython",
    "version": 3
   },
   "file_extension": ".py",
   "mimetype": "text/x-python",
   "name": "python",
   "nbconvert_exporter": "python",
   "pygments_lexer": "ipython3",
   "version": "3.9.10"
  }
 },
 "nbformat": 4,
 "nbformat_minor": 4
}
