{
 "cells": [
  {
   "cell_type": "markdown",
   "id": "044c8928-eea6-4521-9cf8-80ddc72acf28",
   "metadata": {},
   "source": [
    "#### 第一題（15分）\n",
    "grade裡面有全班學生的成績，請將所有成績高於90分的學生名字存在一個list並印出來"
   ]
  },
  {
   "cell_type": "code",
   "execution_count": 2,
   "id": "6d3aad48-4a21-4ad5-8205-03f7750e8738",
   "metadata": {},
   "outputs": [],
   "source": [
    "grade={'小明':70,'小華':95,'小拉拉':87,'小志':91,'皮卡丘':100,'小可':20,'小霞':77}"
   ]
  },
  {
   "cell_type": "markdown",
   "id": "e4ccddd9-01ed-4c5a-9d06-13ab036e5007",
   "metadata": {},
   "source": [
    "#### 第二題（15分）\n",
    "將no2_list每個數字的「第二大因數」相加再一起並且印出來\n",
    "\n",
    "e.x. no2_list = [21,15,40] --> 32"
   ]
  },
  {
   "cell_type": "code",
   "execution_count": 4,
   "id": "4612dc95-308d-46b3-8a17-fe918cc05e53",
   "metadata": {},
   "outputs": [],
   "source": [
    "no2_list=[3123,94350,31239,58401,30123]"
   ]
  },
  {
   "cell_type": "markdown",
   "id": "8df26ce1-aaf9-4fc2-bc3a-e390cfbebbbf",
   "metadata": {},
   "source": [
    "#### 第三題（15分）\n",
    "\n",
    "請將no3_num中各個阿拉伯數字出現的次數，儲存成dictionary\n",
    "\n",
    "e.x. no3_num = 12312 -> {1:2,2:2,3:1}"
   ]
  },
  {
   "cell_type": "code",
   "execution_count": null,
   "id": "2ddb6919-e367-4321-8bc5-ac7935d5a77a",
   "metadata": {},
   "outputs": [],
   "source": [
    "no1_num=39102850942583132112376"
   ]
  },
  {
   "cell_type": "markdown",
   "id": "751ec45d",
   "metadata": {},
   "source": [
    "#### 第四題（15分）\n",
    "board為BINGO的結果，要連成三條線才算獲勝。請寫出一個function check_win(board)來檢查board是否有獲勝"
   ]
  },
  {
   "cell_type": "code",
   "execution_count": 5,
   "id": "08bf0853",
   "metadata": {},
   "outputs": [
    {
     "name": "stdout",
     "output_type": "stream",
     "text": [
      "['o', '', 'o', '']\n",
      "['o', 'o', 'o', 'o']\n",
      "['', 'o', '', '']\n",
      "['o', 'o', '', '']\n"
     ]
    }
   ],
   "source": [
    "board = [['o','','o',''],['o','o','o','o'],['','o','',''],['o','o','','']]\n",
    "print(board[0])\n",
    "print(board[1])\n",
    "print(board[2])\n",
    "print(board[3])"
   ]
  },
  {
   "cell_type": "markdown",
   "id": "9eb5d786",
   "metadata": {},
   "source": [
    "#### 第五題（20分）\n",
    "\n",
    "檢查no5_number是否為7的倍數，如果是則將no5_number印出來\n",
    "\n",
    "如果不是，則移除數字中第一位數字（最左邊） >> 1249053451831233\n",
    "\n",
    "並再檢查一次這個新的數值是否為7的倍數，如果是則將這組數字印出來\n",
    "\n",
    "如果不是，則移除數字中最後一位數字（最右邊） >> 124905345183123\n",
    "\n",
    "並再檢查一次這個新的數值是否為7的倍數，如果是則將這組數字印出來\n",
    "\n",
    "不段重複這個步驟，直到有7的倍數為止，或是只剩一位數時將那個數字印出來\n",
    "\n",
    "e.x. no7_num = 149 -> 49,  no7_num = 148 -> 4"
   ]
  },
  {
   "cell_type": "code",
   "execution_count": null,
   "id": "be22bd88-3850-4de9-becf-2e9100a27bdf",
   "metadata": {},
   "outputs": [],
   "source": [
    "no5_number = 31249053451831233\n"
   ]
  },
  {
   "cell_type": "markdown",
   "id": "9eb5d786",
   "metadata": {},
   "source": [
    "#### 第六題（20分）\n",
    "\n",
    "寫出一個函數number_search(init,base)，這個函數包含兩個參數init,base\n",
    "\n",
    "函數的功能是會找出/印出和init差值的絕對值最小、且是base的倍數的數值 （代表可大可小）\n",
    "若有兩個數值和init的差值相同，則都印出來\n",
    "\n",
    "e.x. number_search(100,7) -> 98\n",
    "\n",
    "e.x. number_search(108,8)-> 104 112"
   ]
  },
  {
   "cell_type": "code",
   "execution_count": null,
   "id": "58433bdf",
   "metadata": {},
   "outputs": [],
   "source": [
    "init = 108\n",
    "base = 8"
   ]
  }
 ],
 "metadata": {
  "kernelspec": {
   "display_name": "Python 3.9.7 ('base')",
   "language": "python",
   "name": "python3"
  },
  "language_info": {
   "codemirror_mode": {
    "name": "ipython",
    "version": 3
   },
   "file_extension": ".py",
   "mimetype": "text/x-python",
   "name": "python",
   "nbconvert_exporter": "python",
   "pygments_lexer": "ipython3",
   "version": "3.9.7"
  },
  "vscode": {
   "interpreter": {
    "hash": "2823e761c28cdc6b049b0558897f96fde0030bdcd399c31e0bf10cb02b6a1cc5"
   }
  }
 },
 "nbformat": 4,
 "nbformat_minor": 5
}
