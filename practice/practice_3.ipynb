{
 "cells": [
  {
   "attachments": {},
   "cell_type": "markdown",
   "metadata": {},
   "source": [
    "## 期中考\n",
    "\n",
    "### 考試內容：~ dictionary\n",
    "\n",
    "### 考試時間：3/20 15:20~16:05\n",
    "\n",
    "### 考試相關說明\n",
    "\n",
    "- 總共5題，各題的分數寫在題目後面 總共50分\n",
    "- 各題有撰寫有意義的內容但答案有誤最高可拿60%的分數  正確答案則拿100%的分數 (暴力列出答案不算正確答案）\n",
    "- 繳交考卷以上傳到Google Classroom的時間為主，可重複繳交但不可遲交\n",
    "- 可以看過去課程講義，不得上網、不可討論，不要開啟非jupyterlab的網頁\n",
    "- 任何討論行為視同作弊，以零分計算\n",
    "- 若遇到題目說明不清楚請再課堂上詢問\n",
    "- 若遇到題目出錯的狀況會統一送分"
   ]
  },
  {
   "cell_type": "markdown",
   "metadata": {},
   "source": [
    "------------------------我是分隔線------------------------"
   ]
  },
  {
   "attachments": {},
   "cell_type": "markdown",
   "metadata": {
    "tags": []
   },
   "source": [
    "#### 第一題（10分）\n",
    "把homeroom這個dictionary的key和item對調（key <--> item）"
   ]
  },
  {
   "cell_type": "code",
   "execution_count": 2,
   "metadata": {},
   "outputs": [],
   "source": [
    "homeroom = {'1201':'Rayhan Burnett','1202':'Maria Obrien','1203':'Myrtle Rojas','12A':'Katerina Blackburn',\n",
    "            '12B':'Bartosz Wolf','12C':'Gareth Hendrix','12D':'Darcy Cordova','12E':'Peter Bloggs','12F':'Jimmy Stewart','12G':'Aron Oconnor'}"
   ]
  },
  {
   "attachments": {},
   "cell_type": "markdown",
   "metadata": {
    "tags": []
   },
   "source": [
    "#### 第二題（10分）\n",
    "找出所有no2_list裡面的質數，並存在list中\n",
    "\n",
    "e.x. [2,3,4,5,6,7,8] -> [2,3,5,7]"
   ]
  },
  {
   "cell_type": "code",
   "execution_count": 5,
   "metadata": {},
   "outputs": [],
   "source": [
    "no2_list=[13,2,53124,5422,2511231,223,30056,487]\n",
    "\n"
   ]
  },
  {
   "attachments": {},
   "cell_type": "markdown",
   "metadata": {},
   "source": [
    "#### 第三題（10分）\n",
    "建立一個1~100的list（no3_list)，並「依序」用下列規則依序取代no3_list裡的數值，最後再將結果印出來\n",
    "\n",
    "a.若個位數字為2，用\"a\"取代\n",
    "\n",
    "b.若是除3的餘數為2，用\"b\"取代"
   ]
  },
  {
   "cell_type": "code",
   "execution_count": null,
   "metadata": {},
   "outputs": [],
   "source": []
  },
  {
   "attachments": {},
   "cell_type": "markdown",
   "metadata": {},
   "source": [
    "#### 第四題（10分）\n",
    "請找出no4_list內兩個數字的最小公倍數\n",
    "\n",
    "e.x. [21,54] -> 378"
   ]
  },
  {
   "cell_type": "code",
   "execution_count": null,
   "metadata": {},
   "outputs": [],
   "source": [
    "no4_list=[201,327]"
   ]
  },
  {
   "attachments": {},
   "cell_type": "markdown",
   "metadata": {},
   "source": [
    "#### 第五題（10分）\n",
    "找出所有no5_list中，相加會等於10的「數字對」，並將結果存成list in list\n",
    "\n",
    "e.x. [3,7,5,2,12,-2] -> [[3,7],[12,-2]]"
   ]
  },
  {
   "cell_type": "code",
   "execution_count": 3,
   "metadata": {},
   "outputs": [],
   "source": [
    "no5_list = [8,3,5,7,12,3,4,5,5,7,2,11,15,-3,-1,0,10,2,9]"
   ]
  }
 ],
 "metadata": {
  "kernelspec": {
   "display_name": "Python 3 (ipykernel)",
   "language": "python",
   "name": "python3"
  },
  "language_info": {
   "codemirror_mode": {
    "name": "ipython",
    "version": 3
   },
   "file_extension": ".py",
   "mimetype": "text/x-python",
   "name": "python",
   "nbconvert_exporter": "python",
   "pygments_lexer": "ipython3",
   "version": "3.9.9"
  }
 },
 "nbformat": 4,
 "nbformat_minor": 4
}
