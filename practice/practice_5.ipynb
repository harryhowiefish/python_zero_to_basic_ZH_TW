{
 "cells": [
  {
   "cell_type": "markdown",
   "metadata": {
    "id": "wB3Wmn5jW5cu"
   },
   "source": [
    "#### 第一題(難度☆☆★) （25分）\n",
    "印出no1_list裡各個數值開根號，四捨五入到小數點第2位的數值"
   ]
  },
  {
   "cell_type": "code",
   "execution_count": 1,
   "metadata": {
    "colab": {
     "base_uri": "https://localhost:8080/"
    },
    "executionInfo": {
     "elapsed": 664,
     "status": "ok",
     "timestamp": 1637575358989,
     "user": {
      "displayName": "林允涵Harry Lin",
      "photoUrl": "https://lh3.googleusercontent.com/a/default-user=s64",
      "userId": "04254809937206892399"
     },
     "user_tz": -480
    },
    "id": "n-Rr6ltKW5cu",
    "outputId": "0a7260bd-e2a7-45a1-d412-688be9e6887b"
   },
   "outputs": [],
   "source": [
    "no1_list=[0,13,2,53124,5422,1231,223,30056]"
   ]
  },
  {
   "cell_type": "markdown",
   "metadata": {
    "id": "csCCrK3NW5cw"
   },
   "source": [
    "#### 第二題(難度☆☆★)（25分）\n",
    "- 若no2_list的平均超過60，印出\"不調分\"\n",
    "- 若no2_list的平均低於60，則印出各個數值開根號乘10後的結果"
   ]
  },
  {
   "cell_type": "code",
   "execution_count": 4,
   "metadata": {
    "colab": {
     "base_uri": "https://localhost:8080/"
    },
    "executionInfo": {
     "elapsed": 267,
     "status": "ok",
     "timestamp": 1637575583678,
     "user": {
      "displayName": "林允涵Harry Lin",
      "photoUrl": "https://lh3.googleusercontent.com/a/default-user=s64",
      "userId": "04254809937206892399"
     },
     "user_tz": -480
    },
    "id": "Y7hXhBToW5cw",
    "outputId": "e4d36fa5-b45a-44a3-97a4-b748f6b586b6"
   },
   "outputs": [],
   "source": [
    "no2_list=[80,33,54,48,10,50]"
   ]
  },
  {
   "cell_type": "markdown",
   "metadata": {
    "id": "j9KS2ZEtW5cx"
   },
   "source": [
    "#### 第三題(難度☆★★)（20分）\n",
    "移除no3_dict裡面「自然」的這個項目，並加入以下三組資料\n",
    "1. 物理  Physic\n",
    "2. 化學 Chemistry\n",
    "3. 生物 Biology"
   ]
  },
  {
   "cell_type": "code",
   "execution_count": 6,
   "metadata": {
    "colab": {
     "base_uri": "https://localhost:8080/"
    },
    "executionInfo": {
     "elapsed": 274,
     "status": "ok",
     "timestamp": 1637575629885,
     "user": {
      "displayName": "林允涵Harry Lin",
      "photoUrl": "https://lh3.googleusercontent.com/a/default-user=s64",
      "userId": "04254809937206892399"
     },
     "user_tz": -480
    },
    "id": "_OILTjaeW5cy",
    "outputId": "5c3a0eb9-3129-49a3-923f-31f0058c1797"
   },
   "outputs": [
    {
     "data": {
      "text/plain": [
       "{'國文': 'Chinese',\n",
       " '數學': 'Math',\n",
       " '社會': 'Social Studies',\n",
       " '自然': 'Science',\n",
       " '英文': 'English'}"
      ]
     },
     "execution_count": 6,
     "metadata": {},
     "output_type": "execute_result"
    }
   ],
   "source": [
    "no3_key=['國文','數學','自然','社會','英文']\n",
    "no3_value=['Chinese','Math','Science','Social Studies','English']\n",
    "no3_dict = dict(zip(no3_key,no3_value))"
   ]
  },
  {
   "cell_type": "markdown",
   "metadata": {
    "id": "N4IC1rEaW5cz"
   },
   "source": [
    "#### 第四題(難度☆★★)（20分）\n",
    "請檢查no4_num是否為質數，若為質數則印出true，不為質數則印false"
   ]
  },
  {
   "cell_type": "code",
   "execution_count": 11,
   "metadata": {
    "colab": {
     "base_uri": "https://localhost:8080/"
    },
    "executionInfo": {
     "elapsed": 1990,
     "status": "ok",
     "timestamp": 1637576243467,
     "user": {
      "displayName": "林允涵Harry Lin",
      "photoUrl": "https://lh3.googleusercontent.com/a/default-user=s64",
      "userId": "04254809937206892399"
     },
     "user_tz": -480
    },
    "id": "8Tc2dxt2W5c0",
    "outputId": "31be697d-5b95-49b9-8112-643ba5b03f86"
   },
   "outputs": [
    {
     "data": {
      "text/plain": [
       "[1, 12359381]"
      ]
     },
     "execution_count": 11,
     "metadata": {},
     "output_type": "execute_result"
    }
   ],
   "source": [
    "no4_num=1235931"
   ]
  },
  {
   "cell_type": "markdown",
   "metadata": {
    "id": "Z6nhEOeAW5c1"
   },
   "source": [
    "#### 第五題(難度★★★)（10分）\n",
    "建立一個1~100的no5_list，並用下列規則依序取代no5_list裡的數值，最後再將結果印出來\n",
    "\n",
    "a.若為偶數，用字母\"a\"取代\n",
    "\n",
    "b.若是除3的餘數為2，用字母\"b\"取代"
   ]
  },
  {
   "cell_type": "code",
   "execution_count": null,
   "metadata": {
    "colab": {
     "base_uri": "https://localhost:8080/"
    },
    "executionInfo": {
     "elapsed": 3,
     "status": "ok",
     "timestamp": 1637576495511,
     "user": {
      "displayName": "林允涵Harry Lin",
      "photoUrl": "https://lh3.googleusercontent.com/a/default-user=s64",
      "userId": "04254809937206892399"
     },
     "user_tz": -480
    },
    "id": "S-q0OyhNW5c2",
    "outputId": "a84e3117-1e95-410d-8a28-bb3063e2fad7"
   },
   "outputs": [],
   "source": [
    " "
   ]
  }
 ],
 "metadata": {
  "colab": {
   "name": "Test_01.ipynb",
   "provenance": []
  },
  "kernelspec": {
   "display_name": "Python 3",
   "language": "python",
   "name": "python3"
  },
  "language_info": {
   "codemirror_mode": {
    "name": "ipython",
    "version": 3
   },
   "file_extension": ".py",
   "mimetype": "text/x-python",
   "name": "python",
   "nbconvert_exporter": "python",
   "pygments_lexer": "ipython3",
   "version": "3.6.5"
  }
 },
 "nbformat": 4,
 "nbformat_minor": 2
}
