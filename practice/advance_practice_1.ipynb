{
 "cells": [
  {
   "attachments": {},
   "cell_type": "markdown",
   "metadata": {
    "tags": []
   },
   "source": [
    "#### 第一題（20分）\n",
    "把no1_data為某家店每天的販售紀錄，<u>每天記錄的次數不定</u>\n",
    "\n",
    "日期之間的數字加總及為前面日期當日的銷售總額\n",
    "請將每天的銷售總額存為dictionary （key為日期、value為總額）"
   ]
  },
  {
   "cell_type": "code",
   "execution_count": 3,
   "metadata": {},
   "outputs": [
    {
     "name": "stdout",
     "output_type": "stream",
     "text": [
      "input:  ['0201', 1, 2, 5, '0202', 3, 3]\n",
      "output:  {'0201': 8, '0202': 6}\n"
     ]
    }
   ],
   "source": [
    "## 輸入輸出範例\n",
    "example_input = ['0201',1,2,5,'0202',3,3]\n",
    "example_output = {'0201':8,'0202':6}\n",
    "print('input: ',example_input)\n",
    "print('output: ',example_output)\n"
   ]
  },
  {
   "cell_type": "code",
   "execution_count": 6,
   "metadata": {},
   "outputs": [],
   "source": [
    "no1_data = ['0315',23,4239,3129,224,'0316',13,65,312,'0317',1203,5423,4,23]"
   ]
  },
  {
   "attachments": {},
   "cell_type": "markdown",
   "metadata": {
    "tags": []
   },
   "source": [
    "#### 第二題（20分）\n",
    "計算no2_text每個字（不是字母）出現的次數，把它存到dictionary中"
   ]
  },
  {
   "cell_type": "code",
   "execution_count": 8,
   "metadata": {},
   "outputs": [
    {
     "name": "stdout",
     "output_type": "stream",
     "text": [
      "input:  i think therefore i am\n",
      "output:  {'i': 2, 'think': 1, 'therefore': 1, 'am': 1}\n"
     ]
    }
   ],
   "source": [
    "example_input = 'i think therefore i am'\n",
    "example_output = {'i':2,'think':1,'therefore':1,'am':1}\n",
    "print('input: ',example_input)\n",
    "print('output: ',example_output)"
   ]
  },
  {
   "cell_type": "code",
   "execution_count": 7,
   "metadata": {},
   "outputs": [],
   "source": [
    "no2_text = 'she sells seashells by the seashore the shells she sells are seashells I’m sure so if she sells seashells on the seashore then I’m sure she sells seashore shells'"
   ]
  },
  {
   "attachments": {},
   "cell_type": "markdown",
   "metadata": {},
   "source": [
    "#### 第三題（10分）\n",
    "\n",
    "檢查no3_number是否為質數，如果是則將no3_number印出來\n",
    "\n",
    "如果不是，則移除數字中第一位數字（最左邊） \n",
    "\n",
    "並再檢查一次這個新的數值是否為為質數，如果是則將這組數字印出來\n",
    "\n",
    "如果不是，則移除數字中最後一位數字（最右邊） \n",
    "\n",
    "重複上述步驟，直到no3_number為質數為止，或是<u><b>只剩一位數時</u></b>將那個數字印出來"
   ]
  },
  {
   "cell_type": "code",
   "execution_count": 5,
   "metadata": {},
   "outputs": [
    {
     "name": "stdout",
     "output_type": "stream",
     "text": [
      "example1: input = 123, output = 23\n",
      "example1: input = 1243, output = 4\n"
     ]
    }
   ],
   "source": [
    "print('example1: input = 123, output = 23')\n",
    "print('example2: input = 1243, output = 4')"
   ]
  },
  {
   "cell_type": "code",
   "execution_count": 10,
   "metadata": {},
   "outputs": [],
   "source": [
    "no3_number = 337269"
   ]
  },
  {
   "cell_type": "code",
   "execution_count": null,
   "metadata": {},
   "outputs": [],
   "source": []
  }
 ],
 "metadata": {
  "kernelspec": {
   "display_name": "Python 3 (ipykernel)",
   "language": "python",
   "name": "python3"
  },
  "language_info": {
   "codemirror_mode": {
    "name": "ipython",
    "version": 3
   },
   "file_extension": ".py",
   "mimetype": "text/x-python",
   "name": "python",
   "nbconvert_exporter": "python",
   "pygments_lexer": "ipython3",
   "version": "3.9.9"
  }
 },
 "nbformat": 4,
 "nbformat_minor": 4
}
