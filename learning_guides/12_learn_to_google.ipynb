{
 "cells": [
  {
   "cell_type": "markdown",
   "metadata": {},
   "source": [
    "# Learn to google\n",
    "因為不可能在課堂中教完所有套件的功能，因此請多多利用google來學習（建議可以用英文就用英文查詢）\n",
    "\n",
    "學習資源以：知乎、stackoverflow、官方文件優先參考，CSDN、其他部落格品質比較參差不齊，但多數情況下還是可以參考利用\n",
    "\n",
    "在寫code的過程中會遇到兩種狀況：\n",
    "\n",
    "1.我知道function名字是什麼，但我忘記怎麼用\n",
    "\n",
    "2.我知道我想要做什麼事情，但是我不知道什麼function才做得到\n",
    "\n",
    "下面會針對這兩種狀況各舉幾個例子，請自行google想辦法完成問題"
   ]
  },
  {
   "cell_type": "markdown",
   "metadata": {},
   "source": [
    "### 1.我知道function名字是什麼，但我忘記怎麼用"
   ]
  },
  {
   "cell_type": "code",
   "execution_count": 64,
   "metadata": {},
   "outputs": [
    {
     "name": "stdout",
     "output_type": "stream",
     "text": [
      "小明\n"
     ]
    }
   ],
   "source": [
    "#示範題1 利用random套件包裡的random.choice從name_list隨機取出一個項目\n",
    "import random\n",
    "\n",
    "name_list = ['小明','小華','小美']\n",
    "\n",
    "print(random.choice(name_list))"
   ]
  },
  {
   "cell_type": "markdown",
   "metadata": {},
   "source": [
    "#### Homework 第一題\n",
    "利用np.argsort找出num_list中第5大數值的在原陣列裡的位置"
   ]
  },
  {
   "cell_type": "code",
   "execution_count": 28,
   "metadata": {},
   "outputs": [
    {
     "data": {
      "text/plain": [
       "array([80, 91, 37, 53,  2, 88, 24, 26, 99, 11])"
      ]
     },
     "execution_count": 28,
     "metadata": {},
     "output_type": "execute_result"
    }
   ],
   "source": [
    "num_list = np.random.randint(0,100,10)\n",
    "num_list"
   ]
  },
  {
   "cell_type": "markdown",
   "metadata": {},
   "source": [
    "#### Homework 第二題\n",
    "用groupby.mean()計算每個人的平均成績\n"
   ]
  },
  {
   "cell_type": "code",
   "execution_count": 29,
   "metadata": {},
   "outputs": [
    {
     "data": {
      "text/html": [
       "<div>\n",
       "<style scoped>\n",
       "    .dataframe tbody tr th:only-of-type {\n",
       "        vertical-align: middle;\n",
       "    }\n",
       "\n",
       "    .dataframe tbody tr th {\n",
       "        vertical-align: top;\n",
       "    }\n",
       "\n",
       "    .dataframe thead th {\n",
       "        text-align: right;\n",
       "    }\n",
       "</style>\n",
       "<table border=\"1\" class=\"dataframe\">\n",
       "  <thead>\n",
       "    <tr style=\"text-align: right;\">\n",
       "      <th></th>\n",
       "      <th>名字</th>\n",
       "      <th>成績</th>\n",
       "    </tr>\n",
       "  </thead>\n",
       "  <tbody>\n",
       "    <tr>\n",
       "      <th>0</th>\n",
       "      <td>小明</td>\n",
       "      <td>77</td>\n",
       "    </tr>\n",
       "    <tr>\n",
       "      <th>1</th>\n",
       "      <td>小華</td>\n",
       "      <td>59</td>\n",
       "    </tr>\n",
       "    <tr>\n",
       "      <th>2</th>\n",
       "      <td>小美</td>\n",
       "      <td>96</td>\n",
       "    </tr>\n",
       "    <tr>\n",
       "      <th>3</th>\n",
       "      <td>小明</td>\n",
       "      <td>66</td>\n",
       "    </tr>\n",
       "    <tr>\n",
       "      <th>4</th>\n",
       "      <td>小華</td>\n",
       "      <td>88</td>\n",
       "    </tr>\n",
       "    <tr>\n",
       "      <th>5</th>\n",
       "      <td>小美</td>\n",
       "      <td>73</td>\n",
       "    </tr>\n",
       "    <tr>\n",
       "      <th>6</th>\n",
       "      <td>小明</td>\n",
       "      <td>96</td>\n",
       "    </tr>\n",
       "    <tr>\n",
       "      <th>7</th>\n",
       "      <td>小華</td>\n",
       "      <td>80</td>\n",
       "    </tr>\n",
       "    <tr>\n",
       "      <th>8</th>\n",
       "      <td>小美</td>\n",
       "      <td>52</td>\n",
       "    </tr>\n",
       "  </tbody>\n",
       "</table>\n",
       "</div>"
      ],
      "text/plain": [
       "   名字  成績\n",
       "0  小明  77\n",
       "1  小華  59\n",
       "2  小美  96\n",
       "3  小明  66\n",
       "4  小華  88\n",
       "5  小美  73\n",
       "6  小明  96\n",
       "7  小華  80\n",
       "8  小美  52"
      ]
     },
     "execution_count": 29,
     "metadata": {},
     "output_type": "execute_result"
    }
   ],
   "source": [
    "import pandas as pd\n",
    "df = pd.DataFrame({'名字' : ['小明', '小華', '小美', '小明',\n",
    "                      '小華', '小美','小明', '小華', '小美'],\n",
    "                   '成績' : np.random.randint(50,100,9)})\n",
    "df"
   ]
  },
  {
   "cell_type": "markdown",
   "metadata": {},
   "source": [
    "### 2.我知道我想要做什麼事情，但是我不知道什麼function才做得到"
   ]
  },
  {
   "cell_type": "code",
   "execution_count": 68,
   "metadata": {},
   "outputs": [],
   "source": [
    "#示範題2 把zip_code_dict裡面的key跟value互換 （用數字查名字 >> 用名字查數字）\n",
    "zip_code = [100,103,104,105,106,108,110,111,112,114,115,116]\n",
    "area_name = ['台北市中正區','台北市大同區','台北市中山區','台北市松山區','台北市大安區','台北市萬華區',\n",
    "             '台北市信義區','台北市士林區','台北市北投區','台北市內湖區','台北市南港區','台北市文山區']\n",
    "zip_code_dict = dict(zip(zip_code,area_name))"
   ]
  },
  {
   "cell_type": "markdown",
   "metadata": {},
   "source": [
    "#### Homework 第三題\n",
    "把text內的所有大寫字母改成小寫"
   ]
  },
  {
   "cell_type": "code",
   "execution_count": null,
   "metadata": {},
   "outputs": [],
   "source": [
    "text = 'Hello World! Do NOT individually replace EACH oF the DIFFERENT CHaracTERs, THanK yoU!'"
   ]
  },
  {
   "cell_type": "markdown",
   "metadata": {},
   "source": [
    "#### Homework 第四題\n",
    "上次提到datetime的時間差只能以天呈現\n",
    "\n",
    "請找別的方式用年、月、日的方式呈現 （去找套件解決不要自己算）\n",
    "\n",
    "第一次世界大戰結束~第二次世界大戰開始間隔多久？"
   ]
  },
  {
   "cell_type": "code",
   "execution_count": null,
   "metadata": {},
   "outputs": [],
   "source": []
  },
  {
   "cell_type": "markdown",
   "metadata": {},
   "source": [
    "#### Homework 第五題\n",
    "將工務段、方向、詳細類群做one hot encoding（一位有效編碼 )"
   ]
  },
  {
   "cell_type": "code",
   "execution_count": 33,
   "metadata": {},
   "outputs": [],
   "source": [
    "rdkill_data = pd.read_csv('roadkill_data.csv',encoding = \"utf-8\")"
   ]
  }
 ],
 "metadata": {
  "kernelspec": {
   "display_name": "Python 3 (ipykernel)",
   "language": "python",
   "name": "python3"
  },
  "language_info": {
   "codemirror_mode": {
    "name": "ipython",
    "version": 3
   },
   "file_extension": ".py",
   "mimetype": "text/x-python",
   "name": "python",
   "nbconvert_exporter": "python",
   "pygments_lexer": "ipython3",
   "version": "3.9.9"
  }
 },
 "nbformat": 4,
 "nbformat_minor": 4
}
