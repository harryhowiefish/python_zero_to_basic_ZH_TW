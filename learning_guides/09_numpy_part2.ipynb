{
 "cells": [
  {
   "cell_type": "markdown",
   "metadata": {
    "colab_type": "text",
    "id": "jAvY7jISjR6M"
   },
   "source": [
    "## Numpy part2\n",
    "#### 各種不同numpy函式\n",
    "\n",
    "所有內容包含：\n",
    "- **.shape** 檢查矩陣的尺寸/形狀\n",
    "- **np.mean()** 將陣列裡的數字取平均\n",
    "- **np.sum()** 將陣列裡的數字加總\n",
    "- **np.max ()** 取出陣列中最大值\n",
    "- **np.argmax ()** 找出陣列中最大值的位置\n",
    "- **np.random.random** 指定特定shape的大小，用亂數值將它填滿\n",
    "- **np.random.randint** 可以指定數值大小跟形狀，並用符合區間的亂數的正整數填滿\n",
    "- np.array比大小\n",
    "- 更改np.array的數值\n",
    "- **.reshape()** : 改變np.array的形狀\n",
    "- -1在reshape時的含義\n",
    "- **np.append()** :加入一個item到np.array裡\n",
    "- **np.concatenate()** :合併兩個np.array\n",
    "- **np.delete()** :刪除項目(index而非value）"
   ]
  },
  {
   "cell_type": "code",
   "execution_count": 92,
   "metadata": {},
   "outputs": [],
   "source": [
    "import numpy as np"
   ]
  },
  {
   "cell_type": "code",
   "execution_count": 93,
   "metadata": {},
   "outputs": [],
   "source": [
    "M = np.array([[1,2,3],[4,5,6],[7,8,9]])\n",
    "K = np.array([1,2,3,4,5])"
   ]
  },
  {
   "cell_type": "markdown",
   "metadata": {
    "colab_type": "text",
    "id": "SHksizI_jR73"
   },
   "source": [
    "### .shape ：檢查陣列的尺寸/形狀"
   ]
  },
  {
   "cell_type": "code",
   "execution_count": 56,
   "metadata": {
    "colab": {},
    "colab_type": "code",
    "id": "V1qd2vG2jR73",
    "outputId": "7d5aad1d-bdbc-4943-f574-6d5c06b596e4"
   },
   "outputs": [
    {
     "data": {
      "text/plain": [
       "((3, 3), (5,))"
      ]
     },
     "execution_count": 56,
     "metadata": {},
     "output_type": "execute_result"
    }
   ],
   "source": [
    "M.shape, K.shape"
   ]
  },
  {
   "cell_type": "markdown",
   "metadata": {
    "colab_type": "text",
    "id": "b68s5jGljR7L"
   },
   "source": [
    "### np.mean ( ) 將陣列裡的數字取平均"
   ]
  },
  {
   "cell_type": "code",
   "execution_count": 57,
   "metadata": {
    "colab": {},
    "colab_type": "code",
    "id": "7g4rPIQejR7M",
    "outputId": "b2687344-2f52-4c11-be1f-6bbc67d8951c"
   },
   "outputs": [
    {
     "data": {
      "text/plain": [
       "4.5"
      ]
     },
     "execution_count": 57,
     "metadata": {},
     "output_type": "execute_result"
    }
   ],
   "source": [
    "#例題\n",
    "np.mean(np.arange(10))"
   ]
  },
  {
   "cell_type": "code",
   "execution_count": 95,
   "metadata": {
    "colab": {},
    "colab_type": "code",
    "id": "BtrQRO--jR7Q",
    "outputId": "c21f425b-cdf8-4247-ee62-05ae0bbb9d65"
   },
   "outputs": [
    {
     "data": {
      "text/plain": [
       "7878.166666666667"
      ]
     },
     "execution_count": 95,
     "metadata": {},
     "output_type": "execute_result"
    }
   ],
   "source": [
    "#演練\n",
    "#製作一個長度大於5的np.array，並計算他的平均值"
   ]
  },
  {
   "cell_type": "markdown",
   "metadata": {
    "colab_type": "text",
    "id": "b68s5jGljR7L"
   },
   "source": [
    "### np.sum ( ) 將陣列裡的數字加總"
   ]
  },
  {
   "cell_type": "code",
   "execution_count": 96,
   "metadata": {},
   "outputs": [
    {
     "data": {
      "text/plain": [
       "45"
      ]
     },
     "execution_count": 96,
     "metadata": {},
     "output_type": "execute_result"
    }
   ],
   "source": [
    "np.sum(np.arange(10))"
   ]
  },
  {
   "cell_type": "code",
   "execution_count": 60,
   "metadata": {},
   "outputs": [
    {
     "name": "stdout",
     "output_type": "stream",
     "text": [
      "[12 15 18]\n",
      "45\n"
     ]
    }
   ],
   "source": [
    "print(sum(M))\n",
    "print(np.sum(M))"
   ]
  },
  {
   "cell_type": "markdown",
   "metadata": {
    "colab_type": "text",
    "id": "MTFwqrtEjR7o"
   },
   "source": [
    "### np.max () 取出陣列中最大值"
   ]
  },
  {
   "cell_type": "code",
   "execution_count": 13,
   "metadata": {
    "colab": {},
    "colab_type": "code",
    "id": "wZ2CmIWjjR7q",
    "outputId": "4df84173-c78a-4ec6-fda4-bdc0d7aedf5e"
   },
   "outputs": [
    {
     "data": {
      "text/plain": [
       "10"
      ]
     },
     "execution_count": 13,
     "metadata": {},
     "output_type": "execute_result"
    }
   ],
   "source": [
    "np.max([2,5,1,3,2,10,2])"
   ]
  },
  {
   "cell_type": "markdown",
   "metadata": {
    "colab_type": "text",
    "id": "ult3FJUkjR7u"
   },
   "source": [
    "### np.argmax () 找出陣列中最大值的位置"
   ]
  },
  {
   "cell_type": "code",
   "execution_count": 97,
   "metadata": {},
   "outputs": [
    {
     "name": "stdout",
     "output_type": "stream",
     "text": [
      "5\n"
     ]
    }
   ],
   "source": [
    "print(np.argmax([2,5,1,3,2,10,2]))"
   ]
  },
  {
   "cell_type": "code",
   "execution_count": 98,
   "metadata": {
    "colab": {},
    "colab_type": "code",
    "id": "3e0b5CJkjR7x",
    "outputId": "5968e6a2-2050-40ba-bbcc-f23d451da07f"
   },
   "outputs": [
    {
     "name": "stdout",
     "output_type": "stream",
     "text": [
      "8\n",
      "[7 8 9]\n",
      "9\n"
     ]
    }
   ],
   "source": [
    "#例題\n",
    "M = np.array([[1, 2, 3], [4, 5, 6], [7, 8, 9]])\n",
    "print(np.argmax(M))\n",
    "print(M[2])\n",
    "print(M[2,2])\n",
    "## [8//3,8%3]"
   ]
  },
  {
   "cell_type": "code",
   "execution_count": 100,
   "metadata": {
    "colab": {},
    "colab_type": "code",
    "id": "oket663xjR70",
    "outputId": "7346b6d9-7c31-4e22-bfa8-fb0efc9fd78c"
   },
   "outputs": [
    {
     "data": {
      "text/plain": [
       "232"
      ]
     },
     "execution_count": 100,
     "metadata": {},
     "output_type": "execute_result"
    }
   ],
   "source": [
    "#演練\n",
    "K=np.array([1230,32,4324,123,232,312031])\n",
    "#找出K的最大值的位置，並回傳他前一項的數值"
   ]
  },
  {
   "cell_type": "markdown",
   "metadata": {
    "colab_type": "text",
    "id": "FIQmPRXvjR76"
   },
   "source": [
    "### np.random.random 指定特定shape的大小，用亂數值將它填滿"
   ]
  },
  {
   "cell_type": "code",
   "execution_count": 158,
   "metadata": {
    "colab": {},
    "colab_type": "code",
    "id": "VT7eNIaijR76",
    "outputId": "b711c42d-de09-4ca6-9909-b4679def251e"
   },
   "outputs": [
    {
     "data": {
      "text/plain": [
       "array([[0.48128909, 0.28972871, 0.46258023],\n",
       "       [0.50299193, 0.42966439, 0.20840471],\n",
       "       [0.71822947, 0.89074413, 0.53093465]])"
      ]
     },
     "execution_count": 158,
     "metadata": {},
     "output_type": "execute_result"
    }
   ],
   "source": [
    "M = np.random.random(size=(3,3))\n",
    "M"
   ]
  },
  {
   "cell_type": "markdown",
   "metadata": {
    "colab_type": "text",
    "id": "QJwHfv3jjR8A"
   },
   "source": [
    "### np.random.randint 可以指定數值大小跟形狀，並用符合區間的亂數的正整數填滿"
   ]
  },
  {
   "cell_type": "code",
   "execution_count": 152,
   "metadata": {
    "colab": {},
    "colab_type": "code",
    "id": "zSml2Ad3jR8A",
    "outputId": "7b527349-025f-4811-c670-0bed6c4fae3c"
   },
   "outputs": [
    {
     "data": {
      "text/plain": [
       "array([[4, 9],\n",
       "       [3, 4]])"
      ]
     },
     "execution_count": 152,
     "metadata": {},
     "output_type": "execute_result"
    }
   ],
   "source": [
    "np.random.randint(0,10,(2,2))"
   ]
  },
  {
   "cell_type": "markdown",
   "metadata": {
    "colab_type": "text",
    "id": "WjKaKAm0jR8E"
   },
   "source": [
    "### 特殊np.array功能\n",
    "直接對np.array應用判斷式選出 e.x.M 矩陣中大於 3 的元素"
   ]
  },
  {
   "cell_type": "code",
   "execution_count": 154,
   "metadata": {
    "colab": {},
    "colab_type": "code",
    "id": "7ijpUJG6jR8F",
    "outputId": "644883b1-024c-4b31-da7e-cdb7cab53b20"
   },
   "outputs": [
    {
     "data": {
      "text/plain": [
       "array([[ True, False, False],\n",
       "       [ True,  True, False],\n",
       "       [False, False,  True]])"
      ]
     },
     "execution_count": 154,
     "metadata": {},
     "output_type": "execute_result"
    }
   ],
   "source": [
    "M>0.5"
   ]
  },
  {
   "cell_type": "code",
   "execution_count": 155,
   "metadata": {
    "colab": {},
    "colab_type": "code",
    "id": "aGns3P82jR8G",
    "outputId": "f2b9bfe1-59eb-46a0-8aaf-a694eb1a5423"
   },
   "outputs": [
    {
     "data": {
      "text/plain": [
       "array([0.89823052, 0.92538348, 0.64482573, 0.90954248])"
      ]
     },
     "execution_count": 155,
     "metadata": {},
     "output_type": "execute_result"
    }
   ],
   "source": [
    "#例題\n",
    "M[M>0.5]"
   ]
  },
  {
   "cell_type": "code",
   "execution_count": 160,
   "metadata": {
    "colab": {},
    "colab_type": "code",
    "id": "wOPFO7qsjR8I",
    "outputId": "bd041d13-be0b-4309-e094-3847f872bbf6"
   },
   "outputs": [
    {
     "name": "stdout",
     "output_type": "stream",
     "text": [
      "[[3. 7. 1.]\n",
      " [2. 4. 5.]\n",
      " [8. 4. 2.]]\n"
     ]
    },
    {
     "data": {
      "text/plain": [
       "array([2., 4., 8., 4., 2.])"
      ]
     },
     "execution_count": 160,
     "metadata": {},
     "output_type": "execute_result"
    }
   ],
   "source": [
    "#演練\n",
    "M = np.random.random(size=(3,3))\n",
    "M = np.round(M*10)\n",
    "print(M)\n",
    "#找出M陣列中所有偶數的項目"
   ]
  },
  {
   "cell_type": "markdown",
   "metadata": {
    "colab_type": "text",
    "id": "tbZRwhhnjR8K"
   },
   "source": [
    "### 可以任意更改np.array裡面的數值"
   ]
  },
  {
   "cell_type": "code",
   "execution_count": 161,
   "metadata": {
    "colab": {},
    "colab_type": "code",
    "id": "Q4HbVqBKjR8L",
    "outputId": "066b458d-e17d-403d-f30a-eb6598276779"
   },
   "outputs": [
    {
     "data": {
      "text/plain": [
       "array([[100.,   7.,   1.],\n",
       "       [  2.,   4.,   5.],\n",
       "       [  8.,   4.,   2.]])"
      ]
     },
     "execution_count": 161,
     "metadata": {},
     "output_type": "execute_result"
    }
   ],
   "source": [
    "M[0][0]=100\n",
    "M"
   ]
  },
  {
   "cell_type": "code",
   "execution_count": 162,
   "metadata": {
    "colab": {},
    "colab_type": "code",
    "id": "JGHTAXdPjR8O",
    "outputId": "7cab1c1c-1f4a-4072-b8f2-f742f19a5316"
   },
   "outputs": [
    {
     "data": {
      "text/plain": [
       "array([[0., 0., 1.],\n",
       "       [2., 4., 5.],\n",
       "       [0., 4., 2.]])"
      ]
     },
     "execution_count": 162,
     "metadata": {},
     "output_type": "execute_result"
    }
   ],
   "source": [
    "M[M>5]=0\n",
    "M"
   ]
  },
  {
   "cell_type": "markdown",
   "metadata": {
    "colab_type": "text",
    "id": "60QIuvjvjR8Q"
   },
   "source": [
    "### .reshape() : 改變np.array的形狀"
   ]
  },
  {
   "cell_type": "code",
   "execution_count": 164,
   "metadata": {
    "colab": {},
    "colab_type": "code",
    "id": "Vg6zLQgojR8R",
    "outputId": "30f8368e-f2b3-4186-fce8-21664b09d51b"
   },
   "outputs": [
    {
     "name": "stdout",
     "output_type": "stream",
     "text": [
      "[[ 0  1  2]\n",
      " [ 3  4  5]\n",
      " [ 6  7  8]\n",
      " [ 9 10 11]\n",
      " [12 13 14]\n",
      " [15 16 17]\n",
      " [18 19 20]\n",
      " [21 22 23]\n",
      " [24 25 26]\n",
      " [27 28 29]]\n",
      "[ 0  1  2  3  4  5  6  7  8  9 10 11 12 13 14 15 16 17 18 19 20 21 22 23\n",
      " 24 25 26 27 28 29]\n"
     ]
    }
   ],
   "source": [
    "a = np.arange(30)\n",
    "print(a.reshape((10,3)))\n",
    "print(a)"
   ]
  },
  {
   "cell_type": "markdown",
   "metadata": {
    "colab_type": "text",
    "id": "YrZ4xWvsjR8T"
   },
   "source": [
    "或是直接指定.shape的結果也可以達到一樣的效果"
   ]
  },
  {
   "cell_type": "code",
   "execution_count": 166,
   "metadata": {
    "colab": {},
    "colab_type": "code",
    "id": "J2POnFyAjR8U"
   },
   "outputs": [],
   "source": [
    "a.shape = (3,10)"
   ]
  },
  {
   "cell_type": "code",
   "execution_count": 167,
   "metadata": {
    "colab": {},
    "colab_type": "code",
    "id": "OFQJa8uojR8X",
    "outputId": "4d505c75-7822-4778-f6dd-293ef6919104"
   },
   "outputs": [
    {
     "data": {
      "text/plain": [
       "array([[ 0,  1,  2,  3,  4,  5,  6,  7,  8,  9],\n",
       "       [10, 11, 12, 13, 14, 15, 16, 17, 18, 19],\n",
       "       [20, 21, 22, 23, 24, 25, 26, 27, 28, 29]])"
      ]
     },
     "execution_count": 167,
     "metadata": {},
     "output_type": "execute_result"
    }
   ],
   "source": [
    "# a.shape = (3,10)\n",
    "a"
   ]
  },
  {
   "cell_type": "markdown",
   "metadata": {
    "colab_type": "text",
    "id": "yZ2ABpyBjR8Z"
   },
   "source": [
    "#### -1 在np.array的shape應用時有很特別的用途，代表的是任何需要的數值（被動值） "
   ]
  },
  {
   "cell_type": "code",
   "execution_count": 169,
   "metadata": {
    "colab": {},
    "colab_type": "code",
    "id": "MwtBMe0IjR8Z",
    "outputId": "143ed03b-3df7-4962-99dd-7164bccac90a"
   },
   "outputs": [
    {
     "name": "stdout",
     "output_type": "stream",
     "text": [
      "(5, 3, 2)\n"
     ]
    },
    {
     "data": {
      "text/plain": [
       "array([[[ 0,  1],\n",
       "        [ 2,  3],\n",
       "        [ 4,  5]],\n",
       "\n",
       "       [[ 6,  7],\n",
       "        [ 8,  9],\n",
       "        [10, 11]],\n",
       "\n",
       "       [[12, 13],\n",
       "        [14, 15],\n",
       "        [16, 17]],\n",
       "\n",
       "       [[18, 19],\n",
       "        [20, 21],\n",
       "        [22, 23]],\n",
       "\n",
       "       [[24, 25],\n",
       "        [26, 27],\n",
       "        [28, 29]]])"
      ]
     },
     "execution_count": 169,
     "metadata": {},
     "output_type": "execute_result"
    }
   ],
   "source": [
    "#範例\n",
    "a.shape = (5,3,-1)\n",
    "print(a.shape)\n",
    "a"
   ]
  },
  {
   "cell_type": "code",
   "execution_count": 170,
   "metadata": {
    "colab": {},
    "colab_type": "code",
    "id": "bsdsW8Y4jR8b",
    "outputId": "5a30dc0e-f493-4997-b272-11ce4e4a832a"
   },
   "outputs": [
    {
     "data": {
      "text/plain": [
       "(15, 2, 1)"
      ]
     },
     "execution_count": 170,
     "metadata": {},
     "output_type": "execute_result"
    }
   ],
   "source": [
    "#演練\n",
    "#將a改成形狀為(15,2,1)的陣列"
   ]
  },
  {
   "cell_type": "markdown",
   "metadata": {
    "colab_type": "text",
    "id": "AKl5k09WjR8c"
   },
   "source": [
    "### np.append() :加入一個item到np.array裡"
   ]
  },
  {
   "cell_type": "code",
   "execution_count": 171,
   "metadata": {
    "colab": {},
    "colab_type": "code",
    "id": "ErjRvqjBjR8d",
    "outputId": "9d8d03e6-ab74-4494-9858-b63dda0933b0"
   },
   "outputs": [
    {
     "data": {
      "text/plain": [
       "array([  1230,     32,   4324,    123,    232, 312031,     10])"
      ]
     },
     "execution_count": 171,
     "metadata": {},
     "output_type": "execute_result"
    }
   ],
   "source": [
    "np.append(K,10)"
   ]
  },
  {
   "cell_type": "code",
   "execution_count": 174,
   "metadata": {
    "colab": {},
    "colab_type": "code",
    "id": "9P_37aX-jR8h",
    "outputId": "bc3ce927-e260-415b-c2c8-1318acdf2464"
   },
   "outputs": [
    {
     "data": {
      "text/plain": [
       "array([[0., 0., 1.],\n",
       "       [2., 4., 5.],\n",
       "       [0., 4., 2.],\n",
       "       [2., 3., 4.]])"
      ]
     },
     "execution_count": 174,
     "metadata": {},
     "output_type": "execute_result"
    }
   ],
   "source": [
    "np.append(M,[[2,3,4]],axis=0)"
   ]
  },
  {
   "cell_type": "code",
   "execution_count": 175,
   "metadata": {
    "colab": {},
    "colab_type": "code",
    "id": "A5CLj2bdjR8i",
    "outputId": "19fba928-a435-420a-9f34-554a946fd1ea"
   },
   "outputs": [
    {
     "data": {
      "text/plain": [
       "array([[0., 0., 1., 2.],\n",
       "       [2., 4., 5., 3.],\n",
       "       [0., 4., 2., 4.]])"
      ]
     },
     "execution_count": 175,
     "metadata": {},
     "output_type": "execute_result"
    }
   ],
   "source": [
    "np.append(M,[[2],[3],[4]],axis=1)"
   ]
  },
  {
   "cell_type": "markdown",
   "metadata": {
    "colab_type": "text",
    "id": "U7NEp8p4jR8m"
   },
   "source": [
    "### np.concatenate() :合併兩個np.array"
   ]
  },
  {
   "cell_type": "code",
   "execution_count": 46,
   "metadata": {
    "colab": {},
    "colab_type": "code",
    "id": "FwAXemwRjR8o",
    "outputId": "6ad1e7b7-145d-44b2-a385-f0dbafd78a72"
   },
   "outputs": [
    {
     "data": {
      "text/plain": [
       "array([[0., 5., 0.],\n",
       "       [0., 1., 0.],\n",
       "       [4., 0., 0.],\n",
       "       [0., 5., 0.],\n",
       "       [0., 1., 0.],\n",
       "       [4., 0., 0.]])"
      ]
     },
     "execution_count": 46,
     "metadata": {},
     "output_type": "execute_result"
    }
   ],
   "source": [
    "np.concatenate((M,M),axis=0)"
   ]
  },
  {
   "cell_type": "code",
   "execution_count": 47,
   "metadata": {
    "colab": {},
    "colab_type": "code",
    "id": "xBymwiIqjR8r",
    "outputId": "8089d469-b5e8-4c39-9500-0c85e5474a21"
   },
   "outputs": [
    {
     "name": "stdout",
     "output_type": "stream",
     "text": [
      "(6, 3)\n",
      "(3, 6)\n"
     ]
    }
   ],
   "source": [
    "print(np.concatenate((M,M),axis=0).shape)\n",
    "print(np.concatenate((M,M),axis=1).shape)"
   ]
  },
  {
   "cell_type": "code",
   "execution_count": 48,
   "metadata": {},
   "outputs": [
    {
     "data": {
      "text/plain": [
       "array([[0., 5., 0.],\n",
       "       [0., 1., 0.],\n",
       "       [4., 0., 0.],\n",
       "       [0., 5., 0.],\n",
       "       [0., 1., 0.],\n",
       "       [4., 0., 0.]])"
      ]
     },
     "execution_count": 48,
     "metadata": {},
     "output_type": "execute_result"
    }
   ],
   "source": [
    "np.concatenate((M,M),axis=0)"
   ]
  },
  {
   "cell_type": "code",
   "execution_count": 49,
   "metadata": {},
   "outputs": [
    {
     "data": {
      "text/plain": [
       "array([[0., 5., 0., 0., 5., 0.],\n",
       "       [0., 1., 0., 0., 1., 0.],\n",
       "       [4., 0., 0., 4., 0., 0.]])"
      ]
     },
     "execution_count": 49,
     "metadata": {},
     "output_type": "execute_result"
    }
   ],
   "source": [
    "np.concatenate((M,M),axis=1)"
   ]
  },
  {
   "cell_type": "markdown",
   "metadata": {
    "colab_type": "text",
    "id": "wH2HAdvtjR8t"
   },
   "source": [
    "#### concatenate跟append的用法\n",
    "基本上可以隨機替換，但使用的難易度在不同情況會不一樣\n",
    "\n",
    "append:一維陣列的時候比較適合應用\n",
    "\n",
    "concatenate:多維陣列的時候使用"
   ]
  },
  {
   "cell_type": "markdown",
   "metadata": {
    "colab_type": "text",
    "id": "U7NEp8p4jR8m"
   },
   "source": [
    "### np.delete() :刪除項目(index而非value）"
   ]
  },
  {
   "cell_type": "code",
   "execution_count": 176,
   "metadata": {},
   "outputs": [
    {
     "data": {
      "text/plain": [
       "array([1, 3, 5, 9])"
      ]
     },
     "execution_count": 176,
     "metadata": {},
     "output_type": "execute_result"
    }
   ],
   "source": [
    "K = np.array([1,3,5,7,9])\n",
    "K = np.delete(K,3)\n",
    "K"
   ]
  },
  {
   "cell_type": "markdown",
   "metadata": {
    "colab_type": "text",
    "id": "3q0tXCTxi2On"
   },
   "source": [
    "## 練習題（答案在這份檔案最下方）"
   ]
  },
  {
   "cell_type": "code",
   "execution_count": 37,
   "metadata": {},
   "outputs": [],
   "source": [
    "#Q1找出Q1的最大值跟最小值\n",
    "Q1 = np.random.randint(1,100,(5,5))"
   ]
  },
  {
   "cell_type": "code",
   "execution_count": 33,
   "metadata": {},
   "outputs": [],
   "source": [
    "#Q2用 np.random.random 宣告一個變數Q2，x的shape為5x6的陣列 Hint：(5,6)"
   ]
  },
  {
   "cell_type": "code",
   "execution_count": 34,
   "metadata": {},
   "outputs": [],
   "source": [
    "#Q3 把Q2改成(30,)的形狀"
   ]
  },
  {
   "cell_type": "code",
   "execution_count": 71,
   "metadata": {},
   "outputs": [],
   "source": [
    "#Q4. 用零取代Q2中的最小值和最大值"
   ]
  },
  {
   "cell_type": "code",
   "execution_count": null,
   "metadata": {},
   "outputs": [],
   "source": [
    "#Q5 找出Q5最大值的「索引位置」\n",
    "Q5 = np.random.randint(1,100,(5,5))"
   ]
  },
  {
   "cell_type": "code",
   "execution_count": null,
   "metadata": {},
   "outputs": [],
   "source": [
    "#Q6 用np.random.randint製作一個Q6，shape為(5,)，其中最大值為50、最小值為7"
   ]
  },
  {
   "cell_type": "code",
   "execution_count": null,
   "metadata": {},
   "outputs": [],
   "source": [
    "#Q7 用np.random.randint製作一個Q7，shape為(5,)，其中最大值為50、平均為22"
   ]
  },
  {
   "cell_type": "code",
   "execution_count": null,
   "metadata": {},
   "outputs": [],
   "source": [
    "#Q8 將Q8內所有偶數改為零\n",
    "Q8 = np.random.randint(1,100,(5,5))"
   ]
  },
  {
   "cell_type": "code",
   "execution_count": null,
   "metadata": {},
   "outputs": [],
   "source": [
    "#Q9 用 np.random.random 做出Q9，其中的依序為[1,5,2,4,3]"
   ]
  },
  {
   "cell_type": "code",
   "execution_count": 39,
   "metadata": {},
   "outputs": [],
   "source": [
    "#Q10 合併Q10_1跟Q10_2\n",
    "Q10_1 = np.random.randint(1,100,(2,2))\n",
    "Q10_2 = np.random.randint(1,100,(1,2))"
   ]
  },
  {
   "cell_type": "markdown",
   "metadata": {
    "colab_type": "text",
    "id": "3q0tXCTxi2On"
   },
   "source": [
    "## 回家作業"
   ]
  },
  {
   "cell_type": "markdown",
   "metadata": {},
   "source": [
    "#### 第一題 no1_array最小值的「位置」\n"
   ]
  },
  {
   "cell_type": "code",
   "execution_count": 44,
   "metadata": {
    "colab": {},
    "colab_type": "code",
    "id": "nuhFcyiBjR8x"
   },
   "outputs": [],
   "source": [
    "no1_array = np.random.randint(1,100,30)"
   ]
  },
  {
   "cell_type": "markdown",
   "metadata": {},
   "source": [
    "#### 第二題  用 np.random.randint 做出no2_array，shape為（3,3），其中第一維度上每一組值的平均分別為3,4,5"
   ]
  },
  {
   "cell_type": "code",
   "execution_count": null,
   "metadata": {
    "colab_type": "text",
    "id": "WkJMCXggjR8z"
   },
   "outputs": [],
   "source": []
  },
  {
   "cell_type": "markdown",
   "metadata": {},
   "source": [
    "#### 第三題  找出no3_array的第二大值"
   ]
  },
  {
   "cell_type": "code",
   "execution_count": 46,
   "metadata": {
    "colab": {},
    "colab_type": "code",
    "id": "trRq8QaMjR8z"
   },
   "outputs": [],
   "source": [
    "no3_array = np.random.randint(1,1000,20)"
   ]
  },
  {
   "cell_type": "markdown",
   "metadata": {},
   "source": [
    "#### 第四題  數學上有個叫cumulative sum的概念，是依序將各個項目加起來 \n",
    "#### e.x. [1,2,3,4,5,6,7]  >> cumulative sum為 [1,3,6,10,15,21,28]\n",
    "#### 在不用numpy內建的cumulative sum函式下，製作一個no4_cumsum其中的值為no4_array的cumulative sum"
   ]
  },
  {
   "cell_type": "code",
   "execution_count": 42,
   "metadata": {},
   "outputs": [],
   "source": [
    "no4_array=np.random.randint(10,20,20)"
   ]
  },
  {
   "cell_type": "markdown",
   "metadata": {},
   "source": [
    "#### 第五題  用 np.random.randint 做出no5_array，shape為（5,6），其中至少包含3個3、4個4、5個5"
   ]
  },
  {
   "cell_type": "code",
   "execution_count": null,
   "metadata": {
    "colab": {},
    "colab_type": "code",
    "id": "yEfuS5z6jR81"
   },
   "outputs": [],
   "source": []
  },
  {
   "cell_type": "markdown",
   "metadata": {
    "colab_type": "text",
    "id": "3q0tXCTxi2On"
   },
   "source": [
    "## 練習題答案"
   ]
  },
  {
   "cell_type": "code",
   "execution_count": 67,
   "metadata": {},
   "outputs": [
    {
     "data": {
      "text/plain": [
       "(98, 14)"
      ]
     },
     "execution_count": 67,
     "metadata": {},
     "output_type": "execute_result"
    }
   ],
   "source": [
    "#Q1找出Q1的最大值跟最小值\n",
    "Q1 = np.random.randint(1,100,(5,5))\n",
    "np.max(Q1),np.min(Q1)"
   ]
  },
  {
   "cell_type": "code",
   "execution_count": 68,
   "metadata": {},
   "outputs": [
    {
     "data": {
      "text/plain": [
       "array([[7.05226549e-05, 2.17012295e-02, 7.02907606e-01, 6.82664488e-01,\n",
       "        9.04294291e-01, 7.96645907e-02],\n",
       "       [9.70791217e-01, 7.78914187e-01, 8.08808502e-02, 6.44073552e-01,\n",
       "        3.67409188e-01, 1.31652309e-01],\n",
       "       [2.89321604e-01, 5.58164814e-01, 7.69542952e-01, 5.59829767e-01,\n",
       "        1.55123216e-01, 5.30438094e-01],\n",
       "       [8.72809104e-01, 8.94685459e-01, 1.04250422e-01, 6.35243817e-01,\n",
       "        1.58258039e-01, 5.84990824e-01],\n",
       "       [4.29397292e-01, 8.08905091e-01, 8.91699518e-02, 8.38062142e-01,\n",
       "        6.38166042e-01, 3.32801816e-01]])"
      ]
     },
     "execution_count": 68,
     "metadata": {},
     "output_type": "execute_result"
    }
   ],
   "source": [
    "#Q2用 np.random.random 宣告一個變數Q2，x的shape為5x6的陣列 Hint：(5,6)\n",
    "Q2 = np.random.random((5,6))\n",
    "Q2"
   ]
  },
  {
   "cell_type": "code",
   "execution_count": 69,
   "metadata": {},
   "outputs": [
    {
     "data": {
      "text/plain": [
       "(30,)"
      ]
     },
     "execution_count": 69,
     "metadata": {},
     "output_type": "execute_result"
    }
   ],
   "source": [
    "#Q3 把Q2改成(30,)的形狀\n",
    "Q2 = Q2.reshape((30,))\n",
    "Q2.shape"
   ]
  },
  {
   "cell_type": "code",
   "execution_count": 70,
   "metadata": {},
   "outputs": [
    {
     "data": {
      "text/plain": [
       "array([0.        , 0.02170123, 0.70290761, 0.68266449, 0.90429429,\n",
       "       0.07966459, 0.        , 0.77891419, 0.08088085, 0.64407355,\n",
       "       0.36740919, 0.13165231, 0.2893216 , 0.55816481, 0.76954295,\n",
       "       0.55982977, 0.15512322, 0.53043809, 0.8728091 , 0.89468546,\n",
       "       0.10425042, 0.63524382, 0.15825804, 0.58499082, 0.42939729,\n",
       "       0.80890509, 0.08916995, 0.83806214, 0.63816604, 0.33280182])"
      ]
     },
     "execution_count": 70,
     "metadata": {},
     "output_type": "execute_result"
    }
   ],
   "source": [
    "#Q4. 用零取代Q2中的最小值和最大值\n",
    "Q2[np.argmin(Q2)]=0\n",
    "Q2[np.argmax(Q2)]=0\n",
    "Q2"
   ]
  },
  {
   "cell_type": "code",
   "execution_count": 74,
   "metadata": {},
   "outputs": [
    {
     "data": {
      "text/plain": [
       "(93, 93)"
      ]
     },
     "execution_count": 74,
     "metadata": {},
     "output_type": "execute_result"
    }
   ],
   "source": [
    "#Q5 找出Q5最大值的「索引位置」\n",
    "Q5 = np.random.randint(1,100,(5,5))\n",
    "np.max(Q5),Q5[np.argmax(Q5)//5,np.argmax(Q5)%5]"
   ]
  },
  {
   "cell_type": "code",
   "execution_count": 76,
   "metadata": {},
   "outputs": [
    {
     "data": {
      "text/plain": [
       "array([32, 24,  7, 50, 23])"
      ]
     },
     "execution_count": 76,
     "metadata": {},
     "output_type": "execute_result"
    }
   ],
   "source": [
    "#Q6 用np.random.randint製作一個Q6，shape為(5,)，其中最大值為50、最小值為7\n",
    "correct = False\n",
    "while correct == False:\n",
    "    Q6 = np.random.randint(5,60,(5,))\n",
    "    if np.max(Q6)==50 and np.min(Q6)==7:\n",
    "        correct = True\n",
    "Q6\n",
    "        "
   ]
  },
  {
   "cell_type": "code",
   "execution_count": 78,
   "metadata": {},
   "outputs": [
    {
     "data": {
      "text/plain": [
       "array([ 7,  7, 41,  5, 50])"
      ]
     },
     "execution_count": 78,
     "metadata": {},
     "output_type": "execute_result"
    }
   ],
   "source": [
    "#Q7 用np.random.randint製作一個Q7，shape為(5,)，其中最大值為50、平均為22\n",
    "correct = False\n",
    "while correct == False:\n",
    "    Q7 = np.random.randint(5,60,(5,))\n",
    "    if np.max(Q7)==50 and np.mean(Q7)==22:\n",
    "        correct = True\n",
    "Q7"
   ]
  },
  {
   "cell_type": "code",
   "execution_count": 79,
   "metadata": {},
   "outputs": [
    {
     "data": {
      "text/plain": [
       "array([[ 0, 25, 15, 43,  0],\n",
       "       [97,  0, 99, 75, 73],\n",
       "       [33,  0,  0,  0, 11],\n",
       "       [ 0,  0, 29, 73,  0],\n",
       "       [ 0, 49,  0,  0,  0]])"
      ]
     },
     "execution_count": 79,
     "metadata": {},
     "output_type": "execute_result"
    }
   ],
   "source": [
    "#Q8 將Q8內所有偶數改為零\n",
    "Q8 = np.random.randint(1,100,(5,5))\n",
    "Q8[Q8%2==0]=0\n",
    "Q8"
   ]
  },
  {
   "cell_type": "code",
   "execution_count": 85,
   "metadata": {},
   "outputs": [
    {
     "data": {
      "text/plain": [
       "array([False, False, False, False, False])"
      ]
     },
     "execution_count": 85,
     "metadata": {},
     "output_type": "execute_result"
    }
   ],
   "source": [
    "Q9==[1,5,2,4,3]"
   ]
  },
  {
   "cell_type": "code",
   "execution_count": 87,
   "metadata": {},
   "outputs": [
    {
     "data": {
      "text/plain": [
       "array([1, 5, 2, 4, 3])"
      ]
     },
     "execution_count": 87,
     "metadata": {},
     "output_type": "execute_result"
    }
   ],
   "source": [
    "#Q9 用 np.random.random 做出Q9，其中的依序為[1,5,2,4,3]\n",
    "correct = False\n",
    "while correct == False:\n",
    "    Q9 = np.random.randint(1,6,(5,))\n",
    "    if np.sum(Q9==[1,5,2,4,3])==5:\n",
    "        correct = True\n",
    "Q9"
   ]
  },
  {
   "cell_type": "code",
   "execution_count": 91,
   "metadata": {},
   "outputs": [
    {
     "data": {
      "text/plain": [
       "array([[89, 87],\n",
       "       [18, 31],\n",
       "       [78, 89]])"
      ]
     },
     "execution_count": 91,
     "metadata": {},
     "output_type": "execute_result"
    }
   ],
   "source": [
    "#Q10 合併Q10_1跟Q10_2\n",
    "Q10_1 = np.random.randint(1,100,(2,2))\n",
    "Q10_2 = np.random.randint(1,100,(1,2))\n",
    "np.concatenate((Q10_1,Q10_2),axis=0)"
   ]
  },
  {
   "cell_type": "code",
   "execution_count": null,
   "metadata": {},
   "outputs": [],
   "source": []
  }
 ],
 "metadata": {
  "colab": {
   "name": "session5_numpy.ipynb",
   "provenance": []
  },
  "kernelspec": {
   "display_name": "Python 3 (ipykernel)",
   "language": "python",
   "name": "python3"
  },
  "language_info": {
   "codemirror_mode": {
    "name": "ipython",
    "version": 3
   },
   "file_extension": ".py",
   "mimetype": "text/x-python",
   "name": "python",
   "nbconvert_exporter": "python",
   "pygments_lexer": "ipython3",
   "version": "3.9.10"
  }
 },
 "nbformat": 4,
 "nbformat_minor": 4
}
