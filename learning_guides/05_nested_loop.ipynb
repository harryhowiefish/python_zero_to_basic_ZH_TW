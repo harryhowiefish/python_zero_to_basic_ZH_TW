{
 "cells": [
  {
   "cell_type": "markdown",
   "metadata": {},
   "source": [
    "## Nested structure\n",
    "各種控制迴圈（if...else, while loop, for loop）都可以互相嵌入，叫做巢狀結構（nested structure)\n",
    "格式\n",
    "\n",
    "搭配nested structure 可以使用break and continue 兩種特殊功能\n",
    "\n",
    "\n",
    "if 條件一：\n",
    "\n",
    "    if 條件二：\n",
    "    \n",
    "        條件一跟條件二符合要執行的事情\n",
    "        \n",
    "    else：\n",
    "    \n",
    "        符合條件一、不符合條件二要執行的事情\n",
    "else：\n",
    "\n",
    "    不符合條件一要執行的事情"
   ]
  },
  {
   "cell_type": "code",
   "execution_count": 9,
   "metadata": {},
   "outputs": [
    {
     "name": "stdout",
     "output_type": "stream",
     "text": [
      "s\n",
      "t\n",
      "r\n",
      "1\n",
      "n\n",
      "g\n"
     ]
    }
   ],
   "source": [
    "#示範題 從頭印出\"string\"中的各個字母，若碰到i，則改印出1\n",
    "for x in \"string\":\n",
    "    # print(x)\n",
    "    if x ==\"i\":\n",
    "        print(1)\n",
    "    else:\n",
    "        print(x)"
   ]
  },
  {
   "cell_type": "code",
   "execution_count": 1,
   "metadata": {},
   "outputs": [],
   "source": [
    "#練習題 從0~100（不含100），印出所有可以被13整除的數字\n"
   ]
  },
  {
   "cell_type": "markdown",
   "metadata": {},
   "source": [
    "#### continue：跳脫「一次」迴圈\n",
    "#### break：跳脫「整個」迴圈"
   ]
  },
  {
   "cell_type": "code",
   "execution_count": 15,
   "metadata": {},
   "outputs": [
    {
     "name": "stdout",
     "output_type": "stream",
     "text": [
      "s\n",
      "t\n",
      "r\n",
      "n\n",
      "g\n"
     ]
    }
   ],
   "source": [
    "#示範題 從頭印出\"string\"中除了i的各個字母\n",
    "for x in \"string\":\n",
    "    if x == \"i\":\n",
    "        continue\n",
    "    print(x)"
   ]
  },
  {
   "cell_type": "code",
   "execution_count": 3,
   "metadata": {},
   "outputs": [
    {
     "name": "stdout",
     "output_type": "stream",
     "text": [
      "s\n",
      "t\n",
      "r\n",
      "i\n"
     ]
    }
   ],
   "source": [
    "#示範題 從頭印出\"string\"中的各個字母，直到印出i「後」停止\n",
    "for x in \"string\":\n",
    "    print(x)\n",
    "    if x == \"i\":\n",
    "        break"
   ]
  },
  {
   "cell_type": "code",
   "execution_count": 4,
   "metadata": {},
   "outputs": [],
   "source": [
    "#練習題 從頭印出\"string\"中的各個字母，直到印出i「前」停止\n",
    "\n",
    "    "
   ]
  },
  {
   "cell_type": "markdown",
   "metadata": {},
   "source": [
    "## 自訂函式（Function）\n",
    "\n",
    "之前講到print(),int()都是內建函式，如果我們自己想要設定一個函式的話要怎麼辦？\n",
    "\n",
    "def 函式名稱（輸入資料的變數名稱）：\n",
    "\n",
    "    函式要做的事情\n",
    "\n",
    "    return 函式最後要輸出的結果"
   ]
  },
  {
   "cell_type": "code",
   "execution_count": 18,
   "metadata": {},
   "outputs": [],
   "source": [
    "#示範題 製作一個計算平均的自訂函式（average），並計算[68,43,89,64,32,77,99,54,72]的平均\n",
    "def average(input_list):\n",
    "    a = sum(input_list)/len(input_list)\n",
    "    return a\n",
    "\n",
    "# average([68,43,89,64,32,77,99,54,72])"
   ]
  },
  {
   "cell_type": "code",
   "execution_count": 21,
   "metadata": {},
   "outputs": [
    {
     "data": {
      "text/plain": [
       "61.714285714285715"
      ]
     },
     "execution_count": 21,
     "metadata": {},
     "output_type": "execute_result"
    }
   ],
   "source": [
    "average([68,43,64,32,99,54,72])"
   ]
  },
  {
   "cell_type": "code",
   "execution_count": 23,
   "metadata": {},
   "outputs": [
    {
     "data": {
      "text/plain": [
       "74.16198487095663"
      ]
     },
     "execution_count": 23,
     "metadata": {},
     "output_type": "execute_result"
    }
   ],
   "source": [
    "#練習題 將「開根號乘以10」製作成自訂函式（名稱為grade_adj），並對score開根號乘以10\n",
    "score = 55\n",
    "def grade_adj(num):\n",
    "    adj = num**(0.5)*10\n",
    "    return adj\n",
    "\n",
    "\n",
    "grade_adj(score)\n",
    "\n"
   ]
  },
  {
   "cell_type": "markdown",
   "metadata": {
    "colab_type": "text",
    "id": "3q0tXCTxi2On"
   },
   "source": [
    "## 練習題（答案在這份檔案最下方）"
   ]
  },
  {
   "cell_type": "code",
   "execution_count": 1,
   "metadata": {},
   "outputs": [],
   "source": [
    "#1.0~30之間所有正整數（包含0跟30），如果可以被三整除的話要印出\"yay\"，不被三整除則直接顯示數字"
   ]
  },
  {
   "cell_type": "code",
   "execution_count": 4,
   "metadata": {},
   "outputs": [],
   "source": [
    "#2.求出number是否為質數？若不是質數則需要把其因數列印出來\n",
    "number = 1729\n"
   ]
  },
  {
   "cell_type": "code",
   "execution_count": null,
   "metadata": {},
   "outputs": [],
   "source": [
    "#3.請求出最小的x，讓x!（x階乘）會大於1e+9"
   ]
  },
  {
   "cell_type": "code",
   "execution_count": 24,
   "metadata": {},
   "outputs": [],
   "source": [
    "#4.計算並印出num_list裡面有幾個偶數有幾個奇數\n",
    "num_list=[123,21,384,30123,931,22]"
   ]
  },
  {
   "cell_type": "code",
   "execution_count": 20,
   "metadata": {},
   "outputs": [],
   "source": [
    "#5.兩個骰子，A骰為[2,4,6,8,10,12]、B骰為[2,3,5,7,11,13]，若同時骰這兩顆骰子，請列出所有可能的加總可能\n",
    "A = [2,4,6,8,10,12]\n",
    "B = [2,3,5,7,11,13]"
   ]
  },
  {
   "cell_type": "code",
   "execution_count": 21,
   "metadata": {},
   "outputs": [],
   "source": [
    "#6.印出所有小於100且是7的倍數的數字"
   ]
  },
  {
   "cell_type": "code",
   "execution_count": 22,
   "metadata": {},
   "outputs": [],
   "source": [
    "#7.印出所有小於100、且是7的倍數、但不是3的倍數的數字"
   ]
  },
  {
   "cell_type": "code",
   "execution_count": 23,
   "metadata": {},
   "outputs": [],
   "source": [
    "#8.印出num_list那個數值的3次方，若3次方的結果大於500，則印出他的2次方\n",
    "num_list=[2,3,5,7,13]"
   ]
  },
  {
   "cell_type": "code",
   "execution_count": 25,
   "metadata": {},
   "outputs": [],
   "source": [
    "#9.請求出費伯納契數列中第一個大於5000的值"
   ]
  },
  {
   "cell_type": "code",
   "execution_count": 27,
   "metadata": {},
   "outputs": [],
   "source": [
    "#10.依序印出num_list所有的數值，直到碰到第三個可以被7整除的數值\n",
    "num_list = [123,546,888,7,12,49,32,31240,3123,543,48,429,2247,102,34]"
   ]
  },
  {
   "cell_type": "markdown",
   "metadata": {},
   "source": [
    "## Homework"
   ]
  },
  {
   "cell_type": "markdown",
   "metadata": {},
   "source": [
    "#### 第一題 用巢狀for loop印出下列圖案\n",
    "\n",
    "<p>*\n",
    "<p>* * \n",
    "<p>* * * \n",
    "<p>* * * * \n",
    "<p>* * * * * "
   ]
  },
  {
   "cell_type": "code",
   "execution_count": null,
   "metadata": {},
   "outputs": [],
   "source": []
  },
  {
   "cell_type": "markdown",
   "metadata": {},
   "source": [
    "#### 第二題 用巢狀for loop印出下列文字\n",
    "<p>1\n",
    "<p>22\n",
    "<p>333\n",
    "<p>4444\n",
    "<p>55555\n",
    "<p>666666\n",
    "<p>7777777\n",
    "<p>88888888\n",
    "<p>999999999\n"
   ]
  },
  {
   "cell_type": "code",
   "execution_count": null,
   "metadata": {},
   "outputs": [],
   "source": []
  },
  {
   "cell_type": "markdown",
   "metadata": {},
   "source": [
    "#### 第三題  計算text裡面有幾個數字、幾個非數字跟幾個空白"
   ]
  },
  {
   "cell_type": "code",
   "execution_count": 25,
   "metadata": {},
   "outputs": [],
   "source": [
    "text = \"my pa55w0rd i5 123qweasd\""
   ]
  },
  {
   "cell_type": "markdown",
   "metadata": {},
   "source": [
    "#### 第四題  若text包含\"\\*\"或\"\\#\"，則印出「此筆資料需忽略」，否則直接將text直接印出來\n",
    "範例：\n",
    "<li>\"this is just a test\" >> \"this is just a test\"\n",
    "<li>\"this is just a #test\" >> \"此筆資料需要忽略\""
   ]
  },
  {
   "cell_type": "code",
   "execution_count": 18,
   "metadata": {},
   "outputs": [],
   "source": [
    "text = \"Global Citizen is a social action platform for a global generation that aims to solve the world’s biggest *challenges. \""
   ]
  },
  {
   "cell_type": "markdown",
   "metadata": {},
   "source": [
    "#### 第五題 印出num_list裡面所有無法被3 or 7 or 13整除的數字"
   ]
  },
  {
   "cell_type": "code",
   "execution_count": 19,
   "metadata": {},
   "outputs": [],
   "source": [
    "num_list = [1230523,3129314,31023123,483452545,933213,56589,2184]"
   ]
  },
  {
   "cell_type": "markdown",
   "metadata": {
    "colab_type": "text",
    "id": "3q0tXCTxi2On"
   },
   "source": [
    "## 練習題答案"
   ]
  },
  {
   "cell_type": "code",
   "execution_count": 3,
   "metadata": {},
   "outputs": [
    {
     "name": "stdout",
     "output_type": "stream",
     "text": [
      "yay\n",
      "1\n",
      "2\n",
      "yay\n",
      "4\n",
      "5\n",
      "yay\n",
      "7\n",
      "8\n",
      "yay\n",
      "10\n",
      "11\n",
      "yay\n",
      "13\n",
      "14\n",
      "yay\n",
      "16\n",
      "17\n",
      "yay\n",
      "19\n",
      "20\n",
      "yay\n",
      "22\n",
      "23\n",
      "yay\n",
      "25\n",
      "26\n",
      "yay\n",
      "28\n",
      "29\n",
      "yay\n"
     ]
    }
   ],
   "source": [
    "#1.0~30之間所有正整數（包含0跟30），如果可以被三整除的話要印出\"yay\"，不被三整除則直接顯示數字\n",
    "for i in range(0,31):\n",
    "    if i%3==0 and i!=0:\n",
    "        print('yay')\n",
    "    else:\n",
    "        print(i)"
   ]
  },
  {
   "cell_type": "code",
   "execution_count": 8,
   "metadata": {},
   "outputs": [
    {
     "name": "stdout",
     "output_type": "stream",
     "text": [
      "7\n",
      "13\n",
      "19\n",
      "91\n",
      "133\n",
      "247\n"
     ]
    }
   ],
   "source": [
    "#2.求出number是否為質數？若不是質數則需要把其因數列印出來\n",
    "number = 1729\n",
    "prime = True\n",
    "for i in range(2,number):\n",
    "    if 1729%i==0:\n",
    "        prime = False\n",
    "        print(i)\n",
    "if prime == True:\n",
    "    print(number,\"為質數\")"
   ]
  },
  {
   "cell_type": "code",
   "execution_count": 19,
   "metadata": {},
   "outputs": [
    {
     "name": "stdout",
     "output_type": "stream",
     "text": [
      "13\n"
     ]
    }
   ],
   "source": [
    "#3.請求出最小的x，讓x!（x階乘）會大於1e+9\n",
    "number = 1\n",
    "i = 0\n",
    "while number < 1e+9:\n",
    "    i+=1\n",
    "    number = number*i\n",
    "print(i)\n",
    "        "
   ]
  },
  {
   "cell_type": "code",
   "execution_count": 23,
   "metadata": {},
   "outputs": [
    {
     "name": "stdout",
     "output_type": "stream",
     "text": [
      "奇數數量： 2\n",
      "偶數數量： 4\n"
     ]
    }
   ],
   "source": [
    "#4.計算並印出num_list裡面有幾個偶數有幾個奇數\n",
    "num_list=[123,21,384,30123,931,22]\n",
    "odd_count = 0\n",
    "even_count = 0\n",
    "for i in num_list:\n",
    "    if i%2==0:\n",
    "        odd_count+=1\n",
    "    else:\n",
    "        even_count+=1\n",
    "print(\"奇數數量：\",odd_count)\n",
    "print(\"偶數數量：\",even_count)"
   ]
  },
  {
   "cell_type": "code",
   "execution_count": 28,
   "metadata": {},
   "outputs": [
    {
     "name": "stdout",
     "output_type": "stream",
     "text": [
      "4\n",
      "5\n",
      "7\n",
      "9\n",
      "13\n",
      "15\n",
      "6\n",
      "7\n",
      "9\n",
      "11\n",
      "15\n",
      "17\n",
      "8\n",
      "9\n",
      "11\n",
      "13\n",
      "17\n",
      "19\n",
      "10\n",
      "11\n",
      "13\n",
      "15\n",
      "19\n",
      "21\n",
      "12\n",
      "13\n",
      "15\n",
      "17\n",
      "21\n",
      "23\n",
      "14\n",
      "15\n",
      "17\n",
      "19\n",
      "23\n",
      "25\n"
     ]
    }
   ],
   "source": [
    "#5.兩個骰子，A骰為[2,4,6,8,10,12]、B骰為[2,3,5,7,11,13]，若同時骰這兩顆骰子，請列出所有可能的值(不需唯一）\n",
    "A = [2,4,6,8,10,12]\n",
    "B = [2,3,5,7,11,13]\n",
    "for i in A:\n",
    "    for j in B:\n",
    "        print(i+j)"
   ]
  },
  {
   "cell_type": "code",
   "execution_count": 28,
   "metadata": {},
   "outputs": [
    {
     "name": "stdout",
     "output_type": "stream",
     "text": [
      "7\n",
      "14\n",
      "21\n",
      "28\n",
      "35\n",
      "42\n",
      "49\n",
      "56\n",
      "63\n",
      "70\n",
      "77\n",
      "84\n",
      "91\n",
      "98\n"
     ]
    }
   ],
   "source": [
    "#6.印出所有小於100且是7的倍數的數字\n",
    "for i in range(1,100):\n",
    "    if i%7==0:\n",
    "        print(i)"
   ]
  },
  {
   "cell_type": "code",
   "execution_count": 29,
   "metadata": {},
   "outputs": [
    {
     "name": "stdout",
     "output_type": "stream",
     "text": [
      "7\n",
      "14\n",
      "28\n",
      "35\n",
      "49\n",
      "56\n",
      "70\n",
      "77\n",
      "91\n",
      "98\n"
     ]
    }
   ],
   "source": [
    "#7.印出所有小於100、且是7的倍數、但不是3的倍數的數字\n",
    "for i in range(1,100):\n",
    "    if i%7==0 and i%3!=0:\n",
    "        print(i)"
   ]
  },
  {
   "cell_type": "code",
   "execution_count": 31,
   "metadata": {},
   "outputs": [
    {
     "name": "stdout",
     "output_type": "stream",
     "text": [
      "8\n",
      "27\n",
      "125\n",
      "343\n",
      "169\n"
     ]
    }
   ],
   "source": [
    "#8.印出num_list那個數值的3次方，若3次方的結果大於500，則印出他的2次方\n",
    "num_list=[2,3,5,7,13]\n",
    "for i in num_list:\n",
    "    if i**3<500:\n",
    "        print(i**3)\n",
    "    else:\n",
    "        print(i**2)"
   ]
  },
  {
   "cell_type": "code",
   "execution_count": 33,
   "metadata": {},
   "outputs": [
    {
     "name": "stdout",
     "output_type": "stream",
     "text": [
      "6765\n"
     ]
    }
   ],
   "source": [
    "#9.請求出費伯納契數列中第一個大於5000的值\n",
    "x,y = 1,1\n",
    "while y<5000:\n",
    "    x,y = y,x+y\n",
    "print(y)"
   ]
  },
  {
   "cell_type": "code",
   "execution_count": 35,
   "metadata": {},
   "outputs": [
    {
     "name": "stdout",
     "output_type": "stream",
     "text": [
      "123\n",
      "546\n",
      "888\n",
      "7\n",
      "12\n",
      "49\n"
     ]
    }
   ],
   "source": [
    "#10.依序印出num_list所有的數值，直到碰到第三個可以被7整除的數值\n",
    "num_list = [123,546,888,7,12,49,32,31240,3123,543,48,429,2247,102,34]\n",
    "count = 0\n",
    "for i in num_list:\n",
    "    if count<3:\n",
    "        if i%7==0:\n",
    "            count+=1\n",
    "        print(i)\n",
    "    else:\n",
    "        break"
   ]
  },
  {
   "cell_type": "code",
   "execution_count": null,
   "metadata": {},
   "outputs": [],
   "source": []
  }
 ],
 "metadata": {
  "kernelspec": {
   "display_name": "Python 3 (ipykernel)",
   "language": "python",
   "name": "python3"
  },
  "language_info": {
   "codemirror_mode": {
    "name": "ipython",
    "version": 3
   },
   "file_extension": ".py",
   "mimetype": "text/x-python",
   "name": "python",
   "nbconvert_exporter": "python",
   "pygments_lexer": "ipython3",
   "version": "3.9.10"
  },
  "vscode": {
   "interpreter": {
    "hash": "8cbaa6da7797478f60c5212ed19a0b0ddd8f36d4bec3dabef5ef91c21fcc369e"
   }
  }
 },
 "nbformat": 4,
 "nbformat_minor": 4
}
