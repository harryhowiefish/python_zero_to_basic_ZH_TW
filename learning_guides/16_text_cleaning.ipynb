{
 "cells": [
  {
   "cell_type": "markdown",
   "metadata": {},
   "source": [
    "### 中文文字處理/真實資料處理"
   ]
  },
  {
   "cell_type": "code",
   "execution_count": 24,
   "metadata": {},
   "outputs": [],
   "source": [
    "import jieba\n",
    "import pandas as pd"
   ]
  },
  {
   "cell_type": "code",
   "execution_count": 25,
   "metadata": {},
   "outputs": [
    {
     "data": {
      "text/html": [
       "<div>\n",
       "<style scoped>\n",
       "    .dataframe tbody tr th:only-of-type {\n",
       "        vertical-align: middle;\n",
       "    }\n",
       "\n",
       "    .dataframe tbody tr th {\n",
       "        vertical-align: top;\n",
       "    }\n",
       "\n",
       "    .dataframe thead th {\n",
       "        text-align: right;\n",
       "    }\n",
       "</style>\n",
       "<table border=\"1\" class=\"dataframe\">\n",
       "  <thead>\n",
       "    <tr style=\"text-align: right;\">\n",
       "      <th></th>\n",
       "      <th>board</th>\n",
       "      <th>title</th>\n",
       "      <th>content</th>\n",
       "      <th>time</th>\n",
       "    </tr>\n",
       "  </thead>\n",
       "  <tbody>\n",
       "    <tr>\n",
       "      <td>0</td>\n",
       "      <td>Gossiping</td>\n",
       "      <td>[問卦] 共產黨是不是該直接宣布達爾文行動？</td>\n",
       "      <td>看來這病毒擋不住了 如果硬要對抗 勢必全面封鎖各大城市 中國經濟大海嘯 人民失去支持共黨...</td>\n",
       "      <td>2020-02-05 09:33:11</td>\n",
       "    </tr>\n",
       "    <tr>\n",
       "      <td>1</td>\n",
       "      <td>Gossiping</td>\n",
       "      <td>[問卦] 誰是台灣的Jimi Hendrix?</td>\n",
       "      <td>剛才看了好多Jimi Hendrix的現場表演  看他耍那把電吉他 真的有種人琴合一的...</td>\n",
       "      <td>2020-02-09 22:16:12</td>\n",
       "    </tr>\n",
       "    <tr>\n",
       "      <td>2</td>\n",
       "      <td>Gossiping</td>\n",
       "      <td>Re: [問卦] 剛剛記者在大聲什麼</td>\n",
       "      <td>※ 引述《wanggerger ()》之銘言： : 剛剛疾管署記者會 : 提問時間不知道哪...</td>\n",
       "      <td>2020-02-17 22:21:46</td>\n",
       "    </tr>\n",
       "    <tr>\n",
       "      <td>3</td>\n",
       "      <td>Gossiping</td>\n",
       "      <td>[問卦] 台灣的醫學系後又留學的是不是很少？</td>\n",
       "      <td>台灣最聰明的精英-念台灣的醫學系的以及畢業後醫生  也是對台灣風俗民情最了解的聰明人  是...</td>\n",
       "      <td>2020-03-24 08:05:16</td>\n",
       "    </tr>\n",
       "    <tr>\n",
       "      <td>4</td>\n",
       "      <td>Gossiping</td>\n",
       "      <td>Re: [問卦] 在家自主健身訓練有搞頭嗎</td>\n",
       "      <td>※ 引述《yun54272 ()》之銘言： : 你各位好 : 通常健身房都是簽期限的 : ...</td>\n",
       "      <td>2020-02-22 12:34:39</td>\n",
       "    </tr>\n",
       "  </tbody>\n",
       "</table>\n",
       "</div>"
      ],
      "text/plain": [
       "       board                    title  \\\n",
       "0  Gossiping   [問卦] 共產黨是不是該直接宣布達爾文行動？   \n",
       "1  Gossiping  [問卦] 誰是台灣的Jimi Hendrix?   \n",
       "2  Gossiping       Re: [問卦] 剛剛記者在大聲什麼   \n",
       "3  Gossiping   [問卦] 台灣的醫學系後又留學的是不是很少？   \n",
       "4  Gossiping    Re: [問卦] 在家自主健身訓練有搞頭嗎   \n",
       "\n",
       "                                             content                 time  \n",
       "0    看來這病毒擋不住了 如果硬要對抗 勢必全面封鎖各大城市 中國經濟大海嘯 人民失去支持共黨...  2020-02-05 09:33:11  \n",
       "1     剛才看了好多Jimi Hendrix的現場表演  看他耍那把電吉他 真的有種人琴合一的...  2020-02-09 22:16:12  \n",
       "2   ※ 引述《wanggerger ()》之銘言： : 剛剛疾管署記者會 : 提問時間不知道哪...  2020-02-17 22:21:46  \n",
       "3   台灣最聰明的精英-念台灣的醫學系的以及畢業後醫生  也是對台灣風俗民情最了解的聰明人  是...  2020-03-24 08:05:16  \n",
       "4   ※ 引述《yun54272 ()》之銘言： : 你各位好 : 通常健身房都是簽期限的 : ...  2020-02-22 12:34:39  "
      ]
     },
     "execution_count": 25,
     "metadata": {},
     "output_type": "execute_result"
    }
   ],
   "source": [
    "data = pd.read_csv('../data/ptt_gossip_1000.csv')\n",
    "data.head()"
   ]
  },
  {
   "cell_type": "code",
   "execution_count": 3,
   "metadata": {},
   "outputs": [
    {
     "data": {
      "text/plain": [
       "Index(['board', 'title', 'content', 'time'], dtype='object')"
      ]
     },
     "execution_count": 3,
     "metadata": {},
     "output_type": "execute_result"
    }
   ],
   "source": [
    "data.columns"
   ]
  },
  {
   "cell_type": "code",
   "execution_count": 26,
   "metadata": {},
   "outputs": [
    {
     "data": {
      "text/plain": [
       "'  看來這病毒擋不住了 如果硬要對抗 勢必全面封鎖各大城市 中國經濟大海嘯 人民失去支持共黨的唯一信念 各地將會大暴動推翻共產黨政權  所以共產黨的唯一機會是不是宣布達爾文行動 就讓人民自生自滅 免疫力高的自然存活 把武漢肺炎視為一般流感 一切恢復正常   Sent From My Asshole   '"
      ]
     },
     "execution_count": 26,
     "metadata": {},
     "output_type": "execute_result"
    }
   ],
   "source": [
    "text = data.content[0]\n",
    "text"
   ]
  },
  {
   "cell_type": "code",
   "execution_count": 27,
   "metadata": {},
   "outputs": [
    {
     "name": "stdout",
     "output_type": "stream",
     "text": [
      "[' ', ' ', '看來', '這', '病毒', '擋', '不住', '了', ' ', '如果', '硬要', '對', '抗', ' ', '勢必', '全面', '封鎖', '各', '大城市', ' ', '中國', '經濟', '大海', '嘯', ' ', '人民', '失去', '支持', '共黨', '的', '唯一', '信念', ' ', '各地', '將會', '大', '暴動', '推翻', '共產黨', '政權', ' ', ' ', '所以', '共產黨', '的', '唯一', '機會', '是不是', '宣布', '達爾文', '行動', ' ', '就', '讓', '人民', '自生', '自滅', ' ', '免疫力', '高', '的', '自然', '存活', ' ', '把', '武漢', '肺炎', '視為', '一般', '流感', ' ', '一切', '恢', '復', '正常', ' ', ' ', ' ', 'Sent', ' ', 'From', ' ', 'My', ' ', 'Asshole', ' ', ' ', ' ']\n"
     ]
    }
   ],
   "source": [
    "cut_text = list(jieba.cut(text))\n",
    "print(cut_text)"
   ]
  },
  {
   "cell_type": "code",
   "execution_count": 28,
   "metadata": {},
   "outputs": [
    {
     "data": {
      "text/plain": [
       "'   剛才看了好多Jimi Hendrix的現場表演  看他耍那把電吉他 真的有種人琴合一的感覺  莫名的會覺得很爽 讓人非常陶醉  不愧為吉他表演第一人   台灣有沒有像Jimi Hendrix一樣神的人?          愛妻守則 1.美紀做的料理一定吃光光 2.要認真努力 帶美紀到處嘗美食 3.好好守護美紀的笑容 ^_^ 4.和美紀一起把笑容帶給全世界    '"
      ]
     },
     "execution_count": 28,
     "metadata": {},
     "output_type": "execute_result"
    }
   ],
   "source": [
    "data.content[1]"
   ]
  },
  {
   "cell_type": "code",
   "execution_count": 29,
   "metadata": {},
   "outputs": [
    {
     "data": {
      "text/plain": [
       "' ※ 引述《wanggerger ()》之銘言： : 剛剛疾管署記者會 : 提問時間不知道哪一位女記者大小聲 : 問個問題咄咄逼人 : 有他在激動什麼的八卦嗎  就急了吧 問不到想問的 這種時候有這種表現才是人的常情 人家是記者 又不是跟蟑螂一樣賤  當然可以選擇要不要舔黨 所以說蟑螂是比妓者更低賤的存在 ptt早期以前說小時不讀書 長大當妓者 但是想不到蟑螂比妓者更賤更不要臉 大概就是跟印度種姓比吠舍更賤的賤民那樣吧 大概是這樣   '"
      ]
     },
     "execution_count": 29,
     "metadata": {},
     "output_type": "execute_result"
    }
   ],
   "source": [
    "data.content[2]"
   ]
  },
  {
   "cell_type": "code",
   "execution_count": 8,
   "metadata": {},
   "outputs": [
    {
     "data": {
      "text/plain": [
       "' 台灣最聰明的精英-念台灣的醫學系的以及畢業後醫生  也是對台灣風俗民情最了解的聰明人  是不是又出國留學的很少？  那種短期的不算的  我指的是真的長期的留學的  是不是真的及其稀少幾乎沒有？    '"
      ]
     },
     "execution_count": 8,
     "metadata": {},
     "output_type": "execute_result"
    }
   ],
   "source": [
    "data.content[3]"
   ]
  },
  {
   "cell_type": "code",
   "execution_count": 9,
   "metadata": {},
   "outputs": [
    {
     "data": {
      "text/plain": [
       "\" ※ 引述《yun54272 ()》之銘言： : 你各位好 : 通常健身房都是簽期限的 : 但有時候沒空去會浪費時數 : 如果不特別買器材 : 在家自己做做伏地挺身訓練成效怎麼樣啊 : 有推薦做什麼嗎    魯弟在家裡作伏地挺身  效果很好    奶奶已經升級到C罩杯    害我老婆沒事一直抓我的奶  都被性騷擾= =     總之基本上就是慢慢作  手肘貼著身體不要張開    上來下去都要出力  身體打直不要彎曲    一般伏地挺身作不夠了可以挑戰特殊一點的    比如說愛心伏地挺身  就是兩手比一個愛心這樣作    不過這個蠻吃肩膀的  有點底子再練    或是偏心伏地挺身  把重心集中在一手  另外一隻手往外展開    偏心伏地挺身有辦法作到20下  可以挑戰單手伏地挺身    一般人作單手伏地挺身  姿勢不正確  身體歪歪的  以為不太難    其實如果要達到  身體一直平行於地面  不要左右歪  腳只開與肩同寬  就很難    我從錯誤姿勢的15下  修正到正確姿勢只剩5-6下    不過我只有右手能作單手伏地挺身  左手有種重心抓不到的感覺    所以最近都練更難的：  老婆伏地挺身    這個伏地挺身  顧名思義  就是老婆用全身的重量  一屁股坐在你的腰上面    然後你再作伏地挺身  這個難度很高  我覺得訓練很紮實    起始動作是你先完全趴在地上平平的  給老婆先坐上來  比較容易開始    這個伏地挺身最難的難關就是：你要先有老婆    很多八卦魯蛇沒有老婆  就沒辦法練這種高階的    哈哈  沒老婆魯蛇  哈哈  練不成吧o'_'o   \""
      ]
     },
     "execution_count": 9,
     "metadata": {},
     "output_type": "execute_result"
    }
   ],
   "source": [
    "data.content[4]"
   ]
  },
  {
   "cell_type": "code",
   "execution_count": 22,
   "metadata": {},
   "outputs": [
    {
     "data": {
      "text/plain": [
       "' 欸  大家早安  台灣人素質真的很讚餒  自主隔離他媽的還可以出境  有沒有卦阿 操    '"
      ]
     },
     "execution_count": 22,
     "metadata": {},
     "output_type": "execute_result"
    }
   ],
   "source": [
    "data.content[1000]"
   ]
  },
  {
   "cell_type": "markdown",
   "metadata": {},
   "source": [
    "**對於文字處理很有興趣的話可以參考[這篇文章](https://yanwei-liu.medium.com/python%E8%87%AA%E7%84%B6%E8%AA%9E%E8%A8%80%E8%99%95%E7%90%86-%E4%BA%8C-%E4%BD%BF%E7%94%A8jieba%E9%80%B2%E8%A1%8C%E4%B8%AD%E6%96%87%E6%96%B7%E8%A9%9E-faf7828141a4)下面的投影片**"
   ]
  },
  {
   "cell_type": "markdown",
   "metadata": {},
   "source": [
    "### Homework"
   ]
  },
  {
   "cell_type": "markdown",
   "metadata": {},
   "source": [
    "一、標題清理：八卦版標題都需要有註明類別e.x.[問卦] ，若為回覆別人文章則會有「Re:」開頭，這些提供的是額外的資訊而非實際的文字意義\n",
    "\n",
    "1.請統計各類別的文章各有幾篇? e.x.問卦幾篇、新聞幾篇 （Re回覆的請排除在計算中） (10分)\n",
    "\n",
    "2.最多人次回覆的文章是哪一個，共有幾次回覆（10分）\n",
    "\n",
    "3.將所有類別及回覆的文字部分刪掉 e.x.Re: [問卦] 剛剛記者在大聲什麼 >>  剛剛記者在大聲什麼，並存回title中 （10分）"
   ]
  },
  {
   "cell_type": "code",
   "execution_count": null,
   "metadata": {},
   "outputs": [],
   "source": []
  },
  {
   "cell_type": "markdown",
   "metadata": {},
   "source": [
    "二、標題分析\n",
    "\n",
    "4.請對title做斷詞處理，並計算出現最多次的詞彙前3名（10分）\n",
    "\n",
    "5.（人工）找出10個斷詞錯誤的地方並手動修正  e.x.['大海','嘯'] >> ['大海嘯']  （10分）\n"
   ]
  },
  {
   "cell_type": "code",
   "execution_count": null,
   "metadata": {},
   "outputs": [],
   "source": []
  },
  {
   "cell_type": "markdown",
   "metadata": {},
   "source": [
    "三、內文清理：\n",
    "\n",
    "6.所有內文裡超過一個的空白，都用一個空白取代（10分）\n",
    "\n",
    "7.引述代表內文中有引用回覆原文的內文，都會有「：」開頭，請將引述內文移除 (10分)\n",
    "\n",
    "8.內文少於30字的文章直接刪除不做分析（10分）"
   ]
  },
  {
   "cell_type": "code",
   "execution_count": null,
   "metadata": {},
   "outputs": [],
   "source": []
  },
  {
   "cell_type": "markdown",
   "metadata": {},
   "source": [
    "四、內文分析\n",
    "\n",
    "9.找出文字最多的一篇文章（可包含空白、標點符號及其它字元，對他做斷詞並呈現各個詞彙的出現次數） （10分）\n",
    "\n",
    "10.對所有內文做斷詞，並找出出現頻率最高前100名的詞彙，並用dictionary的格式將文字跟次數儲存起來（10分）\n"
   ]
  },
  {
   "cell_type": "code",
   "execution_count": null,
   "metadata": {},
   "outputs": [],
   "source": []
  }
 ],
 "metadata": {
  "kernelspec": {
   "display_name": "Python 3 (ipykernel)",
   "language": "python",
   "name": "python3"
  },
  "language_info": {
   "codemirror_mode": {
    "name": "ipython",
    "version": 3
   },
   "file_extension": ".py",
   "mimetype": "text/x-python",
   "name": "python",
   "nbconvert_exporter": "python",
   "pygments_lexer": "ipython3",
   "version": "3.9.7"
  }
 },
 "nbformat": 4,
 "nbformat_minor": 4
}
