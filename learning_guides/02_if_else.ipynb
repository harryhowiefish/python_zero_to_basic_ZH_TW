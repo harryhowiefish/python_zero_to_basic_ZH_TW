{
 "cells": [
  {
   "cell_type": "markdown",
   "metadata": {
    "colab_type": "text",
    "id": "TcTLJpbgxbDe"
   },
   "source": [
    "# If...else\n",
    "\n",
    "\n",
    "#### -and / or"
   ]
  },
  {
   "cell_type": "markdown",
   "metadata": {
    "colab_type": "text",
    "id": "gxP6_21PxbDf"
   },
   "source": [
    "| Symbol | Task Performed |\n",
    "|----|---|\n",
    "| == | True, if it is equal |\n",
    "| !=  | True, if not equal to |\n",
    "| < | less than |\n",
    "| > | greater than |\n",
    "| <=  | less than or equal to |\n",
    "| >=  | greater than or equal to |"
   ]
  },
  {
   "cell_type": "code",
   "execution_count": 3,
   "metadata": {
    "colab": {},
    "colab_type": "code",
    "id": "KCAk9a_bxbDg",
    "outputId": "934ff86b-fd9f-432f-ea81-38c847c85f0e"
   },
   "outputs": [
    {
     "data": {
      "text/plain": [
       "True"
      ]
     },
     "execution_count": 3,
     "metadata": {},
     "output_type": "execute_result"
    }
   ],
   "source": [
    "# 各項函式示範題：你的成績（score）是不是A+或是A？\n",
    "score = 'B'\n",
    "\n",
    "score =='A+' or score == \"B\""
   ]
  },
  {
   "cell_type": "code",
   "execution_count": 1,
   "metadata": {
    "colab": {},
    "colab_type": "code",
    "id": "PtqJhnsyxbDm",
    "outputId": "0c47381c-a370-41ca-c2d9-0cff0ee7c7ff"
   },
   "outputs": [],
   "source": [
    "# 各項函式練習題： number有沒有介於100(包含）跟199（不包含）之間？\n",
    "number = 50\n"
   ]
  },
  {
   "cell_type": "markdown",
   "metadata": {
    "colab_type": "text",
    "id": "brOB0c4fxbDp"
   },
   "source": [
    "# If...else\n",
    "\n",
    "if...else跟else if原理不解釋，有需要自己去查+玩遊戲，這裡指講解撰寫格式\n",
    "\n",
    "e.x.比大小\n",
    "cpu=10\n",
    "player=20\n",
    "\n",
    "if player > cpu :\n",
    "\n",
    "    print(\"player win\")\n",
    "    \n",
    "elif cpu>player:\n",
    "    \n",
    "    print(\"cpu win\")\n",
    "\n",
    "else:\n",
    "\n",
    "    print(\"draw\")\n",
    "\n",
    "格式注意事項：\n",
    "0. if, elif 後面接的是判斷式\n",
    "1. if, elif, else後面要有\":\"\n",
    "2. 條件符合後要執行的內容要空格（TAB）並對齊\n",
    "3. 不需要額外的括號或大括號（像是在C裡面）"
   ]
  },
  {
   "cell_type": "code",
   "execution_count": 8,
   "metadata": {
    "colab": {},
    "colab_type": "code",
    "id": "wsdTowYZxbDp",
    "outputId": "681a3ca2-0036-44ef-8c62-85c031f2a35f"
   },
   "outputs": [
    {
     "name": "stdout",
     "output_type": "stream",
     "text": [
      "draw\n"
     ]
    }
   ],
   "source": [
    "cpu=10\n",
    "player=20\n",
    "\n",
    "if player > cpu:\n",
    "    print('player win')\n",
    "elif cpu>player:\n",
    "    print(\"cpu win\")\n",
    "else:\n",
    "    print(\"draw\")"
   ]
  },
  {
   "cell_type": "code",
   "execution_count": null,
   "metadata": {
    "colab": {},
    "colab_type": "code",
    "id": "aHzWC0-sxbDt",
    "outputId": "bc5ee013-53a4-4ab3-9809-dd135113cedd"
   },
   "outputs": [
    {
     "name": "stdout",
     "output_type": "stream",
     "text": [
      "B\n"
     ]
    }
   ],
   "source": [
    "# If...else...示範題：分數區間（A:90~100, B:80~89, C:70~79, D:60~69), 分數（score）是75分，對應的成績是多少？\n",
    "score = 84\n",
    "if score <=100 and score >=90:\n",
    "    print('A')\n",
    "elif score <90 and score >80:\n",
    "    print('B')\n",
    "elif score <80 and score >70:\n",
    "    print('C')\n",
    "elif score <70 and score >60:\n",
    "    print('D')\n"
   ]
  },
  {
   "cell_type": "code",
   "execution_count": 2,
   "metadata": {
    "colab": {},
    "colab_type": "code",
    "id": "nFypZLILxbDw",
    "outputId": "e99844dc-16ab-4a15-9af5-5ac5e8bf75e1"
   },
   "outputs": [],
   "source": [
    "# If...else...練習題：剪刀石頭布，如果電腦永遠出石頭，玩家（player_choice)出石頭的時候結果是什麼（每個可能性都要列出）\n",
    "player_choice = \"rock\"\n"
   ]
  },
  {
   "cell_type": "markdown",
   "metadata": {
    "colab_type": "text",
    "id": "3q0tXCTxi2On"
   },
   "source": [
    "#### 如果解釋不太清楚的話，可以參考下列外部學習資源\n",
    "<li><a href=\"https://www.youtube.com/watch?v=3g8MavivF4c\">莫煩part1</a>\n",
    "<li><a href=\"https://www.youtube.com/watch?v=Ul0ovDZOdgg\">莫煩part2</a>\n",
    "<li><a href=\"https://www.youtube.com/watch?v=1q26xc0uQNw\">莫煩part3</a>\n",
    "<li><a href=\"https://www.youtube.com/watch?v=A93BsHB-lWo\">彭彭（彭兆蔚）</a>\n",
    "<li><a href=\"https://youtu.be/AWek49wXGzI?t=378\"> CS Dojo（英文）</a>"
   ]
  },
  {
   "cell_type": "markdown",
   "metadata": {
    "colab_type": "text",
    "id": "vBtyuifBxbD0"
   },
   "source": [
    "## 練習題（答案在這份檔案最下方）"
   ]
  },
  {
   "cell_type": "code",
   "execution_count": null,
   "metadata": {
    "colab": {},
    "colab_type": "code",
    "id": "kEdpqSHSxbD0"
   },
   "outputs": [],
   "source": [
    "#1 檢查「323除以43」是否大於或等於「12132除以5的餘數)？"
   ]
  },
  {
   "cell_type": "code",
   "execution_count": null,
   "metadata": {
    "colab": {},
    "colab_type": "code",
    "id": "rLm4MneaxbD4"
   },
   "outputs": [],
   "source": [
    "#2 檢查1234533是否為3的倍數？"
   ]
  },
  {
   "cell_type": "code",
   "execution_count": null,
   "metadata": {
    "colab": {},
    "colab_type": "code",
    "id": "GRPAfAXWxbD7"
   },
   "outputs": [],
   "source": [
    "#3 檢查「31312除以3123的商數-8」是否為負數？"
   ]
  },
  {
   "cell_type": "code",
   "execution_count": null,
   "metadata": {
    "colab": {},
    "colab_type": "code",
    "id": "1WiseZ7axbD-"
   },
   "outputs": [],
   "source": [
    "#4 檢查文字「Hello World」跟「hello world」是否相同？"
   ]
  },
  {
   "cell_type": "code",
   "execution_count": null,
   "metadata": {
    "colab": {},
    "colab_type": "code",
    "id": "h3_5p-_AxbEB"
   },
   "outputs": [],
   "source": [
    "#5.檢查score是否在0跟100的區間中（包含0跟100）\n",
    "score =100"
   ]
  },
  {
   "cell_type": "code",
   "execution_count": null,
   "metadata": {
    "colab": {},
    "colab_type": "code",
    "id": "M8oZGdKCxbEE"
   },
   "outputs": [],
   "source": [
    "#6 若pwd的字串長度小於16則印出\"密碼太短\"\n",
    "pwd = \"password\""
   ]
  },
  {
   "cell_type": "code",
   "execution_count": null,
   "metadata": {
    "colab": {},
    "colab_type": "code",
    "id": "dXE7z6dzxbEH"
   },
   "outputs": [],
   "source": [
    "#7 若451243不能被7整除，則顯示\"451243不能被7整除\""
   ]
  },
  {
   "cell_type": "code",
   "execution_count": null,
   "metadata": {
    "colab": {},
    "colab_type": "code",
    "id": "2LoVsW5hxbEJ"
   },
   "outputs": [],
   "source": [
    "#8. 若pwd等於pwd_check，印出\"字串相同\"；若pwd不等於pwd_check，印出\"字串有誤\"\n",
    "pwd = \"password123\"\n",
    "pwd_check = \"password113\""
   ]
  },
  {
   "cell_type": "code",
   "execution_count": null,
   "metadata": {
    "colab": {},
    "colab_type": "code",
    "id": "Qo_dG9-qxbEM"
   },
   "outputs": [],
   "source": [
    "#9.若temp大於37.5或小於34.5，印出\"體溫異常\"\n",
    "temp=38.0"
   ]
  },
  {
   "cell_type": "code",
   "execution_count": null,
   "metadata": {
    "colab": {},
    "colab_type": "code",
    "id": "xQrcTzIzxbEP"
   },
   "outputs": [],
   "source": [
    "#10 若a比較大，印出\"A贏\"；若b比較大，印出\"B贏\"：若一樣則印出\"平手\"\n",
    "a=32\n",
    "b=321"
   ]
  },
  {
   "cell_type": "markdown",
   "metadata": {
    "colab_type": "text",
    "id": "HNg-MjOWxbER"
   },
   "source": [
    "## Homework"
   ]
  },
  {
   "cell_type": "markdown",
   "metadata": {
    "colab_type": "text",
    "id": "YjtaxgqFxbES"
   },
   "source": [
    "#### 第一題\n",
    "lecture的長度是否大於5？"
   ]
  },
  {
   "cell_type": "code",
   "execution_count": null,
   "metadata": {
    "colab": {},
    "colab_type": "code",
    "id": "mmxS1_soxbET"
   },
   "outputs": [],
   "source": [
    "lecture = [\"basic\",\"if\",\"while\",\"for\",\"advance\",\"set\",\"list\",\"dict\",\"numpy\"]"
   ]
  },
  {
   "cell_type": "markdown",
   "metadata": {
    "colab_type": "text",
    "id": "nxLtfkT6xbEV"
   },
   "source": [
    "#### 第二題\n",
    "若pwd的字串長度等於或小於8則印出\"密碼太短\"；若pwd的字串長度等於或大於24則印出\"密碼太長\"\n"
   ]
  },
  {
   "cell_type": "code",
   "execution_count": null,
   "metadata": {
    "colab": {},
    "colab_type": "code",
    "id": "hAcffMbuxbEW"
   },
   "outputs": [],
   "source": [
    "pwd = \"passwordpasswordpassword\""
   ]
  },
  {
   "cell_type": "markdown",
   "metadata": {
    "colab_type": "text",
    "id": "oit7tT1ixbEZ"
   },
   "source": [
    "#### 第三題\n",
    "檢查number是否為7跟13的倍數，列出所有可能（都不是、都是、是7、是13）\n"
   ]
  },
  {
   "cell_type": "code",
   "execution_count": null,
   "metadata": {
    "colab": {},
    "colab_type": "code",
    "id": "uB0t9FvfxbEZ"
   },
   "outputs": [],
   "source": [
    "number = 238"
   ]
  },
  {
   "cell_type": "markdown",
   "metadata": {
    "colab_type": "text",
    "id": "Etm6Z_1YxbEc"
   },
   "source": [
    "#### 第四題\n",
    "如果time介於5\\~12，印出\"早安\";如果time介於12\\~18，印出\"午安\"；如果time介於18\\~24或0\\~5，印出\"晚安\"\n",
    "\n",
    "**包含小值、不含大值（e.x.含5不含12）"
   ]
  },
  {
   "cell_type": "code",
   "execution_count": null,
   "metadata": {
    "colab": {},
    "colab_type": "code",
    "id": "-LAgnMs8xbEc"
   },
   "outputs": [],
   "source": [
    "time = 3"
   ]
  },
  {
   "cell_type": "markdown",
   "metadata": {
    "colab_type": "text",
    "id": "-NkVd2k1xbEf"
   },
   "source": [
    "#### 第五題\n",
    "終極密碼規則：\n",
    "\n",
    "1.若guess<answer，印出\"正確數字在*guess和100之間\"\n",
    "\n",
    "2.guess>answer，印出\"正確數字在0和*guess之間\"\n",
    "\n",
    "3.若guess=answer，印出\"正確答案\"\n",
    "\n",
    "**印出的guess不是\"guess\"這個字，而是這個變數所代表的數值**"
   ]
  },
  {
   "cell_type": "code",
   "execution_count": null,
   "metadata": {
    "colab": {},
    "colab_type": "code",
    "id": "rcLX_Wy0xbEf"
   },
   "outputs": [],
   "source": [
    "answer = 73\n",
    "guess = 53"
   ]
  },
  {
   "cell_type": "markdown",
   "metadata": {
    "colab_type": "text",
    "id": "CEH05AuzxbEi"
   },
   "source": [
    "## 練習題答案"
   ]
  },
  {
   "cell_type": "code",
   "execution_count": null,
   "metadata": {
    "colab": {},
    "colab_type": "code",
    "id": "aXR4LVSExbEi",
    "outputId": "07d161b5-2f2c-403a-e41b-8a66f91afbf7"
   },
   "outputs": [
    {
     "data": {
      "text/plain": [
       "True"
      ]
     },
     "execution_count": 7,
     "metadata": {
      "tags": []
     },
     "output_type": "execute_result"
    }
   ],
   "source": [
    "#1 檢查「323除以43」是否大於或等於「12132除以5的餘數)？\n",
    "323/43>= 12132%5"
   ]
  },
  {
   "cell_type": "code",
   "execution_count": null,
   "metadata": {
    "colab": {},
    "colab_type": "code",
    "id": "vmtBJeDwxbEl",
    "outputId": "55262585-024f-4a37-8b6c-3b8f1e980ab4"
   },
   "outputs": [
    {
     "data": {
      "text/plain": [
       "True"
      ]
     },
     "execution_count": 8,
     "metadata": {
      "tags": []
     },
     "output_type": "execute_result"
    }
   ],
   "source": [
    "#2 檢查1234533是否為3的倍數？\n",
    "1234533%3==0"
   ]
  },
  {
   "cell_type": "code",
   "execution_count": null,
   "metadata": {
    "colab": {},
    "colab_type": "code",
    "id": "jJva7e06xbEn",
    "outputId": "4e3c0352-ccd8-45b0-af90-324ca9b1cfe3"
   },
   "outputs": [
    {
     "data": {
      "text/plain": [
       "False"
      ]
     },
     "execution_count": 10,
     "metadata": {
      "tags": []
     },
     "output_type": "execute_result"
    }
   ],
   "source": [
    "#3 檢查「31312除以3123的商數-8」是否為負數？\n",
    "31312//3123-8 <0"
   ]
  },
  {
   "cell_type": "code",
   "execution_count": null,
   "metadata": {
    "colab": {},
    "colab_type": "code",
    "id": "QZIDktBOxbEr",
    "outputId": "7a6ef88c-4c9f-4f58-9b89-b672746238c4"
   },
   "outputs": [
    {
     "data": {
      "text/plain": [
       "False"
      ]
     },
     "execution_count": 11,
     "metadata": {
      "tags": []
     },
     "output_type": "execute_result"
    }
   ],
   "source": [
    "#4 檢查文字「Hello World」跟「hello world」是否相同？\n",
    "\"Hello World\"==\"hello world\""
   ]
  },
  {
   "cell_type": "code",
   "execution_count": null,
   "metadata": {
    "colab": {},
    "colab_type": "code",
    "id": "D3QiQZrWxbEu",
    "outputId": "1780ba12-87ae-4e02-a113-67e5104ef229"
   },
   "outputs": [
    {
     "data": {
      "text/plain": [
       "True"
      ]
     },
     "execution_count": 19,
     "metadata": {
      "tags": []
     },
     "output_type": "execute_result"
    }
   ],
   "source": [
    "#5.檢查score是否在0跟100的區間中（包含0跟100）\n",
    "score =100\n",
    "score >= 0 and score <= 100"
   ]
  },
  {
   "cell_type": "code",
   "execution_count": null,
   "metadata": {
    "colab": {},
    "colab_type": "code",
    "id": "7ZIFJYdLxbEw",
    "outputId": "35ee11a9-49b3-4d45-90df-4a977b471e98"
   },
   "outputs": [
    {
     "name": "stdout",
     "output_type": "stream",
     "text": [
      "密碼太短\n"
     ]
    }
   ],
   "source": [
    "#6 若pwd的字串長度小於16則印出\"密碼太短\"\n",
    "pwd = \"password\"\n",
    "if len(pwd)<16:\n",
    "    print(\"密碼太短\")"
   ]
  },
  {
   "cell_type": "code",
   "execution_count": null,
   "metadata": {
    "colab": {},
    "colab_type": "code",
    "id": "AbOszXe9xbEz",
    "outputId": "de9483b9-8d6a-4292-b3e5-7081a58d7fd9"
   },
   "outputs": [
    {
     "name": "stdout",
     "output_type": "stream",
     "text": [
      "451243不能被7整除\n"
     ]
    }
   ],
   "source": [
    "#7 若451243不能被7整除，則顯示\"451243不能被7整除\"\n",
    "if 451243%7!=0:\n",
    "    print(\"451243不能被7整除\")"
   ]
  },
  {
   "cell_type": "code",
   "execution_count": null,
   "metadata": {
    "colab": {},
    "colab_type": "code",
    "id": "o80UTABfxbE1"
   },
   "outputs": [],
   "source": [
    "#8. 若pwd等於pwd_check，印出\"密碼正確\"；若pwd不等於pwd_check，印出\"密碼有誤\"\n",
    "pwd = \"password123\"\n",
    "pwd_check = \"password113\"\n",
    "if pwd == pwd_check:\n",
    "    print(\"密碼正確\")\n",
    "else:\n",
    "    print(\"密碼有誤\")"
   ]
  },
  {
   "cell_type": "code",
   "execution_count": null,
   "metadata": {
    "colab": {},
    "colab_type": "code",
    "id": "3UmdQes4xbE9",
    "outputId": "e44509df-5793-4d1f-cbfc-571461244489"
   },
   "outputs": [
    {
     "name": "stdout",
     "output_type": "stream",
     "text": [
      "體溫異常\n"
     ]
    }
   ],
   "source": [
    "#9.若temp大於37.5或小於34.5，印出\"體溫異常\"\n",
    "temp=38.0\n",
    "if temp < 34.5 or temp >37.5:\n",
    "    print(\"體溫異常\")"
   ]
  },
  {
   "cell_type": "code",
   "execution_count": null,
   "metadata": {
    "colab": {},
    "colab_type": "code",
    "id": "MD7e0isUxbFA",
    "outputId": "e0f96f49-58b0-4a9a-9715-4915cc05e057"
   },
   "outputs": [
    {
     "name": "stdout",
     "output_type": "stream",
     "text": [
      "B贏\n"
     ]
    }
   ],
   "source": [
    "#10 若a比較大，印出\"A贏\"；若b比較大，印出\"B贏\"：若一樣則印出\"平手\"\n",
    "a=32\n",
    "b=321\n",
    "if a>b:\n",
    "    print(\"A贏\")\n",
    "elif b>a:\n",
    "    print(\"B贏\")\n",
    "else:\n",
    "    print(\"平手\")"
   ]
  }
 ],
 "metadata": {
  "colab": {
   "name": "02_if_else.ipynb",
   "provenance": []
  },
  "kernelspec": {
   "display_name": "Python 3 (ipykernel)",
   "language": "python",
   "name": "python3"
  },
  "language_info": {
   "codemirror_mode": {
    "name": "ipython",
    "version": 3
   },
   "file_extension": ".py",
   "mimetype": "text/x-python",
   "name": "python",
   "nbconvert_exporter": "python",
   "pygments_lexer": "ipython3",
   "version": "3.11.6"
  }
 },
 "nbformat": 4,
 "nbformat_minor": 4
}
