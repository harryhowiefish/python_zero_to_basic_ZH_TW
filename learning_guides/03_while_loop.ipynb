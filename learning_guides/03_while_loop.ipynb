{
 "cells": [
  {
   "cell_type": "markdown",
   "metadata": {
    "id": "XEO0h9KZ4vWI"
   },
   "source": [
    "## While loop\n",
    "\n",
    "while loop一樣不特別說明原理，有需要自己去查+玩遊戲，這裡指講解撰寫格式：\n",
    "\n",
    "\n",
    "先宣告判斷式會用到的變數\n",
    "\n",
    "while 判斷式 :\n",
    "\n",
    "    要執行的東西\n",
    "    \n",
    "    改變判斷式內的變數（務必一定要）"
   ]
  },
  {
   "cell_type": "code",
   "execution_count": 5,
   "metadata": {},
   "outputs": [
    {
     "data": {
      "text/plain": [
       "31.622776601683796"
      ]
     },
     "execution_count": 5,
     "metadata": {},
     "output_type": "execute_result"
    }
   ],
   "source": [
    "10**(1/2)*10"
   ]
  },
  {
   "cell_type": "code",
   "execution_count": 6,
   "metadata": {},
   "outputs": [
    {
     "data": {
      "text/plain": [
       "55.67764362830022"
      ]
     },
     "execution_count": 6,
     "metadata": {},
     "output_type": "execute_result"
    }
   ],
   "source": [
    "31**(1/2)*10"
   ]
  },
  {
   "cell_type": "code",
   "execution_count": 9,
   "metadata": {
    "id": "-1YQeJHR4vWI",
    "outputId": "6465b7a1-4e1a-4089-c558-89980084ba69"
   },
   "outputs": [
    {
     "name": "stdout",
     "output_type": "stream",
     "text": [
      "31.622776601683796\n",
      "56.234132519034915\n",
      "74.9894209332456\n",
      "86.59643233600654\n",
      "93.0572040929699\n",
      "96.46616199111992\n",
      "98.21718891880379\n",
      "99.10458562488608\n",
      "8\n"
     ]
    }
   ],
   "source": [
    "#示範題  (10要開根號乘以10)幾次才會大於99？\n",
    "\n",
    "i = 10\n",
    "count = 0\n",
    "while i<99:\n",
    "    i = i**(1/2)*10\n",
    "    print(i)\n",
    "    count = count+1\n",
    "\n",
    "print(count)\n",
    "\n",
    "# i=10\n",
    "# count=0\n",
    "# while i < 99:\n",
    "#     i = i**(1/2)*10\n",
    "#     print(i)\n",
    "#     count = count + 1\n",
    "# #     count += 1\n",
    "# print(\"count:\",count)\n"
   ]
  },
  {
   "cell_type": "code",
   "execution_count": 1,
   "metadata": {
    "id": "1hBFz0kE4vWM",
    "outputId": "805ad57c-99a9-4efe-a147-9dfdf3894557"
   },
   "outputs": [],
   "source": [
    "#練習題 請問i的i次方小於100000的條件下，最大的i值是多少？\n"
   ]
  },
  {
   "cell_type": "markdown",
   "metadata": {
    "id": "3q0tXCTxi2On"
   },
   "source": [
    "#### 如果解釋不太清楚的話，可以參考下列外部學習資源\n",
    "<li><a href=\"https://www.youtube.com/watch?v=F9Ptmo9CZl4\">莫煩</a>\n",
    "<li><a href=\"https://www.youtube.com/watch?v=szaAeLt_49U\">彭彭（彭兆蔚）part1 (For while混在一起）</a>\n",
    "<li><a href=\"https://www.youtube.com/watch?v=yBXlwOmLqZ4\">彭彭（彭兆蔚）part2 (For while混在一起）</a>\n",
    "<li><a href=\"https://www.youtube.com/watch?v=6TEGxJXLAWQ\"> CS Dojo（英文）</a>"
   ]
  },
  {
   "cell_type": "markdown",
   "metadata": {
    "id": "FrF10ukz4vWQ"
   },
   "source": [
    "## 練習題（答案在這份檔案最下方）"
   ]
  },
  {
   "cell_type": "code",
   "execution_count": null,
   "metadata": {
    "id": "aF0WSJO14vWR"
   },
   "outputs": [],
   "source": [
    "#1.印出1~10（包含1跟10）裡的所有整數"
   ]
  },
  {
   "cell_type": "code",
   "execution_count": null,
   "metadata": {
    "id": "SgStN7Kk4vWV"
   },
   "outputs": [],
   "source": [
    "#2.印出1~10（包含1跟10）裡的所有奇數"
   ]
  },
  {
   "cell_type": "code",
   "execution_count": null,
   "metadata": {
    "id": "m7CS0Tbf4vWY"
   },
   "outputs": [],
   "source": [
    "#3.不斷在text加上\"blah\"直到字串長度大於37\n",
    "text=\"blah\""
   ]
  },
  {
   "cell_type": "code",
   "execution_count": null,
   "metadata": {
    "id": "22vQfIsh4vWc"
   },
   "outputs": [],
   "source": [
    "#4找出費伯納契數列中的第10項（1,1,2,3,5,8....)"
   ]
  },
  {
   "cell_type": "code",
   "execution_count": null,
   "metadata": {
    "id": "GKMjDdqv4vWf"
   },
   "outputs": [],
   "source": [
    "#5找出費伯納契數列中的第一個大於100的數字（1,1,2,3,5,8....)"
   ]
  },
  {
   "cell_type": "code",
   "execution_count": null,
   "metadata": {
    "id": "FEqeZbTU4vWi"
   },
   "outputs": [],
   "source": [
    "#6將1~10（包含1跟10）裡的數字全部加總在一起"
   ]
  },
  {
   "cell_type": "code",
   "execution_count": null,
   "metadata": {
    "id": "dIojD_mD4vWl"
   },
   "outputs": [],
   "source": [
    "#7將1~10（包含1跟10）裡的奇數全部加總在一起"
   ]
  },
  {
   "cell_type": "code",
   "execution_count": null,
   "metadata": {
    "id": "Uti7ek7E4vWo"
   },
   "outputs": [],
   "source": [
    "#8印出10!的結果（ 5!=5*4*3*2*1 ）"
   ]
  },
  {
   "cell_type": "code",
   "execution_count": null,
   "metadata": {
    "id": "1AJ2qd_O4vWr"
   },
   "outputs": [],
   "source": [
    "#9 第一個大於1000，又是13的倍數的數字為何？"
   ]
  },
  {
   "cell_type": "code",
   "execution_count": null,
   "metadata": {
    "id": "ivIFroNN4vWu"
   },
   "outputs": [],
   "source": [
    "#10 第一個大於10000，開根號後為整數的數字為何？   註：什麼叫做開根號之後為整數 >> 小數點下的東西省略之後會跟原本一樣"
   ]
  },
  {
   "cell_type": "markdown",
   "metadata": {
    "id": "lmnFNrHR4vWw"
   },
   "source": [
    "## Homework"
   ]
  },
  {
   "cell_type": "markdown",
   "metadata": {
    "id": "fcx6tKaR4vWy"
   },
   "source": [
    "#### 第一題\n",
    "將2~50（包含2跟50）裡的偶數全部加總在一起"
   ]
  },
  {
   "cell_type": "code",
   "execution_count": null,
   "metadata": {
    "id": "kysaHLni4vWz"
   },
   "outputs": [],
   "source": []
  },
  {
   "cell_type": "markdown",
   "metadata": {
    "id": "574kS0u-4vW2"
   },
   "source": [
    "#### 第二題\n",
    "找出第一個數字（N），讓N的N次方大於1000000"
   ]
  },
  {
   "cell_type": "code",
   "execution_count": null,
   "metadata": {
    "id": "WTWj8mDG4vW2"
   },
   "outputs": [],
   "source": []
  },
  {
   "cell_type": "markdown",
   "metadata": {
    "id": "3TVCe5C14vW5"
   },
   "source": [
    "#### 第三題\n",
    "找出最大的數字（N），讓N的2次方小於8888"
   ]
  },
  {
   "cell_type": "code",
   "execution_count": null,
   "metadata": {
    "id": "ShWSoGGO4vW5"
   },
   "outputs": [],
   "source": []
  },
  {
   "cell_type": "markdown",
   "metadata": {
    "id": "DWxioiLC4vW8"
   },
   "source": [
    "#### 第四題\n",
    "A從1開始，每一輪乘以下一個整數  第一輪：1 第二輪：1\\*2 第三輪：1\\*2\\*3\n",
    "\n",
    "B從100開始，每一輪加下一個整數  第一輪：100 第二輪100+101 第三輪100+101+102\n",
    "\n",
    "請問第幾輪之後A會大於B？"
   ]
  },
  {
   "cell_type": "code",
   "execution_count": null,
   "metadata": {},
   "outputs": [],
   "source": []
  },
  {
   "cell_type": "markdown",
   "metadata": {
    "id": "Cbe2u0AJ4vW_"
   },
   "source": [
    "#### 第五題\n",
    "A從100開始，每一輪乘以下一個整數  第一輪：100\\*100 第二輪：100\\*100\\*101 第三輪：100\\*100\\*101\\*102\n",
    "\n",
    "B從2開始，每一輪將數字平方  第一輪：2^2 第二輪\"：(2^2)^2 第三輪：((2^2)^2)^2\n",
    "\n",
    "請問第幾輪之後B會大於A？"
   ]
  },
  {
   "cell_type": "code",
   "execution_count": null,
   "metadata": {
    "id": "52TIYROx4vW_"
   },
   "outputs": [],
   "source": []
  },
  {
   "cell_type": "markdown",
   "metadata": {
    "id": "32sFVefi4vXC"
   },
   "source": [
    "## 練習題答案"
   ]
  },
  {
   "cell_type": "code",
   "execution_count": null,
   "metadata": {
    "id": "OupkJxGk4vXC",
    "outputId": "ae423d3e-db4f-4f1a-bec6-73bb3a9c5122"
   },
   "outputs": [
    {
     "name": "stdout",
     "output_type": "stream",
     "text": [
      "1\n",
      "2\n",
      "3\n",
      "4\n",
      "5\n",
      "6\n",
      "7\n",
      "8\n",
      "9\n",
      "10\n"
     ]
    }
   ],
   "source": [
    "#1.印出1~10（包含1跟10）裡的所有整數\n",
    "i = 1\n",
    "while i<=10:\n",
    "    print(i)\n",
    "    i+=1"
   ]
  },
  {
   "cell_type": "code",
   "execution_count": null,
   "metadata": {
    "id": "pBxilZzA4vXF",
    "outputId": "682a7444-580e-49e8-f7eb-b594dc6680fd"
   },
   "outputs": [
    {
     "name": "stdout",
     "output_type": "stream",
     "text": [
      "1\n",
      "3\n",
      "5\n",
      "7\n",
      "9\n"
     ]
    }
   ],
   "source": [
    "#2.印出1~10（包含1跟10）裡的所有奇數\n",
    "i = 1\n",
    "while i<=10:\n",
    "    print(i)\n",
    "    i+=2"
   ]
  },
  {
   "cell_type": "code",
   "execution_count": null,
   "metadata": {
    "id": "zglNsX1C4vXH",
    "outputId": "f1e8000e-ec90-4e02-989a-1bc8bd19529d"
   },
   "outputs": [
    {
     "name": "stdout",
     "output_type": "stream",
     "text": [
      "blahblahblahblahblahblahblahblahblahblah\n"
     ]
    }
   ],
   "source": [
    "#3.不斷在text加上\"blah\"直到字串長度大於37\n",
    "text=\"blah\"\n",
    "while len(text)<37:\n",
    "    text = text+ \"blah\"\n",
    "print(text)"
   ]
  },
  {
   "cell_type": "code",
   "execution_count": null,
   "metadata": {
    "id": "oiBB_amH4vXJ",
    "outputId": "a7b89481-49e6-46b5-d317-820979127b3c"
   },
   "outputs": [
    {
     "name": "stdout",
     "output_type": "stream",
     "text": [
      "55\n"
     ]
    }
   ],
   "source": [
    "#4找出費伯納契數列中的第10項（1,1,2,3,5,8....)\n",
    "x,y = 1,1\n",
    "i = 3\n",
    "while i<=10:\n",
    "    x,y = y,x+y\n",
    "    i+=1\n",
    "print(y)"
   ]
  },
  {
   "cell_type": "code",
   "execution_count": null,
   "metadata": {
    "id": "nPGmqE4i4vXM",
    "outputId": "737b0e27-995a-415c-9902-a340b8ea4f68"
   },
   "outputs": [
    {
     "name": "stdout",
     "output_type": "stream",
     "text": [
      "144\n"
     ]
    }
   ],
   "source": [
    "#5找出費伯納契數列中的第一個大於100的數字（1,1,2,3,5,8....)\n",
    "x = 1\n",
    "y = 1\n",
    "\n",
    "while y<=100:\n",
    "    temp = y\n",
    "    y = y+x\n",
    "    x = temp\n",
    "print(y)"
   ]
  },
  {
   "cell_type": "code",
   "execution_count": null,
   "metadata": {
    "id": "b4o_3zSz4vXP",
    "outputId": "02dfc8cd-dfbe-4cc3-c2a3-bbe8ad3c04d2"
   },
   "outputs": [
    {
     "name": "stdout",
     "output_type": "stream",
     "text": [
      "55\n"
     ]
    }
   ],
   "source": [
    "#6將1~10（包含1跟10）裡的數字全部加總在一起\n",
    "i = 1\n",
    "total = 0\n",
    "while i <=10:\n",
    "    total = total + i\n",
    "    i+=1\n",
    "print(total)"
   ]
  },
  {
   "cell_type": "code",
   "execution_count": null,
   "metadata": {
    "id": "38TVvITH4vXR",
    "outputId": "5652c852-6c3c-47e3-d565-5cdee6a27dc0"
   },
   "outputs": [
    {
     "name": "stdout",
     "output_type": "stream",
     "text": [
      "25\n"
     ]
    }
   ],
   "source": [
    "#7將1~10（包含1跟10）裡的奇數全部加總在一起\n",
    "i = 1\n",
    "total = 0\n",
    "while i <=10:\n",
    "    total = total + i\n",
    "    i+=2\n",
    "print(total)"
   ]
  },
  {
   "cell_type": "code",
   "execution_count": null,
   "metadata": {
    "id": "MZNvde954vXT",
    "outputId": "015f2a13-44bf-4286-f17d-a5df334fc2c9"
   },
   "outputs": [
    {
     "name": "stdout",
     "output_type": "stream",
     "text": [
      "3628800\n"
     ]
    }
   ],
   "source": [
    "#8印出10!的結果（ 5!=5*4*3*2*1 ）\n",
    "i = 1\n",
    "total = 1\n",
    "while i <=10:\n",
    "    total = total *i\n",
    "    i+=1\n",
    "print(total)"
   ]
  },
  {
   "cell_type": "code",
   "execution_count": null,
   "metadata": {
    "id": "66JW_iY24vXW",
    "outputId": "97c67077-aa12-44e1-eb16-74e2d758ae07"
   },
   "outputs": [
    {
     "name": "stdout",
     "output_type": "stream",
     "text": [
      "1001\n"
     ]
    }
   ],
   "source": [
    "#9 第一個大於1000，又是13的倍數的數字為何？\n",
    "i = 1\n",
    "while i<1000 or i%13!=0:\n",
    "    i+=1\n",
    "print(i)"
   ]
  },
  {
   "cell_type": "code",
   "execution_count": null,
   "metadata": {
    "id": "X2eUIXqC4vXZ"
   },
   "outputs": [],
   "source": [
    "#10 第一個大於10000，開根號後為整數的數字為何？   註：什麼叫做開根號之後為整數 >> 小數點下的東西省略之後會跟原本一樣"
   ]
  },
  {
   "cell_type": "code",
   "execution_count": null,
   "metadata": {
    "id": "SkqpmU8p4vXb",
    "outputId": "7d84cd4b-8773-49c2-f7c4-914ee43896ff"
   },
   "outputs": [
    {
     "name": "stdout",
     "output_type": "stream",
     "text": [
      "10201\n",
      "101.0\n"
     ]
    }
   ],
   "source": [
    "i = 10001\n",
    "while int(i**(1/2)) != i**(1/2):\n",
    "    i+=1\n",
    "print(i)\n",
    "print(i**(1/2))\n",
    "    "
   ]
  },
  {
   "cell_type": "code",
   "execution_count": null,
   "metadata": {
    "id": "6H3yuZMT4vXe"
   },
   "outputs": [],
   "source": []
  }
 ],
 "metadata": {
  "colab": {
   "collapsed_sections": [
    "fcx6tKaR4vWy",
    "574kS0u-4vW2",
    "3TVCe5C14vW5"
   ],
   "name": "03_while_loop.ipynb",
   "provenance": []
  },
  "kernelspec": {
   "display_name": "Python 3 (ipykernel)",
   "language": "python",
   "name": "python3"
  },
  "language_info": {
   "codemirror_mode": {
    "name": "ipython",
    "version": 3
   },
   "file_extension": ".py",
   "mimetype": "text/x-python",
   "name": "python",
   "nbconvert_exporter": "python",
   "pygments_lexer": "ipython3",
   "version": "3.9.10"
  },
  "vscode": {
   "interpreter": {
    "hash": "8cbaa6da7797478f60c5212ed19a0b0ddd8f36d4bec3dabef5ef91c21fcc369e"
   }
  }
 },
 "nbformat": 4,
 "nbformat_minor": 4
}
