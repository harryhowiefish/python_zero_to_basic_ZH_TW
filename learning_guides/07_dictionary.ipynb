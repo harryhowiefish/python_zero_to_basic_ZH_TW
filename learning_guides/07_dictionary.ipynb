{
 "cells": [
  {
   "cell_type": "markdown",
   "metadata": {},
   "source": [
    "## Dictionary\n",
    "\n",
    "*dictionary（大括號）：第二常用列表格式，用來儲存需索引的資料，常用於資料儲存和流水號對應\n",
    "- key：用來索引的東西\n",
    "- value：儲存的資料\n",
    "\n"
   ]
  },
  {
   "cell_type": "markdown",
   "metadata": {},
   "source": [
    "### 宣告"
   ]
  },
  {
   "cell_type": "code",
   "execution_count": 5,
   "metadata": {},
   "outputs": [
    {
     "name": "stdout",
     "output_type": "stream",
     "text": [
      "{'a': 1, 'b': 2, 'c': 3}\n",
      "{'a': 1, 'b': 2, 'c': 3}\n"
     ]
    }
   ],
   "source": [
    "#2種最常宣告dictionary的方法  {1:'a',2:'b',3:'c'}  （總共有4種主要方法）\n",
    "dict1= {}\n",
    "dict1['a']=1\n",
    "dict1['b']=2\n",
    "dict1['c']=3\n",
    "print(dict1)\n",
    "\n",
    "dict2 = dict(zip(['a','b','c'],[1,2,3]))\n",
    "print(dict2)\n"
   ]
  },
  {
   "cell_type": "code",
   "execution_count": 2,
   "metadata": {},
   "outputs": [],
   "source": [
    "#練習題 建立一個dictionary,其中keys為1~15，對應的values是keys平方\n",
    "# for & 第一種dictionary的建立方法"
   ]
  },
  {
   "cell_type": "markdown",
   "metadata": {},
   "source": [
    "### 索引"
   ]
  },
  {
   "cell_type": "code",
   "execution_count": 6,
   "metadata": {},
   "outputs": [
    {
     "data": {
      "text/plain": [
       "(dict_keys(['a', 'b', 'c']), dict_values([1, 2, 3]))"
      ]
     },
     "execution_count": 6,
     "metadata": {},
     "output_type": "execute_result"
    }
   ],
   "source": [
    "dict1.keys(),dict1.values()"
   ]
  },
  {
   "cell_type": "code",
   "execution_count": 7,
   "metadata": {},
   "outputs": [
    {
     "data": {
      "text/plain": [
       "1"
      ]
     },
     "execution_count": 7,
     "metadata": {},
     "output_type": "execute_result"
    }
   ],
   "source": [
    "dict1['a']"
   ]
  },
  {
   "cell_type": "code",
   "execution_count": 8,
   "metadata": {},
   "outputs": [
    {
     "name": "stdout",
     "output_type": "stream",
     "text": [
      "a 1\n",
      "b 2\n",
      "c 3\n"
     ]
    }
   ],
   "source": [
    "for i in dict1:\n",
    "    print(i,dict1[i])"
   ]
  },
  {
   "cell_type": "code",
   "execution_count": 9,
   "metadata": {},
   "outputs": [
    {
     "name": "stdout",
     "output_type": "stream",
     "text": [
      "a 1\n",
      "b 2\n",
      "c 3\n"
     ]
    }
   ],
   "source": [
    "for i,j in dict1.items():\n",
    "    print(i,j)"
   ]
  },
  {
   "cell_type": "markdown",
   "metadata": {},
   "source": [
    "### 移除"
   ]
  },
  {
   "cell_type": "code",
   "execution_count": 10,
   "metadata": {},
   "outputs": [
    {
     "name": "stdout",
     "output_type": "stream",
     "text": [
      "1\n"
     ]
    },
    {
     "data": {
      "text/plain": [
       "{'b': 2, 'c': 3}"
      ]
     },
     "execution_count": 10,
     "metadata": {},
     "output_type": "execute_result"
    }
   ],
   "source": [
    "print(dict1.pop('a'))\n",
    "dict1"
   ]
  },
  {
   "cell_type": "markdown",
   "metadata": {
    "colab_type": "text",
    "id": "3q0tXCTxi2On"
   },
   "source": [
    "## 練習題（答案在這份檔案最下方）"
   ]
  },
  {
   "cell_type": "code",
   "execution_count": 9,
   "metadata": {},
   "outputs": [],
   "source": [
    "#1.將這dict2的資料丟進dict1\n",
    "dict1={1:10, 2:20} \n",
    "dict2={3:30, 4:40} "
   ]
  },
  {
   "cell_type": "code",
   "execution_count": 11,
   "metadata": {},
   "outputs": [],
   "source": [
    "#2.檢查subject有沒有在dict1的key裡面\n",
    "dict1={\"Math\":100,\"Chinese\":87,\"English\":78}\n",
    "subject=\"Social Studies\""
   ]
  },
  {
   "cell_type": "code",
   "execution_count": 1,
   "metadata": {},
   "outputs": [],
   "source": [
    "#3.重新將city命名成location\n",
    "sampleDict = {\n",
    "  \"name\": \"Kelly\",\n",
    "  \"age\":25,\n",
    "  \"salary\": 8000,\n",
    "  \"city\": \"New york\"\n",
    "}"
   ]
  },
  {
   "cell_type": "code",
   "execution_count": 1,
   "metadata": {},
   "outputs": [],
   "source": [
    "#4.建立九九乘法表（key是文字、value是結果）"
   ]
  },
  {
   "cell_type": "code",
   "execution_count": 1,
   "metadata": {},
   "outputs": [],
   "source": [
    "#5.建立dict5計算字串txt出現各個字母的次數\n",
    "txt='rjoiwjfwonfwonrqwpekqwe'"
   ]
  },
  {
   "cell_type": "markdown",
   "metadata": {
    "colab_type": "text",
    "id": "3q0tXCTxi2On"
   },
   "source": [
    "## 回家作業"
   ]
  },
  {
   "cell_type": "markdown",
   "metadata": {},
   "source": [
    "#### 第一題\n",
    "檢查score有沒有在no1_dict的value裡面"
   ]
  },
  {
   "cell_type": "code",
   "execution_count": 12,
   "metadata": {},
   "outputs": [],
   "source": [
    "no1_dict={\"Math\":100,\"Chinese\":87,\"English\":78}\n",
    "score=100"
   ]
  },
  {
   "cell_type": "markdown",
   "metadata": {},
   "source": [
    "#### 第二題\n",
    "索引出no2_dict裡面history的成績"
   ]
  },
  {
   "cell_type": "code",
   "execution_count": 43,
   "metadata": {},
   "outputs": [],
   "source": [
    "no2_dict = { \n",
    "   \"class\":{ \n",
    "      \"student\":{ \n",
    "         \"name\":\"Mike\",\n",
    "         \"marks\":{ \n",
    "            \"physics\":70,\n",
    "            \"history\":80\n",
    "         }\n",
    "      }\n",
    "   }\n",
    "}"
   ]
  },
  {
   "cell_type": "markdown",
   "metadata": {},
   "source": [
    "#### 第三題\n",
    "建立一個no3_dict_rev將no3_dict的key跟value對調"
   ]
  },
  {
   "cell_type": "code",
   "execution_count": 46,
   "metadata": {},
   "outputs": [],
   "source": [
    "no3_dict={'English':'英文','Chinese':'中文','Math':'數學','Social Studies':'社會'}"
   ]
  },
  {
   "cell_type": "markdown",
   "metadata": {},
   "source": [
    "#### 第四題\n",
    "計算這些水果的總價（amount*prices再加總）"
   ]
  },
  {
   "cell_type": "code",
   "execution_count": 16,
   "metadata": {},
   "outputs": [],
   "source": [
    "amount = {\"banana\": 6,\"apple\": 0,\"orange\": 32,\"pear\": 15}\n",
    "\n",
    "prices = {\"banana\": 4,\"apple\": 2,\"orange\": 1.5,\"pear\": 3}"
   ]
  },
  {
   "cell_type": "markdown",
   "metadata": {},
   "source": [
    "#### 第五題\n",
    "找出no5_dict中最大和最小的value"
   ]
  },
  {
   "cell_type": "code",
   "execution_count": 13,
   "metadata": {},
   "outputs": [],
   "source": [
    "no5_dict={\"Math\":99,\"Chinese\":87,\"English\":78,\"Science\":59}\n",
    "\n"
   ]
  },
  {
   "cell_type": "markdown",
   "metadata": {
    "colab_type": "text",
    "id": "3q0tXCTxi2On"
   },
   "source": [
    "## 練習題答案"
   ]
  },
  {
   "cell_type": "code",
   "execution_count": 2,
   "metadata": {},
   "outputs": [
    {
     "data": {
      "text/plain": [
       "{1: 10, 2: 20, 3: 30, 4: 40}"
      ]
     },
     "execution_count": 2,
     "metadata": {},
     "output_type": "execute_result"
    }
   ],
   "source": [
    "#1.將這dict2的資料丟進dict1\n",
    "dict1={1:10, 2:20} \n",
    "dict2={3:30, 4:40} \n",
    "for i,j in dict2.items():\n",
    "    dict1[i]=j\n",
    "dict1"
   ]
  },
  {
   "cell_type": "code",
   "execution_count": 3,
   "metadata": {},
   "outputs": [
    {
     "data": {
      "text/plain": [
       "False"
      ]
     },
     "execution_count": 3,
     "metadata": {},
     "output_type": "execute_result"
    }
   ],
   "source": [
    "#2.檢查subject有沒有在dict1的key裡面\n",
    "dict1={\"Math\":100,\"Chinese\":87,\"English\":78}\n",
    "subject=\"Social Studies\"\n",
    "subject in dict1.keys()"
   ]
  },
  {
   "cell_type": "code",
   "execution_count": 4,
   "metadata": {},
   "outputs": [
    {
     "data": {
      "text/plain": [
       "{'name': 'Kelly', 'age': 25, 'salary': 8000, 'location': 'New york'}"
      ]
     },
     "execution_count": 4,
     "metadata": {},
     "output_type": "execute_result"
    }
   ],
   "source": [
    "#3.重新將city命名成location\n",
    "sampleDict = {\n",
    "  \"name\": \"Kelly\",\n",
    "  \"age\":25,\n",
    "  \"salary\": 8000,\n",
    "  \"city\": \"New york\"\n",
    "}\n",
    "sampleDict['location']=\"New york\"\n",
    "sampleDict.pop('city')\n",
    "sampleDict"
   ]
  },
  {
   "cell_type": "code",
   "execution_count": 7,
   "metadata": {},
   "outputs": [
    {
     "name": "stdout",
     "output_type": "stream",
     "text": [
      "{'1x1': 1, '1x2': 2, '1x3': 3, '1x4': 4, '1x5': 5, '1x6': 6, '1x7': 7, '1x8': 8, '1x9': 9, '2x1': 2, '2x2': 4, '2x3': 6, '2x4': 8, '2x5': 10, '2x6': 12, '2x7': 14, '2x8': 16, '2x9': 18, '3x1': 3, '3x2': 6, '3x3': 9, '3x4': 12, '3x5': 15, '3x6': 18, '3x7': 21, '3x8': 24, '3x9': 27, '4x1': 4, '4x2': 8, '4x3': 12, '4x4': 16, '4x5': 20, '4x6': 24, '4x7': 28, '4x8': 32, '4x9': 36, '5x1': 5, '5x2': 10, '5x3': 15, '5x4': 20, '5x5': 25, '5x6': 30, '5x7': 35, '5x8': 40, '5x9': 45, '6x1': 6, '6x2': 12, '6x3': 18, '6x4': 24, '6x5': 30, '6x6': 36, '6x7': 42, '6x8': 48, '6x9': 54, '7x1': 7, '7x2': 14, '7x3': 21, '7x4': 28, '7x5': 35, '7x6': 42, '7x7': 49, '7x8': 56, '7x9': 63, '8x1': 8, '8x2': 16, '8x3': 24, '8x4': 32, '8x5': 40, '8x6': 48, '8x7': 56, '8x8': 64, '8x9': 72, '9x1': 9, '9x2': 18, '9x3': 27, '9x4': 36, '9x5': 45, '9x6': 54, '9x7': 63, '9x8': 72, '9x9': 81}\n"
     ]
    }
   ],
   "source": [
    "#4.建立九九乘法表（key是文字、value是結果）\n",
    "dict4={}\n",
    "for i in range(1,10):\n",
    "    for j in range(1,10):\n",
    "        text = str(i)+'x'+str(j)\n",
    "        dict4[text]=i*j\n",
    "print(dict4)"
   ]
  },
  {
   "cell_type": "code",
   "execution_count": 10,
   "metadata": {},
   "outputs": [
    {
     "data": {
      "text/plain": [
       "{'r': 2,\n",
       " 'j': 2,\n",
       " 'o': 3,\n",
       " 'i': 1,\n",
       " 'w': 5,\n",
       " 'f': 2,\n",
       " 'n': 2,\n",
       " 'q': 2,\n",
       " 'p': 1,\n",
       " 'e': 2,\n",
       " 'k': 1}"
      ]
     },
     "execution_count": 10,
     "metadata": {},
     "output_type": "execute_result"
    }
   ],
   "source": [
    "#5.建立dict5計算字串txt出現各個字母的次數\n",
    "txt='rjoiwjfwonfwonrqwpekqwe'\n",
    "dict5={}\n",
    "for i in txt:\n",
    "    if i not in dict5:\n",
    "        dict5[i]=txt.count(i)\n",
    "dict5"
   ]
  },
  {
   "cell_type": "code",
   "execution_count": null,
   "metadata": {},
   "outputs": [],
   "source": []
  }
 ],
 "metadata": {
  "kernelspec": {
   "display_name": "Python 3.9.9 64-bit ('3.9.9')",
   "language": "python",
   "name": "python3"
  },
  "language_info": {
   "codemirror_mode": {
    "name": "ipython",
    "version": 3
   },
   "file_extension": ".py",
   "mimetype": "text/x-python",
   "name": "python",
   "nbconvert_exporter": "python",
   "pygments_lexer": "ipython3",
   "version": "3.11.6"
  },
  "vscode": {
   "interpreter": {
    "hash": "8cbaa6da7797478f60c5212ed19a0b0ddd8f36d4bec3dabef5ef91c21fcc369e"
   }
  }
 },
 "nbformat": 4,
 "nbformat_minor": 4
}
