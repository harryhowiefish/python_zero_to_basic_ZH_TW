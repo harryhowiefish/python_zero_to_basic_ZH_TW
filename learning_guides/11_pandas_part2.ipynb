{
 "cells": [
  {
   "cell_type": "markdown",
   "metadata": {},
   "source": [
    "## 額外小套件 datetime\n",
    "專門處理時間格式的套件，也很常在pandas或是matplotlib裡面被應用"
   ]
  },
  {
   "cell_type": "code",
   "execution_count": 1,
   "metadata": {},
   "outputs": [],
   "source": [
    "import datetime"
   ]
  },
  {
   "cell_type": "markdown",
   "metadata": {},
   "source": [
    "datetime.date.today():今天日期\n",
    "\n",
    "datetime.datetime.now():現在時間"
   ]
  },
  {
   "cell_type": "code",
   "execution_count": 2,
   "metadata": {},
   "outputs": [
    {
     "name": "stdout",
     "output_type": "stream",
     "text": [
      "2020-05-24\n",
      "2020-05-24 20:10:01.956913\n"
     ]
    }
   ],
   "source": [
    "print(datetime.date.today())\n",
    "print(datetime.datetime.now())\n"
   ]
  },
  {
   "cell_type": "code",
   "execution_count": 3,
   "metadata": {},
   "outputs": [
    {
     "data": {
      "text/plain": [
       "datetime.date(2019, 11, 11)"
      ]
     },
     "execution_count": 3,
     "metadata": {},
     "output_type": "execute_result"
    }
   ],
   "source": [
    "# date(year, month, day)\n",
    "#例題\n",
    "datetime.date(2019,11,11)"
   ]
  },
  {
   "cell_type": "code",
   "execution_count": 4,
   "metadata": {},
   "outputs": [],
   "source": [
    "#演練 用你的生日以datetime.date呈現"
   ]
  },
  {
   "cell_type": "code",
   "execution_count": 5,
   "metadata": {},
   "outputs": [
    {
     "name": "stdout",
     "output_type": "stream",
     "text": [
      "2009-05-10 10:10:10\n"
     ]
    }
   ],
   "source": [
    "# datetime(year, month, day[, hour[, minute[, second[, microsecond[,tzinfo]]]]])\n",
    "#例題\n",
    "print(datetime.datetime(2009,5,10,10,10,10))"
   ]
  },
  {
   "cell_type": "code",
   "execution_count": 6,
   "metadata": {},
   "outputs": [],
   "source": [
    "#演練 以datetime.datetime呈現今天早上8點50分"
   ]
  },
  {
   "cell_type": "markdown",
   "metadata": {},
   "source": [
    "datetime.timedelta：計算時間\n",
    "\n",
    "timedelta只能指定到\"週\"以下（週、天、小時、分鐘、秒、毫秒）"
   ]
  },
  {
   "cell_type": "code",
   "execution_count": 7,
   "metadata": {},
   "outputs": [
    {
     "data": {
      "text/plain": [
       "datetime.datetime(2020, 5, 29, 0, 10, 2, 620099)"
      ]
     },
     "execution_count": 7,
     "metadata": {},
     "output_type": "execute_result"
    }
   ],
   "source": [
    "datetime.datetime.now() + datetime.timedelta(hours=100)"
   ]
  },
  {
   "cell_type": "code",
   "execution_count": 8,
   "metadata": {},
   "outputs": [
    {
     "data": {
      "text/plain": [
       "datetime.timedelta(days=201)"
      ]
     },
     "execution_count": 8,
     "metadata": {},
     "output_type": "execute_result"
    }
   ],
   "source": [
    "#例題3\n",
    "t1 = datetime.date(year = 2018, month = 7, day = 12)\n",
    "t2 = datetime.date(year = 2017, month = 12, day = 23)\n",
    "t1 - t2"
   ]
  },
  {
   "cell_type": "code",
   "execution_count": 9,
   "metadata": {},
   "outputs": [],
   "source": [
    "#演練3 計算出你的生日到今天過了幾天"
   ]
  },
  {
   "cell_type": "markdown",
   "metadata": {},
   "source": [
    "strftime()：datetime object to string\n",
    "\n",
    "strptime()：string to datetime object"
   ]
  },
  {
   "cell_type": "code",
   "execution_count": 10,
   "metadata": {},
   "outputs": [
    {
     "name": "stdout",
     "output_type": "stream",
     "text": [
      "20:10:06\n",
      "05/24/2020, 20:10:06\n"
     ]
    }
   ],
   "source": [
    "print(datetime.datetime.now().strftime(\"%H:%M:%S\"))\n",
    "print(datetime.datetime.now().strftime(\"%m/%d/%Y, %H:%M:%S\"))\n"
   ]
  },
  {
   "cell_type": "code",
   "execution_count": 11,
   "metadata": {},
   "outputs": [
    {
     "name": "stdout",
     "output_type": "stream",
     "text": [
      "2018-06-21 00:00:00\n"
     ]
    }
   ],
   "source": [
    "print(datetime.datetime.strptime(\"21 June, 2018\", \"%d %B, %Y\"))"
   ]
  },
  {
   "cell_type": "markdown",
   "metadata": {},
   "source": [
    "轉換格式的各種樣態細節\n",
    "\n",
    "https://www.programiz.com/python-programming/datetime/strptime"
   ]
  },
  {
   "cell_type": "markdown",
   "metadata": {},
   "source": [
    "## Pandas 應用篇\n",
    "### 請參考 [100-pandas-puzzles](https://github.com/ajcr/100-pandas-puzzles/blob/master/100-pandas-puzzles.ipynb) 做更多 pandas  的資料操作練習\n",
    "\n",
    "#### 回答針對該資料的5個問題回答，並整理出資料佐證\n",
    "1. 是非題：在職專班總數是否少於300所？\n",
    "2. 是非題：所有學校開立的學士級別總數是否大於碩士級別和博士級別的總和？\n",
    "3. 擁有最多學系的學校是哪一個？\n",
    "4. 哪3個縣市擁有最多的學校？\n",
    "5. 跨各學校和等級別，哪個一個科系去年畢業最多學生？"
   ]
  },
  {
   "cell_type": "code",
   "execution_count": 20,
   "metadata": {},
   "outputs": [],
   "source": [
    "import pandas as pd\n",
    "df = pd.read_csv('../data/107_sdata.csv')"
   ]
  },
  {
   "cell_type": "code",
   "execution_count": 24,
   "metadata": {},
   "outputs": [
    {
     "data": {
      "text/html": [
       "<div>\n",
       "<style scoped>\n",
       "    .dataframe tbody tr th:only-of-type {\n",
       "        vertical-align: middle;\n",
       "    }\n",
       "\n",
       "    .dataframe tbody tr th {\n",
       "        vertical-align: top;\n",
       "    }\n",
       "\n",
       "    .dataframe thead th {\n",
       "        text-align: right;\n",
       "    }\n",
       "</style>\n",
       "<table border=\"1\" class=\"dataframe\">\n",
       "  <thead>\n",
       "    <tr style=\"text-align: right;\">\n",
       "      <th></th>\n",
       "      <th>學校代碼</th>\n",
       "      <th>學校名稱</th>\n",
       "      <th>科系代碼</th>\n",
       "      <th>科系名稱</th>\n",
       "      <th>日間∕進修別</th>\n",
       "      <th>等級別</th>\n",
       "      <th>學生數</th>\n",
       "      <th>教師數</th>\n",
       "      <th>上學年度畢業生數</th>\n",
       "      <th>縣市名稱</th>\n",
       "      <th>體系別</th>\n",
       "    </tr>\n",
       "  </thead>\n",
       "  <tbody>\n",
       "    <tr>\n",
       "      <th>0</th>\n",
       "      <td>1</td>\n",
       "      <td>國立政治大學</td>\n",
       "      <td>01111001</td>\n",
       "      <td>教育學系</td>\n",
       "      <td>D 日</td>\n",
       "      <td>D 博士</td>\n",
       "      <td>111</td>\n",
       "      <td>0</td>\n",
       "      <td>18</td>\n",
       "      <td>30 臺北市</td>\n",
       "      <td>1 一般</td>\n",
       "    </tr>\n",
       "    <tr>\n",
       "      <th>1</th>\n",
       "      <td>1</td>\n",
       "      <td>國立政治大學</td>\n",
       "      <td>01111001</td>\n",
       "      <td>教育學系</td>\n",
       "      <td>D 日</td>\n",
       "      <td>M 碩士</td>\n",
       "      <td>45</td>\n",
       "      <td>0</td>\n",
       "      <td>11</td>\n",
       "      <td>30 臺北市</td>\n",
       "      <td>1 一般</td>\n",
       "    </tr>\n",
       "    <tr>\n",
       "      <th>2</th>\n",
       "      <td>1</td>\n",
       "      <td>國立政治大學</td>\n",
       "      <td>01111001</td>\n",
       "      <td>教育學系</td>\n",
       "      <td>D 日</td>\n",
       "      <td>B 學士</td>\n",
       "      <td>239</td>\n",
       "      <td>16</td>\n",
       "      <td>51</td>\n",
       "      <td>30 臺北市</td>\n",
       "      <td>1 一般</td>\n",
       "    </tr>\n",
       "    <tr>\n",
       "      <th>3</th>\n",
       "      <td>1</td>\n",
       "      <td>國立政治大學</td>\n",
       "      <td>01114005</td>\n",
       "      <td>教育行政與政策研究所</td>\n",
       "      <td>D 日</td>\n",
       "      <td>M 碩士</td>\n",
       "      <td>46</td>\n",
       "      <td>1</td>\n",
       "      <td>18</td>\n",
       "      <td>30 臺北市</td>\n",
       "      <td>1 一般</td>\n",
       "    </tr>\n",
       "    <tr>\n",
       "      <th>4</th>\n",
       "      <td>1</td>\n",
       "      <td>國立政治大學</td>\n",
       "      <td>01114006</td>\n",
       "      <td>學校行政碩士在職專班</td>\n",
       "      <td>N 職</td>\n",
       "      <td>M 碩士</td>\n",
       "      <td>81</td>\n",
       "      <td>0</td>\n",
       "      <td>15</td>\n",
       "      <td>30 臺北市</td>\n",
       "      <td>1 一般</td>\n",
       "    </tr>\n",
       "  </tbody>\n",
       "</table>\n",
       "</div>"
      ],
      "text/plain": [
       "   學校代碼    學校名稱      科系代碼        科系名稱 日間∕進修別   等級別  學生數  教師數  上學年度畢業生數  \\\n",
       "0     1  國立政治大學  01111001        教育學系    D 日  D 博士  111    0        18   \n",
       "1     1  國立政治大學  01111001        教育學系    D 日  M 碩士   45    0        11   \n",
       "2     1  國立政治大學  01111001        教育學系    D 日  B 學士  239   16        51   \n",
       "3     1  國立政治大學  01114005  教育行政與政策研究所    D 日  M 碩士   46    1        18   \n",
       "4     1  國立政治大學  01114006  學校行政碩士在職專班    N 職  M 碩士   81    0        15   \n",
       "\n",
       "     縣市名稱   體系別  \n",
       "0  30 臺北市  1 一般  \n",
       "1  30 臺北市  1 一般  \n",
       "2  30 臺北市  1 一般  \n",
       "3  30 臺北市  1 一般  \n",
       "4  30 臺北市  1 一般  "
      ]
     },
     "execution_count": 24,
     "metadata": {},
     "output_type": "execute_result"
    }
   ],
   "source": [
    "df.head()"
   ]
  },
  {
   "cell_type": "code",
   "execution_count": 17,
   "metadata": {},
   "outputs": [],
   "source": [
    "#第一題答案：\n",
    "#下列為佐證資料"
   ]
  },
  {
   "cell_type": "code",
   "execution_count": 14,
   "metadata": {},
   "outputs": [],
   "source": [
    "#第二題答案：\n",
    "#下列為佐證資料"
   ]
  },
  {
   "cell_type": "code",
   "execution_count": 14,
   "metadata": {},
   "outputs": [],
   "source": [
    "#第三題答案：\n",
    "#下列為佐證資料"
   ]
  },
  {
   "cell_type": "code",
   "execution_count": 14,
   "metadata": {},
   "outputs": [],
   "source": [
    "#第四題答案：\n",
    "#下列為佐證資料"
   ]
  },
  {
   "cell_type": "code",
   "execution_count": 14,
   "metadata": {},
   "outputs": [],
   "source": [
    "#第五題答案：\n",
    "#下列為佐證資料"
   ]
  },
  {
   "cell_type": "markdown",
   "metadata": {},
   "source": [
    "## Homework\n",
    "#### 回答針對該資料的5個問題回答，並整理出資料佐證\n",
    "\n",
    "1. 人數最多的班和最少的班各幾個人？\n",
    "2. 最後三題簡答題各題的平均作答字數為多少？\n",
    "3. 是非題：覺得課程說明越清楚的人平均來說是否對於單元滿意度越高？\n",
    "4. 是非題：Feedback寫越長的人，平均起來是否對單元滿意度較高？\n",
    "5. 是非題：英文程度較好的班級的學生，平均來說對於課堂說明是否了解比較清楚？（英文程度LL>P5>P3）"
   ]
  },
  {
   "cell_type": "code",
   "execution_count": 25,
   "metadata": {
    "collapsed": true,
    "jupyter": {
     "outputs_hidden": true
    }
   },
   "outputs": [],
   "source": [
    "import pandas as pd\n",
    "df = pd.read_csv('../data/G8_unit_feedback.csv')"
   ]
  },
  {
   "cell_type": "code",
   "execution_count": 28,
   "metadata": {},
   "outputs": [
    {
     "data": {
      "text/html": [
       "<div>\n",
       "<style scoped>\n",
       "    .dataframe tbody tr th:only-of-type {\n",
       "        vertical-align: middle;\n",
       "    }\n",
       "\n",
       "    .dataframe tbody tr th {\n",
       "        vertical-align: top;\n",
       "    }\n",
       "\n",
       "    .dataframe thead th {\n",
       "        text-align: right;\n",
       "    }\n",
       "</style>\n",
       "<table border=\"1\" class=\"dataframe\">\n",
       "  <thead>\n",
       "    <tr style=\"text-align: right;\">\n",
       "      <th></th>\n",
       "      <th>Timestamp</th>\n",
       "      <th>Which class are you in?</th>\n",
       "      <th>How much did you enjoy this unit?</th>\n",
       "      <th>Are the assignments for every class clear for you to understand?</th>\n",
       "      <th>Does the to-do list format for this unit make sense to you?</th>\n",
       "      <th>Would you prefer we teach you a software to draw this map?</th>\n",
       "      <th>What did you like about this unit?</th>\n",
       "      <th>What did you dislike about this unit?</th>\n",
       "      <th>What would you like to change about this unit to make it better?</th>\n",
       "      <th>Feedback or comments for your teacher</th>\n",
       "    </tr>\n",
       "  </thead>\n",
       "  <tbody>\n",
       "    <tr>\n",
       "      <th>0</th>\n",
       "      <td>5/5/2020 10:54:03</td>\n",
       "      <td>8P3-B</td>\n",
       "      <td>10</td>\n",
       "      <td>9</td>\n",
       "      <td>I have no preference, I just hate planning</td>\n",
       "      <td>I like the option to choose how I want to make...</td>\n",
       "      <td>walk around and draw the map</td>\n",
       "      <td>doing the worksheet</td>\n",
       "      <td>don't need the worksheet</td>\n",
       "      <td>nothing</td>\n",
       "    </tr>\n",
       "    <tr>\n",
       "      <th>1</th>\n",
       "      <td>5/5/2020 10:54:09</td>\n",
       "      <td>8P3-B</td>\n",
       "      <td>7</td>\n",
       "      <td>7</td>\n",
       "      <td>I have no preference, I just hate planning</td>\n",
       "      <td>I have no preference</td>\n",
       "      <td>drawing the map.</td>\n",
       "      <td>planning to-do list.</td>\n",
       "      <td>no planning.</td>\n",
       "      <td>good.</td>\n",
       "    </tr>\n",
       "    <tr>\n",
       "      <th>2</th>\n",
       "      <td>5/5/2020 10:54:19</td>\n",
       "      <td>8P3-B</td>\n",
       "      <td>9</td>\n",
       "      <td>10</td>\n",
       "      <td>I prefer this format</td>\n",
       "      <td>I like the option to choose how I want to make...</td>\n",
       "      <td>Draw the map</td>\n",
       "      <td>No</td>\n",
       "      <td>I think this unit is good</td>\n",
       "      <td>Good</td>\n",
       "    </tr>\n",
       "    <tr>\n",
       "      <th>3</th>\n",
       "      <td>5/5/2020 10:56:23</td>\n",
       "      <td>8P3-B</td>\n",
       "      <td>10</td>\n",
       "      <td>6</td>\n",
       "      <td>I prefer to write a journal or week by week task</td>\n",
       "      <td>I like the option to choose how I want to make...</td>\n",
       "      <td>Draw</td>\n",
       "      <td>No</td>\n",
       "      <td>No</td>\n",
       "      <td>No</td>\n",
       "    </tr>\n",
       "    <tr>\n",
       "      <th>4</th>\n",
       "      <td>5/5/2020 10:59:37</td>\n",
       "      <td>8P3-B</td>\n",
       "      <td>8</td>\n",
       "      <td>9</td>\n",
       "      <td>I prefer this format</td>\n",
       "      <td>I have no preference</td>\n",
       "      <td>Make a map with partner</td>\n",
       "      <td>time.</td>\n",
       "      <td>give us time to see the building</td>\n",
       "      <td>I think this activity is interesting but it ha...</td>\n",
       "    </tr>\n",
       "  </tbody>\n",
       "</table>\n",
       "</div>"
      ],
      "text/plain": [
       "           Timestamp Which class are you in?  \\\n",
       "0  5/5/2020 10:54:03                   8P3-B   \n",
       "1  5/5/2020 10:54:09                   8P3-B   \n",
       "2  5/5/2020 10:54:19                   8P3-B   \n",
       "3  5/5/2020 10:56:23                   8P3-B   \n",
       "4  5/5/2020 10:59:37                   8P3-B   \n",
       "\n",
       "   How much did you enjoy this unit?  \\\n",
       "0                                 10   \n",
       "1                                  7   \n",
       "2                                  9   \n",
       "3                                 10   \n",
       "4                                  8   \n",
       "\n",
       "   Are the assignments for every class clear for you to understand?  \\\n",
       "0                                                  9                  \n",
       "1                                                  7                  \n",
       "2                                                 10                  \n",
       "3                                                  6                  \n",
       "4                                                  9                  \n",
       "\n",
       "  Does the to-do list format for this unit make sense to you?  \\\n",
       "0         I have no preference, I just hate planning            \n",
       "1         I have no preference, I just hate planning            \n",
       "2                               I prefer this format            \n",
       "3   I prefer to write a journal or week by week task            \n",
       "4                               I prefer this format            \n",
       "\n",
       "  Would you prefer we teach you a software to draw this map?  \\\n",
       "0  I like the option to choose how I want to make...           \n",
       "1                               I have no preference           \n",
       "2  I like the option to choose how I want to make...           \n",
       "3  I like the option to choose how I want to make...           \n",
       "4                               I have no preference           \n",
       "\n",
       "  What did you like about this unit? What did you dislike about this unit?  \\\n",
       "0       walk around and draw the map                   doing the worksheet   \n",
       "1                   drawing the map.                  planning to-do list.   \n",
       "2                       Draw the map                                    No   \n",
       "3                               Draw                                    No   \n",
       "4            Make a map with partner                                 time.   \n",
       "\n",
       "  What would you like to change about this unit to make it better?  \\\n",
       "0                           don't need the worksheet                 \n",
       "1                                       no planning.                 \n",
       "2                          I think this unit is good                 \n",
       "3                                                 No                 \n",
       "4                   give us time to see the building                 \n",
       "\n",
       "               Feedback or comments for your teacher  \n",
       "0                                            nothing  \n",
       "1                                              good.  \n",
       "2                                               Good  \n",
       "3                                                 No  \n",
       "4  I think this activity is interesting but it ha...  "
      ]
     },
     "execution_count": 28,
     "metadata": {},
     "output_type": "execute_result"
    }
   ],
   "source": [
    "df.head()"
   ]
  },
  {
   "cell_type": "code",
   "execution_count": 14,
   "metadata": {},
   "outputs": [],
   "source": [
    "#第一題答案：\n",
    "#下列為佐證資料"
   ]
  },
  {
   "cell_type": "code",
   "execution_count": 14,
   "metadata": {},
   "outputs": [],
   "source": [
    "#第二題答案：\n",
    "#下列為佐證資料"
   ]
  },
  {
   "cell_type": "code",
   "execution_count": 14,
   "metadata": {},
   "outputs": [],
   "source": [
    "#第三題答案：\n",
    "#下列為佐證資料"
   ]
  },
  {
   "cell_type": "code",
   "execution_count": 14,
   "metadata": {},
   "outputs": [],
   "source": [
    "#第四題答案：\n",
    "#下列為佐證資料"
   ]
  },
  {
   "cell_type": "code",
   "execution_count": 14,
   "metadata": {},
   "outputs": [],
   "source": [
    "#第五題答案：\n",
    "#下列為佐證資料"
   ]
  }
 ],
 "metadata": {
  "kernelspec": {
   "display_name": "Python 3 (ipykernel)",
   "language": "python",
   "name": "python3"
  },
  "language_info": {
   "codemirror_mode": {
    "name": "ipython",
    "version": 3
   },
   "file_extension": ".py",
   "mimetype": "text/x-python",
   "name": "python",
   "nbconvert_exporter": "python",
   "pygments_lexer": "ipython3",
   "version": "3.9.10"
  }
 },
 "nbformat": 4,
 "nbformat_minor": 4
}
