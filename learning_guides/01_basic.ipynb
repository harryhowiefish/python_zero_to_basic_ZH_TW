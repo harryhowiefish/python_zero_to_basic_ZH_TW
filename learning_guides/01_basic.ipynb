{
 "cells": [
  {
   "cell_type": "markdown",
   "metadata": {
    "id": "-29Ces1ji2NL"
   },
   "source": [
    "## 基本介面操作\n",
    "\n",
    "\n",
    "一個框框叫做一個cell，每個cell可以分開執行\n",
    "\n",
    "預設的框框是code，可以改成markdown（常用）,raw（不常用）\n",
    "\n",
    "shift+enter：執行且往下一欄\n",
    "\n",
    "ctrl+enter：執行且停留在這一欄\n",
    "\n",
    "手打\"#\" or cmd(ctrl)+/ 註解\n",
    "\n",
    "cell operation：Z,X,C,V,DD（刪除）,A（加前面）,B（加後面）"
   ]
  },
  {
   "cell_type": "code",
   "execution_count": null,
   "metadata": {
    "id": "GLFqbhEdi2NP"
   },
   "outputs": [],
   "source": [
    "#  各項執行練習 每個指令操作一次"
   ]
  },
  {
   "cell_type": "markdown",
   "metadata": {
    "id": "PAbFZEE7i2NU"
   },
   "source": [
    "## 變數：表示一個東西的符號（字串）\n",
    "\n",
    "使用原則：\n",
    "\n",
    "-英文字母開頭,後面可接英文字母、數字、底線（_）\n",
    "\n",
    "-多個變數名稱可以代表同一個資料，一個變數名稱只能代表一個值（但可以重複宣告，會覆蓋過去）\n",
    "\n",
    "-宣告前不能使用，宣告後整個檔案都可以用那個變數"
   ]
  },
  {
   "cell_type": "code",
   "execution_count": null,
   "metadata": {
    "id": "T1C2VzVyi2NV",
    "outputId": "6614412f-70ce-463a-d32f-60afcef62057"
   },
   "outputs": [
    {
     "data": {
      "text/plain": [
       "(1234567890, 1234567890)"
      ]
     },
     "execution_count": 2,
     "metadata": {
      "tags": []
     },
     "output_type": "execute_result"
    }
   ],
   "source": [
    "# 變數宣告示範題：讓x代表1234567890、讓y也代表1234567890\n",
    "x = 1234567890\n",
    "y = 1234567890\n",
    "# y = x\n",
    "x,y"
   ]
  },
  {
   "cell_type": "code",
   "execution_count": null,
   "metadata": {
    "id": "zwx2P8Dci2Na"
   },
   "outputs": [],
   "source": [
    "# 變數宣告練習題：改讓x代表3.1415926、讓y代表 0"
   ]
  },
  {
   "cell_type": "markdown",
   "metadata": {
    "id": "ZjkYkFhRi2Ne"
   },
   "source": [
    "## 基本變數種類/資料型態：\n",
    "\n",
    "-數字（int, float)：一串之後可以被運算的東西  int（正整數）\n",
    "\n",
    "-文字（str）\n",
    "\n",
    "-布林值（boolean）: True / False\n",
    "\n",
    "-清單/列表（list）"
   ]
  },
  {
   "cell_type": "code",
   "execution_count": null,
   "metadata": {
    "id": "5q8DBRlyi2Nf",
    "outputId": "c1f18b36-4d34-4334-f831-5cb8b64beba7"
   },
   "outputs": [
    {
     "data": {
      "text/plain": [
       "(11235, 'I have a apple', True, ['DAA', 'DSA', 'DGA', 'DSC'])"
      ]
     },
     "execution_count": 4,
     "metadata": {
      "tags": []
     },
     "output_type": "execute_result"
    }
   ],
   "source": [
    "# 資料型態示範題：讓a代表11235 / 讓b代表 I have a apple. / 讓c代表True / 讓d代表下列清單（DAA,DSA,DGA,DSC)\n",
    "a = 11235\n",
    "b = \"I have a apple\"  #文字的部分 \"\" 或是 ''\n",
    "c = True\n",
    "d = ['DAA','DSA','DGA','DSC']\n",
    "a,b,c,d"
   ]
  },
  {
   "cell_type": "code",
   "execution_count": null,
   "metadata": {
    "id": "OKouvPhOi2Nj"
   },
   "outputs": [],
   "source": [
    "# 資料型態練習題：讓a代表3.14 / 讓b代表 I have a 123pen. / 讓c代表False / 讓d代表下列清單（1101,1102,1201,1202) *文字格式"
   ]
  },
  {
   "cell_type": "markdown",
   "metadata": {
    "id": "tcOkYVdui2Nn"
   },
   "source": [
    "## 基本內建函式（function)\n",
    "\n",
    "-print(): 印出來\n",
    "\n",
    "-直接數學運算"
   ]
  },
  {
   "cell_type": "markdown",
   "metadata": {
    "id": "002Jz3Vri2No"
   },
   "source": [
    "| Symbol | Task Performed |\n",
    "|----|---|\n",
    "| +  | Addition |\n",
    "| -  | Subtraction |\n",
    "| /  | division |\n",
    "| %  | mod |\n",
    "| *  | multiplication |\n",
    "| //  | floor division |\n",
    "| **  | to the power of |"
   ]
  },
  {
   "cell_type": "markdown",
   "metadata": {
    "id": "AnKdVEGXi2Nq"
   },
   "source": [
    "-sorted():排序（從小到大）\n",
    "\n",
    "-int():取正整數\n",
    "\n",
    "-str()：把資料改成字串\n",
    "\n",
    "-len():長度（有些資料型態才可以用）\n",
    "\n",
    "-type()：回傳資料型態\n",
    "\n",
    "-round(number,ndigits)：四捨五入到小數點n位\n",
    "\n",
    "-range(start,stop,step) ：製作數字區間\n",
    "\n",
    "-sum()：加總"
   ]
  },
  {
   "cell_type": "code",
   "execution_count": null,
   "metadata": {
    "id": "3uoNCvF5kT59",
    "outputId": "767f293b-0066-433f-e943-83989e802312"
   },
   "outputs": [
    {
     "data": {
      "text/plain": [
       "[0, 2, 4, 6, 8]"
      ]
     },
     "execution_count": 5,
     "metadata": {},
     "output_type": "execute_result"
    }
   ],
   "source": [
    "list(range(0,10,2))"
   ]
  },
  {
   "cell_type": "code",
   "execution_count": null,
   "metadata": {
    "id": "RovI5DSLi2Nr",
    "outputId": "4ce7ef20-3d14-4349-8219-3cf3615406db"
   },
   "outputs": [
    {
     "data": {
      "text/plain": [
       "(11235, 'I have a apple', True)"
      ]
     },
     "execution_count": 6,
     "metadata": {
      "tags": []
     },
     "output_type": "execute_result"
    }
   ],
   "source": [
    "# 各項函式示範題：\n",
    "#print方法1\n",
    "a,b,c"
   ]
  },
  {
   "cell_type": "code",
   "execution_count": null,
   "metadata": {
    "id": "6T_dSwl4i2Nu",
    "outputId": "6a051296-fd30-47a8-b0b5-ece64d685c54"
   },
   "outputs": [
    {
     "data": {
      "text/plain": [
       "True"
      ]
     },
     "execution_count": 7,
     "metadata": {
      "tags": []
     },
     "output_type": "execute_result"
    }
   ],
   "source": [
    "#print方法2\n",
    "a\n",
    "b\n",
    "c"
   ]
  },
  {
   "cell_type": "code",
   "execution_count": null,
   "metadata": {
    "id": "wjqqSt5Ui2Ny",
    "outputId": "7db058d3-5062-4628-8ad0-4d1a986c3f81"
   },
   "outputs": [
    {
     "name": "stdout",
     "output_type": "stream",
     "text": [
      "11235\n",
      "I have a apple\n",
      "True\n"
     ]
    }
   ],
   "source": [
    "#print方法3\n",
    "print(a)\n",
    "print(b)\n",
    "print(c)"
   ]
  },
  {
   "cell_type": "code",
   "execution_count": null,
   "metadata": {
    "id": "8HbIFtgai2N1",
    "outputId": "c882d6c7-c8fa-40b7-a16d-10ae048af705"
   },
   "outputs": [
    {
     "data": {
      "text/plain": [
       "4.0"
      ]
     },
     "execution_count": 9,
     "metadata": {
      "tags": []
     },
     "output_type": "execute_result"
    }
   ],
   "source": [
    "(((1+1-1)*100 %13)//2)**2/4"
   ]
  },
  {
   "cell_type": "code",
   "execution_count": null,
   "metadata": {
    "id": "9oULgn3wi2N5",
    "outputId": "fa07c1f8-2025-4cba-ddb3-e11dc0273372"
   },
   "outputs": [
    {
     "data": {
      "text/plain": [
       "[123, 312, 3124, 5432, 65345]"
      ]
     },
     "execution_count": 10,
     "metadata": {
      "tags": []
     },
     "output_type": "execute_result"
    }
   ],
   "source": [
    "sorted([312,3124,65345,123,5432])"
   ]
  },
  {
   "cell_type": "code",
   "execution_count": null,
   "metadata": {
    "id": "kRgtmlZni2N8",
    "outputId": "49691f54-5fa5-4728-d1b1-69c576286e0c"
   },
   "outputs": [
    {
     "data": {
      "text/plain": [
       "3"
      ]
     },
     "execution_count": 11,
     "metadata": {
      "tags": []
     },
     "output_type": "execute_result"
    }
   ],
   "source": [
    "#int():無條件捨去\n",
    "int(3.14159)"
   ]
  },
  {
   "cell_type": "code",
   "execution_count": null,
   "metadata": {
    "id": "zi5lwxuqi2N_",
    "outputId": "38572012-34c5-42eb-e4e0-c4571ee60fe9"
   },
   "outputs": [
    {
     "data": {
      "text/plain": [
       "'3.14159'"
      ]
     },
     "execution_count": 12,
     "metadata": {
      "tags": []
     },
     "output_type": "execute_result"
    }
   ],
   "source": [
    "str(3.14159)"
   ]
  },
  {
   "cell_type": "code",
   "execution_count": null,
   "metadata": {
    "id": "ilfnQDwDi2OC",
    "outputId": "9dd56415-d7f2-4693-f200-0addd0c58227"
   },
   "outputs": [
    {
     "data": {
      "text/plain": [
       "(14, 4)"
      ]
     },
     "execution_count": 13,
     "metadata": {
      "tags": []
     },
     "output_type": "execute_result"
    }
   ],
   "source": [
    "#len() 只能針對字串跟列表，數值跟布林是沒有長度的\n",
    "len(b),len(d)"
   ]
  },
  {
   "cell_type": "code",
   "execution_count": null,
   "metadata": {
    "id": "5PGujeYni2OG",
    "outputId": "036e24fd-e3d4-4382-c3f8-5411ff634cc8"
   },
   "outputs": [
    {
     "data": {
      "text/plain": [
       "(int, str, bool, list)"
      ]
     },
     "execution_count": 14,
     "metadata": {
      "tags": []
     },
     "output_type": "execute_result"
    }
   ],
   "source": [
    "type(a),type(b),type(c),type(d)"
   ]
  },
  {
   "cell_type": "code",
   "execution_count": null,
   "metadata": {
    "id": "2KNtxS44i2OK",
    "outputId": "5c0650fb-6d36-4500-c9d6-e67c5792ee50"
   },
   "outputs": [
    {
     "data": {
      "text/plain": [
       "3.1416"
      ]
     },
     "execution_count": 15,
     "metadata": {
      "tags": []
     },
     "output_type": "execute_result"
    }
   ],
   "source": [
    "round(3.1415926,4)"
   ]
  },
  {
   "cell_type": "code",
   "execution_count": null,
   "metadata": {
    "id": "xq7w1KPxi2OO",
    "outputId": "4a77ef13-fa91-4496-fa0a-65deedff6b0c"
   },
   "outputs": [
    {
     "data": {
      "text/plain": [
       "[0, 1, 2, 3, 4, 5, 6, 7, 8, 9]"
      ]
     },
     "execution_count": 16,
     "metadata": {
      "tags": []
     },
     "output_type": "execute_result"
    }
   ],
   "source": [
    "#range(start,stop,step): start開始數值(預設為0）、stop結束數值（不包含）、step差值（預設為1)\n",
    "# list(range(10,0,-2))\n",
    "list(range(10))"
   ]
  },
  {
   "cell_type": "code",
   "execution_count": null,
   "metadata": {
    "id": "y2_T8vzWi2OR",
    "outputId": "f9853421-8396-4ab0-d443-73f60a759828"
   },
   "outputs": [
    {
     "data": {
      "text/plain": [
       "55"
      ]
     },
     "execution_count": 17,
     "metadata": {
      "tags": []
     },
     "output_type": "execute_result"
    }
   ],
   "source": [
    "sum(list(range(0,11,1)))"
   ]
  },
  {
   "cell_type": "code",
   "execution_count": null,
   "metadata": {
    "id": "MfMtnQfFi2OU"
   },
   "outputs": [],
   "source": [
    "# 各項函式練習題：\n",
    "#印出：我的名字是XXX、（（1加232加1231）除193減2394）乘123、找出100除7的商數跟餘數、2的8次方\n",
    "#排序清單（DAA,DSA,DGA,DSC)\n",
    "#針對x (3.1415926）取正整數\n",
    "#回傳清單d跟字串b的長度\n",
    "#回傳c的資料型態\n",
    "#針對x (3.1415926）取四捨五入到第二位\n",
    "#製作0~20(不包含20）的偶數數字清單，\n",
    "#將0~20(不包含20）的偶數數字清單加總在一起"
   ]
  },
  {
   "cell_type": "markdown",
   "metadata": {
    "id": "1Me79VRMi2OX"
   },
   "source": [
    "## 練習題（上學期作業，答案在這份檔案最下方）"
   ]
  },
  {
   "cell_type": "markdown",
   "metadata": {
    "id": "mkmOzBlPi2OY"
   },
   "source": [
    "#### 第一題\n",
    "\n",
    "利用「加、減、乘、除、求商數、求餘數、指數」至少各一次，取得12345的結果"
   ]
  },
  {
   "cell_type": "code",
   "execution_count": null,
   "metadata": {
    "id": "OyaT_3FNi2OZ"
   },
   "outputs": [],
   "source": []
  },
  {
   "cell_type": "markdown",
   "metadata": {
    "id": "JzYMPN8ai2Oc"
   },
   "source": [
    "#### 第二題\n",
    "把2的0次方到2的5次方列出在列表裡"
   ]
  },
  {
   "cell_type": "code",
   "execution_count": null,
   "metadata": {
    "id": "RAiAWoGoi2Od"
   },
   "outputs": [],
   "source": []
  },
  {
   "cell_type": "markdown",
   "metadata": {
    "id": "O5D9WFb4i2Og"
   },
   "source": [
    "#### 第三題\n",
    "\n",
    "對x作轉換，讓回傳的結果為字串(str)格式的\"3.14\""
   ]
  },
  {
   "cell_type": "code",
   "execution_count": null,
   "metadata": {
    "id": "VMpXwXf_i2Og"
   },
   "outputs": [],
   "source": [
    "x = 3.1415926"
   ]
  },
  {
   "cell_type": "markdown",
   "metadata": {
    "id": "kMxVr7GLi2Oj"
   },
   "source": [
    "#### 第四題\n",
    "製作一個列表，內部的數值是從101遞減到1，各個數字間的差值為5"
   ]
  },
  {
   "cell_type": "code",
   "execution_count": null,
   "metadata": {
    "id": "2i_FfTqui2Ok"
   },
   "outputs": [],
   "source": []
  },
  {
   "cell_type": "markdown",
   "metadata": {
    "id": "3q0tXCTxi2On"
   },
   "source": [
    "## 額外練習題（答案在這份檔案最下方）"
   ]
  },
  {
   "cell_type": "code",
   "execution_count": null,
   "metadata": {
    "id": "FrEIC-7ai2Oq"
   },
   "outputs": [],
   "source": [
    "#1讓a等於10，讓b等於a+10"
   ]
  },
  {
   "cell_type": "code",
   "execution_count": null,
   "metadata": {
    "id": "g3YVfltHi2Ou"
   },
   "outputs": [],
   "source": [
    "#2讓a等於\"hello \"，讓b等於\"world\" 並將a跟b串在一起印出"
   ]
  },
  {
   "cell_type": "code",
   "execution_count": null,
   "metadata": {
    "id": "C360Za0ni2Ox"
   },
   "outputs": [],
   "source": [
    "#3回傳True的資料型態"
   ]
  },
  {
   "cell_type": "code",
   "execution_count": null,
   "metadata": {
    "id": "T2RsVz1ii2O0"
   },
   "outputs": [],
   "source": [
    "#4排序這個列表['English','Chinese','Math','Science']"
   ]
  },
  {
   "cell_type": "code",
   "execution_count": null,
   "metadata": {
    "id": "6_OHzJSXi2O4"
   },
   "outputs": [],
   "source": [
    "#5製作一個列表，內部的數值是從1遞增到15，各個數字間的差值為1"
   ]
  },
  {
   "cell_type": "code",
   "execution_count": null,
   "metadata": {
    "id": "UJciC6uwi2O7"
   },
   "outputs": [],
   "source": [
    "#6印出這個字串的長度 \"HTML5 standards have been implemented across all modern web browsers\""
   ]
  },
  {
   "cell_type": "code",
   "execution_count": null,
   "metadata": {
    "id": "h2-3FcA4i2O-"
   },
   "outputs": [],
   "source": [
    "#7加總1~10的每個正整數"
   ]
  },
  {
   "cell_type": "code",
   "execution_count": null,
   "metadata": {
    "id": "q-yeKH8Ri2PC"
   },
   "outputs": [],
   "source": [
    "#8回傳3.14跟\"3.14\"的資料型態"
   ]
  },
  {
   "cell_type": "code",
   "execution_count": null,
   "metadata": {
    "id": "Mq6NI2yAi2PE"
   },
   "outputs": [],
   "source": [
    "#9針對x (3.1415926）取正整數"
   ]
  },
  {
   "cell_type": "code",
   "execution_count": null,
   "metadata": {
    "id": "AOgdGiywi2PH"
   },
   "outputs": [],
   "source": [
    "#10製作一個列表，內部的數值是從10遞減到1，各個數字間的差值為1"
   ]
  },
  {
   "cell_type": "markdown",
   "metadata": {
    "id": "Nwfygyzgi2PK"
   },
   "source": [
    "## 作業（共五題，答案週日早上公布）"
   ]
  },
  {
   "cell_type": "markdown",
   "metadata": {
    "id": "o64DFJzHi2PL"
   },
   "source": [
    "#### 第一題\n",
    "計算233除以7的餘數跟商數"
   ]
  },
  {
   "cell_type": "code",
   "execution_count": null,
   "metadata": {
    "id": "Sab2bwHBi2PM"
   },
   "outputs": [],
   "source": []
  },
  {
   "cell_type": "markdown",
   "metadata": {
    "id": "RN0TZZaoi2PP"
   },
   "source": [
    "#### 第二題\n",
    "計算字串「康橋國際學校」的長度"
   ]
  },
  {
   "cell_type": "code",
   "execution_count": null,
   "metadata": {
    "id": "Xh35aHjti2PP"
   },
   "outputs": [],
   "source": []
  },
  {
   "cell_type": "markdown",
   "metadata": {
    "id": "1Td-61REi2PR"
   },
   "source": [
    "#### 第三題\n",
    "計算3123除以42並四捨五入到第二位"
   ]
  },
  {
   "cell_type": "code",
   "execution_count": null,
   "metadata": {
    "id": "CaBsVpNsi2PS"
   },
   "outputs": [],
   "source": []
  },
  {
   "cell_type": "markdown",
   "metadata": {
    "id": "6WbLNJjti2PU"
   },
   "source": [
    "#### 第四題\n",
    "製作一個列表，內部的數值是從1遞增到23，各個數字間的差值為2"
   ]
  },
  {
   "cell_type": "code",
   "execution_count": null,
   "metadata": {
    "id": "q8v-c729i2PV"
   },
   "outputs": [],
   "source": []
  },
  {
   "cell_type": "markdown",
   "metadata": {
    "id": "7yHhrwDfi2PZ"
   },
   "source": [
    "#### 第五題\n",
    "製作一個列表，內部的數值是從100遞減到0，各個數字間的差值為5，並將列表的值全部加總在一起"
   ]
  },
  {
   "cell_type": "code",
   "execution_count": null,
   "metadata": {
    "id": "8HO5TGZ3i2Pa"
   },
   "outputs": [],
   "source": []
  },
  {
   "cell_type": "markdown",
   "metadata": {
    "id": "m9FK00TOi2Pd"
   },
   "source": [
    "## 練習題答案"
   ]
  },
  {
   "cell_type": "markdown",
   "metadata": {
    "id": "DaGPAfMti2Pe"
   },
   "source": [
    "#### 第一題\n",
    "\n",
    "利用「加、減、乘、除、求商數、求餘數、指數」至少各一次，取得12345的結果"
   ]
  },
  {
   "cell_type": "code",
   "execution_count": null,
   "metadata": {
    "id": "dcYmC5BFi2Pf",
    "outputId": "20a69b75-ec53-4224-855b-bad61ea0ba5c"
   },
   "outputs": [
    {
     "data": {
      "text/plain": [
       "12345"
      ]
     },
     "execution_count": 30,
     "metadata": {
      "tags": []
     },
     "output_type": "execute_result"
    }
   ],
   "source": [
    "int(((((10+5-2)*10/2) // 3) %13)**3+11833)"
   ]
  },
  {
   "cell_type": "markdown",
   "metadata": {
    "id": "j7KOTx5Ii2Pi"
   },
   "source": [
    "#### 第二題\n",
    "把2的0次方到2的5次方列出在列表裡"
   ]
  },
  {
   "cell_type": "code",
   "execution_count": null,
   "metadata": {
    "id": "e26hR0z7i2Pi",
    "outputId": "a3a980a2-cc45-4da5-eeb2-14e5598bb0bb"
   },
   "outputs": [
    {
     "data": {
      "text/plain": [
       "[1, 2, 4, 8, 16, 32]"
      ]
     },
     "execution_count": 31,
     "metadata": {
      "tags": []
     },
     "output_type": "execute_result"
    }
   ],
   "source": [
    "[2**0,2**1,2**2,2**3,2**4,2**5]"
   ]
  },
  {
   "cell_type": "markdown",
   "metadata": {
    "id": "P57ip1SRi2Po"
   },
   "source": [
    "#### 第三題\n",
    "\n",
    "對x作轉換，讓回傳的結果為字串(str)格式的\"3.14\""
   ]
  },
  {
   "cell_type": "code",
   "execution_count": null,
   "metadata": {
    "id": "Hwi3b7U4i2Pp",
    "outputId": "54017eeb-5f4b-48b4-8241-137f22bd34b3"
   },
   "outputs": [
    {
     "data": {
      "text/plain": [
       "'3.14'"
      ]
     },
     "execution_count": 32,
     "metadata": {
      "tags": []
     },
     "output_type": "execute_result"
    }
   ],
   "source": [
    "x = 3.1415926\n",
    "str(round(x,2))"
   ]
  },
  {
   "cell_type": "markdown",
   "metadata": {
    "id": "zafbLKZFi2Pr"
   },
   "source": [
    "#### 第四題\n",
    "製作一個列表，內部的數值是從101遞減到1，每個數字間的差值為5"
   ]
  },
  {
   "cell_type": "code",
   "execution_count": null,
   "metadata": {
    "id": "8w3XeZnVi2Pt",
    "outputId": "7c115fde-7791-4f07-c8bb-867ee1543ada"
   },
   "outputs": [
    {
     "name": "stdout",
     "output_type": "stream",
     "text": [
      "[101, 96, 91, 86, 81, 76, 71, 66, 61, 56, 51, 46, 41, 36, 31, 26, 21, 16, 11, 6, 1]\n"
     ]
    }
   ],
   "source": [
    "print(list(range(101,0,-5)))"
   ]
  },
  {
   "cell_type": "markdown",
   "metadata": {
    "id": "W8u5MWOFi2Pw"
   },
   "source": [
    "## 額外練習題答案"
   ]
  },
  {
   "cell_type": "code",
   "execution_count": null,
   "metadata": {
    "id": "exBLEKXzi2Pw",
    "outputId": "b4352577-8346-485d-f90e-fad419316a83"
   },
   "outputs": [
    {
     "data": {
      "text/plain": [
       "(10, 20)"
      ]
     },
     "execution_count": 34,
     "metadata": {
      "tags": []
     },
     "output_type": "execute_result"
    }
   ],
   "source": [
    "#1讓a等於10，讓b等於a+10\n",
    "a = 10\n",
    "b = a+10\n",
    "a,b"
   ]
  },
  {
   "cell_type": "code",
   "execution_count": null,
   "metadata": {
    "id": "MuTZHWZBi2Pz",
    "outputId": "a246bd46-70c0-4116-f672-9f6196fb9cc7"
   },
   "outputs": [
    {
     "name": "stdout",
     "output_type": "stream",
     "text": [
      "hello world\n"
     ]
    }
   ],
   "source": [
    "#2讓a等於\"hello \"，讓b等於\"world\" 並將a跟b串在一起印出\n",
    "a = \"hello \"\n",
    "b = \"world\"\n",
    "print(a+b)"
   ]
  },
  {
   "cell_type": "code",
   "execution_count": null,
   "metadata": {
    "id": "M7xdZV6ci2P1",
    "outputId": "5c7cb3e8-6633-4808-83a7-4a7c708e9257"
   },
   "outputs": [
    {
     "data": {
      "text/plain": [
       "bool"
      ]
     },
     "execution_count": 36,
     "metadata": {
      "tags": []
     },
     "output_type": "execute_result"
    }
   ],
   "source": [
    "#3回傳True的資料型態\n",
    "type(True)"
   ]
  },
  {
   "cell_type": "code",
   "execution_count": null,
   "metadata": {
    "id": "HYtfw5kVi2P4",
    "outputId": "b2197e94-42ee-4ca2-b04a-75666c37fdb0"
   },
   "outputs": [
    {
     "data": {
      "text/plain": [
       "['Chinese', 'English', 'Math', 'Science']"
      ]
     },
     "execution_count": 37,
     "metadata": {
      "tags": []
     },
     "output_type": "execute_result"
    }
   ],
   "source": [
    "#4排序這個列表['English','Chinese','Math','Science']\n",
    "sorted(['English','Chinese','Math','Science'])"
   ]
  },
  {
   "cell_type": "code",
   "execution_count": null,
   "metadata": {
    "id": "COQFd0cIi2P7",
    "outputId": "2e8cece5-af16-44c2-b294-dc8a86509617"
   },
   "outputs": [
    {
     "data": {
      "text/plain": [
       "[1, 2, 3, 4, 5, 6, 7, 8, 9, 10, 11, 12, 13, 14, 15]"
      ]
     },
     "execution_count": 38,
     "metadata": {
      "tags": []
     },
     "output_type": "execute_result"
    }
   ],
   "source": [
    "#5製作一個列表，內部的數值是從1遞增到15，各個數字間的差值為1\n",
    "list(range(1,16))"
   ]
  },
  {
   "cell_type": "code",
   "execution_count": null,
   "metadata": {
    "id": "q7giv5Wqi2P9",
    "outputId": "ee379f0a-3687-45d0-f68d-5301ab7cba24"
   },
   "outputs": [
    {
     "data": {
      "text/plain": [
       "68"
      ]
     },
     "execution_count": 39,
     "metadata": {
      "tags": []
     },
     "output_type": "execute_result"
    }
   ],
   "source": [
    "#6印出這個字串的長度 \"HTML5 standards have been implemented across all modern web browsers\"\n",
    "len(\"HTML5 standards have been implemented across all modern web browsers\")"
   ]
  },
  {
   "cell_type": "code",
   "execution_count": null,
   "metadata": {
    "id": "4OjBxV-bi2P_",
    "outputId": "0b4db8ad-521e-4950-aabd-7d497478ec69"
   },
   "outputs": [
    {
     "data": {
      "text/plain": [
       "55"
      ]
     },
     "execution_count": 40,
     "metadata": {
      "tags": []
     },
     "output_type": "execute_result"
    }
   ],
   "source": [
    "#7加總1~10的每個正整數\n",
    "sum(range(1,11))"
   ]
  },
  {
   "cell_type": "code",
   "execution_count": null,
   "metadata": {
    "id": "_rZAe2BTi2QC",
    "outputId": "d855fded-50e8-4fd8-ac06-14c005b175ed"
   },
   "outputs": [
    {
     "name": "stdout",
     "output_type": "stream",
     "text": [
      "<class 'float'>\n",
      "<class 'str'>\n"
     ]
    }
   ],
   "source": [
    "#8回傳3.14跟\"3.14\"的資料型態\n",
    "print(type(3.14))\n",
    "print(type(\"3.14\"))"
   ]
  },
  {
   "cell_type": "code",
   "execution_count": null,
   "metadata": {
    "id": "NRx2L57Vi2QE",
    "outputId": "0717c4a3-75ef-4a0a-9903-ab0d1c84a15a"
   },
   "outputs": [
    {
     "data": {
      "text/plain": [
       "3"
      ]
     },
     "execution_count": 42,
     "metadata": {
      "tags": []
     },
     "output_type": "execute_result"
    }
   ],
   "source": [
    "#9針對x (3.1415926）取正整數\n",
    "x = 3.1415926\n",
    "int(x)"
   ]
  },
  {
   "cell_type": "code",
   "execution_count": null,
   "metadata": {
    "id": "mk5M53KLi2QH",
    "outputId": "b6ebbcc1-794b-4577-b5e9-91aedee2924a"
   },
   "outputs": [
    {
     "data": {
      "text/plain": [
       "[10, 9, 8, 7, 6, 5, 4, 3, 2, 1]"
      ]
     },
     "execution_count": 43,
     "metadata": {
      "tags": []
     },
     "output_type": "execute_result"
    }
   ],
   "source": [
    "#10製作一個列表，內部的數值是從10遞減到1，各個數字間的差值為1\n",
    "list(range(10,0,-1))"
   ]
  }
 ],
 "metadata": {
  "colab": {
   "name": "01_basic.ipynb",
   "provenance": []
  },
  "kernelspec": {
   "display_name": "Python 3 (ipykernel)",
   "language": "python",
   "name": "python3"
  },
  "language_info": {
   "codemirror_mode": {
    "name": "ipython",
    "version": 3
   },
   "file_extension": ".py",
   "mimetype": "text/x-python",
   "name": "python",
   "nbconvert_exporter": "python",
   "pygments_lexer": "ipython3",
   "version": "3.9.10"
  }
 },
 "nbformat": 4,
 "nbformat_minor": 4
}
