{
 "cells": [
  {
   "cell_type": "markdown",
   "metadata": {
    "id": "GligppJfL0kS"
   },
   "source": [
    "### set,tuple基本了解\n",
    "set（大括號）：不重複列表，內部物件沒有順序（無法索引），可以做交集差集比較\n",
    "\n",
    "tuple（小括號）：特殊list格式，無法更動tuple內物件（順序&內容）  **原則上非常少主動使用"
   ]
  },
  {
   "cell_type": "code",
   "execution_count": 5,
   "metadata": {
    "id": "5-gPAQlDL0kT",
    "outputId": "43aa5c54-a2dc-46d0-a443-60e76ddf7a6c"
   },
   "outputs": [
    {
     "name": "stdout",
     "output_type": "stream",
     "text": [
      "list: [1, 2, 3, 4, 5, 1, 3, 5]\n",
      "set: {1, 2, 3, 4, 5}\n",
      "tuple: (1, 2, 3, 4, 5, 1, 3, 5)\n"
     ]
    }
   ],
   "source": [
    "list_ = [1,2,3,4,5,1,3,5]\n",
    "set_ = set(list_)\n",
    "tuple_ = tuple(list_)\n",
    "print('list:',list_)\n",
    "print('set:',set_)\n",
    "print('tuple:',tuple_)"
   ]
  },
  {
   "cell_type": "code",
   "execution_count": 8,
   "metadata": {
    "id": "UYPT35K4L0kY",
    "outputId": "aec9102a-02e7-411c-df71-f1455e156dd7"
   },
   "outputs": [
    {
     "name": "stdout",
     "output_type": "stream",
     "text": [
      "2\n"
     ]
    },
    {
     "ename": "TypeError",
     "evalue": "'set' object is not subscriptable",
     "output_type": "error",
     "traceback": [
      "\u001b[0;31m---------------------------------------------------------------------------\u001b[0m",
      "\u001b[0;31mTypeError\u001b[0m                                 Traceback (most recent call last)",
      "Input \u001b[0;32mIn [8]\u001b[0m, in \u001b[0;36m<module>\u001b[0;34m\u001b[0m\n\u001b[1;32m      1\u001b[0m \u001b[38;5;66;03m#set沒順序\u001b[39;00m\n\u001b[1;32m      2\u001b[0m \u001b[38;5;28mprint\u001b[39m(list_[\u001b[38;5;241m1\u001b[39m])\n\u001b[0;32m----> 3\u001b[0m \u001b[43mset_\u001b[49m\u001b[43m[\u001b[49m\u001b[38;5;241;43m0\u001b[39;49m\u001b[43m]\u001b[49m\n",
      "\u001b[0;31mTypeError\u001b[0m: 'set' object is not subscriptable"
     ]
    }
   ],
   "source": [
    "#set沒順序\n",
    "print(list_[1])\n",
    "set_[0]"
   ]
  },
  {
   "cell_type": "code",
   "execution_count": 10,
   "metadata": {
    "id": "K_WU75erL0kb",
    "outputId": "cf8e6e7f-0d8f-498e-91a5-570e94de3158"
   },
   "outputs": [
    {
     "name": "stdout",
     "output_type": "stream",
     "text": [
      "100\n"
     ]
    },
    {
     "ename": "TypeError",
     "evalue": "'tuple' object does not support item assignment",
     "output_type": "error",
     "traceback": [
      "\u001b[0;31m---------------------------------------------------------------------------\u001b[0m",
      "\u001b[0;31mTypeError\u001b[0m                                 Traceback (most recent call last)",
      "Input \u001b[0;32mIn [10]\u001b[0m, in \u001b[0;36m<module>\u001b[0;34m\u001b[0m\n\u001b[1;32m      2\u001b[0m list_[\u001b[38;5;241m0\u001b[39m]\u001b[38;5;241m=\u001b[39m\u001b[38;5;241m100\u001b[39m\n\u001b[1;32m      3\u001b[0m \u001b[38;5;28mprint\u001b[39m(list_[\u001b[38;5;241m0\u001b[39m])\n\u001b[0;32m----> 4\u001b[0m tuple_[\u001b[38;5;241m0\u001b[39m]\u001b[38;5;241m=\u001b[39m\u001b[38;5;241m100\u001b[39m\n",
      "\u001b[0;31mTypeError\u001b[0m: 'tuple' object does not support item assignment"
     ]
    }
   ],
   "source": [
    "#tuple不能更改\n",
    "list_[0]=100\n",
    "print(list_[0])\n",
    "tuple_[0]=100"
   ]
  },
  {
   "cell_type": "markdown",
   "metadata": {
    "id": "ulKINFXFL0ke"
   },
   "source": [
    "### Set的應用"
   ]
  },
  {
   "cell_type": "code",
   "execution_count": null,
   "metadata": {
    "id": "x4oavolkL0ke",
    "outputId": "355b0471-d20a-48dd-8bc5-02dfd35e135f"
   },
   "outputs": [
    {
     "name": "stdout",
     "output_type": "stream",
     "text": [
      "{0, 42, 21}\n",
      "{33, 3, 36, 6, 39, 9, 12, 45, 15, 48, 18, 24, 27, 30}\n",
      "{0, 3, 6, 7, 9, 12, 14, 15, 18, 21, 24, 27, 28, 30, 33, 35, 36, 39, 42, 45, 48, 49}\n"
     ]
    }
   ],
   "source": [
    "#示範題  set1 range(0,50,3), set2 range(0,50,7)，求差集、交集、聯集\n",
    "set1=set(range(0,50,3))\n",
    "set2=set(range(0,50,7))\n",
    "print(set1.intersection(set2)) \n",
    "print(set1.difference(set2)) \n",
    "print(set1.union(set2)) "
   ]
  },
  {
   "cell_type": "code",
   "execution_count": 1,
   "metadata": {
    "id": "Le_Ms7uIL0kh",
    "outputId": "079a8cba-1997-4962-9517-c2a9cdc24823"
   },
   "outputs": [],
   "source": [
    "#練習題 求0~10000之間所有7,19的公倍數\n"
   ]
  },
  {
   "cell_type": "markdown",
   "metadata": {
    "id": "KPoti5r_L0kk"
   },
   "source": [
    "## List index and slicing (選取列表中單項、多項）"
   ]
  },
  {
   "cell_type": "code",
   "execution_count": 18,
   "metadata": {
    "id": "eqIASm3iL0kk",
    "outputId": "17ae7651-acc3-49f3-e5ad-bc1269218179"
   },
   "outputs": [
    {
     "name": "stdout",
     "output_type": "stream",
     "text": [
      "[0, 1, 2, 3, 4, 5, 6, 7, 8, 9, 10, 11, 12, 13, 14, 15, 16, 17, 18, 19, 20]\n",
      "10\n",
      "[3, 4]\n",
      "[0, 1, 2, 3, 4]\n",
      "[10, 11, 12, 13, 14, 15, 16, 17, 18, 19, 20]\n",
      "[0, 2, 4, 6, 8, 10, 12, 14, 16, 18, 20]\n",
      "[20, 19, 18, 17, 16, 15, 14, 13, 12, 11, 10, 9, 8, 7, 6, 5, 4, 3, 2, 1, 0]\n"
     ]
    }
   ],
   "source": [
    "#示範 單值、多值（各種）、倒序\n",
    "demo_list = list(range(0,21))\n",
    "print(demo_list)\n",
    "print(demo_list[10])  #indexing 取出值\n",
    "print(demo_list[3:5]) #slicing  [起始值:結束值]\n",
    "print(demo_list[:5])  #slicing [腦補第0項:結束值]\n",
    "print(demo_list[10:]) #slicing [起始值:腦補最後一項]\n",
    "print(demo_list[::2]) #[::2]\n",
    "print(demo_list[::-1]) #倒著取"
   ]
  },
  {
   "cell_type": "code",
   "execution_count": 19,
   "metadata": {
    "id": "3bMsbjHgL0kn",
    "outputId": "e0d695a6-d519-46d3-fa7a-d87877a980da"
   },
   "outputs": [
    {
     "data": {
      "text/plain": [
       "[10, 12, 14]"
      ]
     },
     "execution_count": 19,
     "metadata": {},
     "output_type": "execute_result"
    }
   ],
   "source": [
    "#示範題 從even_number_list取出值10,12,14\n",
    "even_number_list = [2,4,6,8,10,12,14,16,18,20]\n",
    "even_number_list[4:7]"
   ]
  },
  {
   "cell_type": "code",
   "execution_count": 2,
   "metadata": {
    "id": "aWt4n-PvL0kr",
    "outputId": "877bc158-30f2-4faf-b652-ad92e0f05692"
   },
   "outputs": [],
   "source": [
    "#練習題 從even_number_list取出值 6,10,14,18"
   ]
  },
  {
   "cell_type": "code",
   "execution_count": 27,
   "metadata": {
    "id": "VDnvsWFfL0ku",
    "outputId": "a1debc5c-c4ad-4e1c-fa09-f4375646a50f"
   },
   "outputs": [
    {
     "data": {
      "text/plain": [
       "7"
      ]
     },
     "execution_count": 27,
     "metadata": {},
     "output_type": "execute_result"
    }
   ],
   "source": [
    "#示範題 巢狀列表\n",
    "a = [[1, 2, 3], [4, 5, 6], [7, 8, 9]]\n",
    "# for list1 in list_of_lists:\n",
    "        # print(list1)\n",
    "        \n",
    "a[2][0]"
   ]
  },
  {
   "cell_type": "code",
   "execution_count": 3,
   "metadata": {
    "id": "2DkzZaGEL0kw",
    "outputId": "47f9a8fc-d8ed-464f-96fa-006bb5c52c17"
   },
   "outputs": [],
   "source": [
    "#練習題 用indexing從list_of_lists取出6"
   ]
  },
  {
   "cell_type": "markdown",
   "metadata": {
    "id": "7qJHBoCOL0kz"
   },
   "source": [
    "## List add（增加項目）, replace（取代項目內容）, modify（移除、排序）"
   ]
  },
  {
   "cell_type": "code",
   "execution_count": null,
   "metadata": {
    "id": "ll8HbXdTL0kz",
    "outputId": "74604250-99d6-4c98-a98b-3611a8684f5f"
   },
   "outputs": [
    {
     "name": "stdout",
     "output_type": "stream",
     "text": [
      "[2, 4, 6, 8, 10, 12, 14, 16, 18, 20, 22, 24, 26, 22]\n",
      "[2, 4, 6, 8, 10, 12, 14, 16, 18, 20, 22, 24, 26, 22, 24, 26]\n",
      "['just a demo', 1, 2, 3, 4, 5, 6, 7, 8, 9, 10, 11, 12, 13, 14, 15, 16, 17, 18, 19, 20]\n",
      "[3, 1, 2, 6, 4, 0, 9]\n",
      "[1, 2, 6, 4, 0, 9]\n",
      "[0, 1, 2, 4, 6, 9]\n"
     ]
    }
   ],
   "source": [
    "#add\n",
    "even_number_list.append(22)  #把一筆資料加到後面去\n",
    "print(even_number_list)\n",
    "even_number_list.extend([24,26]) #一次加多個資料到後面\n",
    "print(even_number_list)\n",
    "\n",
    "#replace\n",
    "demo_list[0]='just a demo' #用'just a demo'取代0\n",
    "print(demo_list)\n",
    "\n",
    "#modify\n",
    "random_list=[3,1,7,2,6,4,0,9]\n",
    "random_list.remove(7)  #remove值\n",
    "print(random_list)\n",
    "random_list.pop(0) #remove位置\n",
    "print(random_list)\n",
    "random_list.sort()\n",
    "print(random_list)"
   ]
  },
  {
   "cell_type": "code",
   "execution_count": 33,
   "metadata": {},
   "outputs": [],
   "source": [
    "random_list=['ab','a','zsu','eqw']\n",
    "random_list.sort()"
   ]
  },
  {
   "cell_type": "code",
   "execution_count": 34,
   "metadata": {},
   "outputs": [
    {
     "data": {
      "text/plain": [
       "['a', 'ab', 'eqw', 'zsu']"
      ]
     },
     "execution_count": 34,
     "metadata": {},
     "output_type": "execute_result"
    }
   ],
   "source": [
    "random_list"
   ]
  },
  {
   "cell_type": "code",
   "execution_count": null,
   "metadata": {
    "id": "wgcsVMpeL0k2",
    "outputId": "af92551b-4e8c-4750-e0f3-14cb474c1a75"
   },
   "outputs": [
    {
     "data": {
      "text/plain": [
       "[1, 3, 5, 7, 9]"
      ]
     },
     "execution_count": 16,
     "metadata": {
      "tags": []
     },
     "output_type": "execute_result"
    }
   ],
   "source": [
    "#示範題 移除demo_list裡面所有的偶數\n",
    "demo_list = list(range(11))\n",
    "#for loop pop or remove\n",
    "for i in demo_list:\n",
    "    if i%2==0:\n",
    "        demo_list.remove(i)\n",
    "demo_list"
   ]
  },
  {
   "cell_type": "code",
   "execution_count": 4,
   "metadata": {
    "id": "L6EfeEguL0k8",
    "outputId": "4b226d20-04c6-4390-db08-dc0bfa5c22dc"
   },
   "outputs": [],
   "source": [
    "#練習題 把1729的因數用「列表」印出來"
   ]
  },
  {
   "cell_type": "markdown",
   "metadata": {
    "id": "4PXmmCyAL0lA"
   },
   "source": [
    "## 其他重要的list操作\n",
    "\n",
    "list_.count() : 計算某個物件在list裡面出現的次數\n",
    "\n",
    "x in list_ : 檢查x這個物件有沒有在這個list裡面，回傳True, False"
   ]
  },
  {
   "cell_type": "code",
   "execution_count": null,
   "metadata": {
    "id": "g01Nr2CBL0lB",
    "outputId": "c99954c7-b709-4421-8627-044bede27ed9"
   },
   "outputs": [
    {
     "name": "stdout",
     "output_type": "stream",
     "text": [
      "3\n",
      "True\n",
      "False\n"
     ]
    }
   ],
   "source": [
    "list_ = [1,1,1,2,3]\n",
    "print(list_.count(1))\n",
    "print(3 in list_)\n",
    "print(4 in list_)"
   ]
  },
  {
   "cell_type": "markdown",
   "metadata": {
    "id": "3q0tXCTxi2On"
   },
   "source": [
    "## 練習題（答案在這份檔案最下方）"
   ]
  },
  {
   "cell_type": "code",
   "execution_count": null,
   "metadata": {
    "id": "lOn4-IAML0lE"
   },
   "outputs": [],
   "source": [
    "#1.讓num_list 從[1,2,3,4,5]變成[1,2,2,3,3,3,4,4,4,4,5,5,5,5,5]\n",
    "num_list = list(range(1,6))"
   ]
  },
  {
   "cell_type": "code",
   "execution_count": null,
   "metadata": {
    "id": "BnVHXzxSL0lG"
   },
   "outputs": [],
   "source": [
    "#2.印出num_list各個數字出現的次數\n",
    "num_list = [1,2,2,3,3,3,4,4,4,4,5,5,5,5,5]"
   ]
  },
  {
   "cell_type": "code",
   "execution_count": null,
   "metadata": {
    "id": "ey6_UoFsL0lJ"
   },
   "outputs": [],
   "source": [
    "#3.求0~10000之間所有7,13跟19的公倍數"
   ]
  },
  {
   "cell_type": "code",
   "execution_count": null,
   "metadata": {
    "id": "DWj1OVqoL0lM"
   },
   "outputs": [],
   "source": [
    "#4.將subject排序\n",
    "subject = [\"English\",\"中文\",\"Math\",\"Science\",\"CS\"]"
   ]
  },
  {
   "cell_type": "code",
   "execution_count": null,
   "metadata": {
    "id": "GgyPKMF2L0lO"
   },
   "outputs": [],
   "source": [
    "#5.將mix_list裡面的文字移除\n",
    "mix_list = [132,55,\"test\",\"apple\",3124,\"311\",\"banana\"]"
   ]
  },
  {
   "cell_type": "code",
   "execution_count": null,
   "metadata": {
    "id": "6Fvxtv_HL0lR"
   },
   "outputs": [],
   "source": [
    "#6.將mix_list裡面包含\"a\"的所有項目移除\n",
    "mix_list = [132,55,\"test\",\"apple\",3124,\"311\",\"banana\"]"
   ]
  },
  {
   "cell_type": "code",
   "execution_count": null,
   "metadata": {
    "id": "7Dk2f0feL0lT"
   },
   "outputs": [],
   "source": [
    "#7.檢查nested_list裡面有沒有294這個數字\n",
    "nested_list = [[1,2,3],536,[5643,311,31],[[53,83],[329,123]],[294],310,9]"
   ]
  },
  {
   "cell_type": "code",
   "execution_count": null,
   "metadata": {
    "id": "4tkH6FOTL0lX"
   },
   "outputs": [],
   "source": [
    "#8.求nested_list內所有元素全部加總的和  #如果你知道什麼是遞迴函式歡迎使用\n",
    "nested_list = [[1,2,3],536,[5643,311,31],[[53,83],[329,123]],[294],310,9]"
   ]
  },
  {
   "cell_type": "code",
   "execution_count": null,
   "metadata": {
    "id": "E2T1V6_JL0lZ"
   },
   "outputs": [],
   "source": [
    "#9.將所有偶數的數值從odd_num內刪除\n",
    "even_num=list(range(100))"
   ]
  },
  {
   "cell_type": "code",
   "execution_count": null,
   "metadata": {
    "id": "kPLd7Q8xL0lc"
   },
   "outputs": [],
   "source": [
    "#10.將所有非質數的數值從prime內刪除\n",
    "prime=list(range(1,100))"
   ]
  },
  {
   "cell_type": "markdown",
   "metadata": {
    "id": "JbY1iHe-L0li"
   },
   "source": [
    "## 回家作業"
   ]
  },
  {
   "cell_type": "markdown",
   "metadata": {
    "id": "6e9Kv0MXL0lj"
   },
   "source": [
    "#### 第一題  求4124312以及1245954的公因數"
   ]
  },
  {
   "cell_type": "code",
   "execution_count": null,
   "metadata": {
    "id": "YtM_g24_L0lj"
   },
   "outputs": [],
   "source": []
  },
  {
   "cell_type": "markdown",
   "metadata": {
    "id": "vpXhqOPJL0lm"
   },
   "source": [
    "#### 第二題 計算text_list中，\"a\"出現的次數"
   ]
  },
  {
   "cell_type": "code",
   "execution_count": null,
   "metadata": {
    "id": "0DWUwiIUL0lm"
   },
   "outputs": [],
   "source": [
    "text_list = ['fji123fwqdadpasmr','this is just a test','python','illustrator','aaAAaa']"
   ]
  },
  {
   "cell_type": "markdown",
   "metadata": {
    "id": "gN1Rc5uXL0lo"
   },
   "source": [
    "#### 第三題 建立一個列表factorial，依序是[1!,2!,3!,4!....,10!]"
   ]
  },
  {
   "cell_type": "code",
   "execution_count": null,
   "metadata": {
    "id": "CiTaUiB-L0lp"
   },
   "outputs": [],
   "source": [
    "factorial = []"
   ]
  },
  {
   "cell_type": "markdown",
   "metadata": {
    "id": "0LT5mVHIL0ls"
   },
   "source": [
    "#### 第四題 去除num_list裡面所有重複的數字"
   ]
  },
  {
   "cell_type": "code",
   "execution_count": null,
   "metadata": {
    "id": "VhWmQ9RxL0lt"
   },
   "outputs": [],
   "source": [
    "num_list = [1,2,2,3,3,3,4,1,1,4,4,4,1,2,3,4,51,5,5,5,25]"
   ]
  },
  {
   "cell_type": "markdown",
   "metadata": {
    "id": "wT3bkqqML0lv"
   },
   "source": [
    "#### 第五題 求nested_list內所有\"數字\"的加總（包含字串內的數字）"
   ]
  },
  {
   "cell_type": "code",
   "execution_count": null,
   "metadata": {
    "id": "v5AWVHItL0lv"
   },
   "outputs": [],
   "source": [
    "nested_list = [[1,2,3,\"hi\"],536,[5643,311,31],[[53,83],[329,123]],[294],310,9,\"3124 test\",[\"test\",\"so hard\"]]"
   ]
  },
  {
   "cell_type": "markdown",
   "metadata": {
    "id": "8fiDF9G9L0lx"
   },
   "source": [
    "## 練習題答案"
   ]
  },
  {
   "cell_type": "code",
   "execution_count": null,
   "metadata": {
    "id": "Wen5MidJL0ly",
    "outputId": "36af7a29-7670-4a65-8dba-719da1bcd17e"
   },
   "outputs": [
    {
     "name": "stdout",
     "output_type": "stream",
     "text": [
      "[1, 2, 2, 3, 3, 3, 4, 4, 4, 4, 5, 5, 5, 5, 5]\n"
     ]
    }
   ],
   "source": [
    "#1.讓num_list 從[1,2,3,4,5]變成[1,2,2,3,3,3,4,4,4,4,5,5,5,5,5]\n",
    "num_list = list(range(1,6))\n",
    "for i in num_list:\n",
    "    while num_list.count(i)<i:\n",
    "        num_list.append(i)\n",
    "print(sorted(num_list))"
   ]
  },
  {
   "cell_type": "code",
   "execution_count": null,
   "metadata": {
    "id": "xFFlKriIL0l0",
    "outputId": "1cfde241-d724-4a42-8947-5b8ce9b1e67e"
   },
   "outputs": [
    {
     "name": "stdout",
     "output_type": "stream",
     "text": [
      "1\n",
      "2\n",
      "3\n",
      "4\n",
      "5\n"
     ]
    }
   ],
   "source": [
    "#2.印出num_list各個數字出現的次數\n",
    "num_list = [1,2,2,3,3,3,4,4,4,4,5,5,5,5,5]\n",
    "num_set = set(num_list)\n",
    "for i in num_set:\n",
    "    print(num_list.count(i))"
   ]
  },
  {
   "cell_type": "code",
   "execution_count": null,
   "metadata": {
    "id": "yrvrhjd0L0l3",
    "outputId": "493f36f9-cc09-4196-9112-78e124cb9bda"
   },
   "outputs": [
    {
     "name": "stdout",
     "output_type": "stream",
     "text": [
      "1729\n",
      "3458\n",
      "5187\n",
      "6916\n",
      "8645\n"
     ]
    }
   ],
   "source": [
    "#3.求0~10000之間所有7,13跟19的公倍數\n",
    "for i in range(1,10001):\n",
    "    if i%7==0 and i%13==0 and i%19==0:\n",
    "        print(i)"
   ]
  },
  {
   "cell_type": "code",
   "execution_count": null,
   "metadata": {
    "id": "3MNptXqXL0l5",
    "outputId": "1ba5732d-d75e-4f38-d23d-9425f35e36ea"
   },
   "outputs": [
    {
     "data": {
      "text/plain": [
       "['CS', 'English', 'Math', 'Science', '中文']"
      ]
     },
     "execution_count": 12,
     "metadata": {
      "tags": []
     },
     "output_type": "execute_result"
    }
   ],
   "source": [
    "#4.將subject排序\n",
    "subject = [\"English\",\"中文\",\"Math\",\"Science\",\"CS\"]\n",
    "sorted(subject)"
   ]
  },
  {
   "cell_type": "code",
   "execution_count": null,
   "metadata": {
    "id": "cTo5P_QEL0l7",
    "outputId": "6156fbe3-17b1-43eb-f879-fae2a9877bf8"
   },
   "outputs": [
    {
     "name": "stdout",
     "output_type": "stream",
     "text": [
      "[132, 55, 3124]\n"
     ]
    }
   ],
   "source": [
    "#5.將mix_list裡面的文字移除\n",
    "mix_list = [132,55,\"test\",\"apple\",3124,\"311\",\"banana\"]\n",
    "remove_list = []\n",
    "for i in mix_list:\n",
    "    if type(i)==str:\n",
    "        remove_list.append(i)\n",
    "for i in remove_list:\n",
    "    mix_list.remove(i)\n",
    "print(mix_list)"
   ]
  },
  {
   "cell_type": "code",
   "execution_count": null,
   "metadata": {
    "id": "cgvYyp2aL0l-",
    "outputId": "a7ad5a02-c9d0-4359-ea48-6838873d10ea"
   },
   "outputs": [
    {
     "name": "stdout",
     "output_type": "stream",
     "text": [
      "[132, 55, 'test', 3124, '311']\n"
     ]
    }
   ],
   "source": [
    "#6.將mix_list裡面包含\"a\"的所有項目移除\n",
    "mix_list = [132,55,\"test\",\"apple\",3124,\"311\",\"banana\"]\n",
    "remove_list = []\n",
    "for i in mix_list:\n",
    "    if type(i)==str:\n",
    "        for j in i:\n",
    "            if j=='a':\n",
    "                remove_list.append(i)\n",
    "for i in set(remove_list):\n",
    "    mix_list.remove(i)\n",
    "print(mix_list)\n",
    "                "
   ]
  },
  {
   "cell_type": "code",
   "execution_count": null,
   "metadata": {
    "id": "warW-ZYLL0mA"
   },
   "outputs": [],
   "source": [
    "def check(x,y):\n",
    "    if x==y:\n",
    "        return True"
   ]
  },
  {
   "cell_type": "code",
   "execution_count": null,
   "metadata": {
    "id": "WEcGB-8iL0mD",
    "outputId": "d3a347c8-e507-476a-d319-08c714c190d8"
   },
   "outputs": [
    {
     "data": {
      "text/plain": [
       "True"
      ]
     },
     "execution_count": 29,
     "metadata": {
      "tags": []
     },
     "output_type": "execute_result"
    }
   ],
   "source": [
    "check(1,1)"
   ]
  },
  {
   "cell_type": "code",
   "execution_count": null,
   "metadata": {
    "id": "V_OuKWegL0mI",
    "outputId": "9e69fd74-fa45-432e-f192-829ca4f88f62"
   },
   "outputs": [
    {
     "name": "stdout",
     "output_type": "stream",
     "text": [
      "True\n"
     ]
    }
   ],
   "source": [
    "#7.檢查nested_list裡面有沒有294這個數字\n",
    "nested_list = [[1,2,3],536,[5643,311,31],[[53,83],[329,123]],[294],310,9]\n",
    "def list_check(list_,num_check):\n",
    "    check = False\n",
    "    for i in list_:\n",
    "        if type(i)==list:\n",
    "            list_check(i,num_check)\n",
    "        elif i == num_check:\n",
    "            check=True\n",
    "    return True\n",
    "print(list_check(nested_list,294))"
   ]
  },
  {
   "cell_type": "code",
   "execution_count": null,
   "metadata": {
    "id": "2nTxoe11L0mK",
    "outputId": "e2ee7b6d-400c-47c6-9a39-367de83aaf76"
   },
   "outputs": [
    {
     "name": "stdout",
     "output_type": "stream",
     "text": [
      "7728\n"
     ]
    }
   ],
   "source": [
    "#8.求nested_list內所有元素全部加總的和  #如果你知道什麼是遞迴函式歡迎使用\n",
    "nested_list = [[1,2,3],536,[5643,311,31],[[53,83],[329,123]],[294],310,9]\n",
    "\n",
    "\n",
    "def list_sum(list_,sum_base):\n",
    "    for i in list_:\n",
    "        if type(i)==list:\n",
    "            sum_base = list_sum(i,sum_base)\n",
    "        elif type(i)==int:\n",
    "            sum_base += i\n",
    "    return sum_base\n",
    "print(list_sum(nested_list,0))"
   ]
  },
  {
   "cell_type": "code",
   "execution_count": null,
   "metadata": {
    "id": "IqHsw70mL0mO",
    "outputId": "7303927f-7213-4450-9c58-75988050550a"
   },
   "outputs": [
    {
     "name": "stdout",
     "output_type": "stream",
     "text": [
      "[1, 3, 5, 7, 9, 11, 13, 15, 17, 19, 21, 23, 25, 27, 29, 31, 33, 35, 37, 39, 41, 43, 45, 47, 49, 51, 53, 55, 57, 59, 61, 63, 65, 67, 69, 71, 73, 75, 77, 79, 81, 83, 85, 87, 89, 91, 93, 95, 97, 99]\n"
     ]
    }
   ],
   "source": [
    "#9.將所有偶數的數值從odd_num內刪除\n",
    "odd_num=list(range(100))\n",
    "remove_list = []\n",
    "for i in odd_num:\n",
    "    if i%2==0:\n",
    "        remove_list.append(i)\n",
    "for i in remove_list:\n",
    "    odd_num.remove(i)\n",
    "print(odd_num)"
   ]
  },
  {
   "cell_type": "code",
   "execution_count": null,
   "metadata": {
    "id": "Y0yCONG9L0mR",
    "outputId": "603edf4d-21a1-4cc0-f5df-9aa7e469624c"
   },
   "outputs": [
    {
     "name": "stdout",
     "output_type": "stream",
     "text": [
      "[1, 2, 3, 5, 7, 11, 13, 17, 19, 23, 29, 31, 37, 41, 43, 47, 53, 59, 61, 67, 71, 73, 79, 83, 89, 97]\n"
     ]
    }
   ],
   "source": [
    "#10.將所有非質數的數值從prime內刪除\n",
    "prime=list(range(1,100))\n",
    "remove_list = []\n",
    "for i in prime[2:]:\n",
    "    for j in range(2,i):\n",
    "        if i%j==0:\n",
    "            remove_list.append(i)\n",
    "            break\n",
    "for i in remove_list:\n",
    "    prime.remove(i)\n",
    "print(prime)            \n",
    "    "
   ]
  },
  {
   "cell_type": "code",
   "execution_count": null,
   "metadata": {
    "id": "3SckhwG4L0mU"
   },
   "outputs": [],
   "source": []
  }
 ],
 "metadata": {
  "colab": {
   "collapsed_sections": [
    "4PXmmCyAL0lA",
    "3q0tXCTxi2On",
    "6e9Kv0MXL0lj",
    "vpXhqOPJL0lm",
    "gN1Rc5uXL0lo",
    "8fiDF9G9L0lx"
   ],
   "name": "06_set_list.ipynb",
   "provenance": []
  },
  "kernelspec": {
   "display_name": "Python 3 (ipykernel)",
   "language": "python",
   "name": "python3"
  },
  "language_info": {
   "codemirror_mode": {
    "name": "ipython",
    "version": 3
   },
   "file_extension": ".py",
   "mimetype": "text/x-python",
   "name": "python",
   "nbconvert_exporter": "python",
   "pygments_lexer": "ipython3",
   "version": "3.9.10"
  },
  "vscode": {
   "interpreter": {
    "hash": "8cbaa6da7797478f60c5212ed19a0b0ddd8f36d4bec3dabef5ef91c21fcc369e"
   }
  }
 },
 "nbformat": 4,
 "nbformat_minor": 4
}
