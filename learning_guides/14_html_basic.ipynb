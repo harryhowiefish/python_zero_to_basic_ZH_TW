{
 "cells": [
  {
   "cell_type": "markdown",
   "metadata": {},
   "source": [
    "### 爬蟲（crawler）：透過程式在網路上抓取資料\n",
    "\n",
    "Q:為什麼需要爬蟲？\n",
    "\n",
    "A:資料分析、大數據、深度學習都是建立在大量的資料上，當無法獨立取得資料的時候，就必須要在網路上找並大量取得\n",
    "\n",
    "Q:爬蟲在做什麼？\n",
    "\n",
    "A:最基礎的（這次要交的）是將網頁打開，並透過抓取網頁HTML的資料將內容取出\n",
    "\n",
    "所以這次就要讓大家稍微了解一下網站最基本的架構跟邏輯，以利於下一個爬蟲實作的內容\n",
    "\n"
   ]
  },
  {
   "cell_type": "markdown",
   "metadata": {},
   "source": [
    "## 網頁基本元素(介面相關）\n",
    "#### [HTML](https://www.w3schools.com/tags/)：所有靜態網頁呈現的資訊（我們的目標）\n",
    "#### CSS：網頁格式相關資訊（顏色、大小、分隔...）\n",
    "#### Javascript：所有動態網頁呈現的資訊（這種非常難爬~無法爬）\n"
   ]
  },
  {
   "cell_type": "markdown",
   "metadata": {},
   "source": [
    "## html基礎（我們需要知道的部分）:\n",
    "\n"
   ]
  },
  {
   "cell_type": "code",
   "execution_count": 1,
   "metadata": {},
   "outputs": [],
   "source": [
    "# 格式  <???> 內容 </???>\n",
    "\n",
    "##下列的東西都叫做element：\n",
    "\n",
    "# 不同大小的標題 h1~h6  e.x. <h1>我是標題</h1>\n",
    "# div 一大段的區間  <div>裡面常常會有很多個子項目，標題內文之類的</div>\n",
    "# p (paragraph） 一段文字，最常用的文具塊  <p>I'm just some words</p>\n",
    "# a 超連結使用  <a href=\"www.google.com\">點我去google</a>\n",
    "# br 分行符號  first line <br> second line \n",
    "# img 照片，裡面壹定要有src的資訊   <img src=\"smiley.gif\" alt=\"Smiley face\" height=\"42\" width=\"42\">\n",
    "# span 增加新的資訊到基本的element裡   <p>This is a paragraph <span style = \"color:#FF0000;\">This is a paragraph</span>This is a paragraph</p>"
   ]
  },
  {
   "cell_type": "markdown",
   "metadata": {},
   "source": [
    "<p>This is a paragraph <span style = \"color:#FF0000;\">This is a paragraph</span>This is a paragraph</p>"
   ]
  },
  {
   "cell_type": "code",
   "execution_count": 2,
   "metadata": {},
   "outputs": [],
   "source": [
    "# ol (ordered list) ：有編號的列表\n",
    "# ul (unordered list) :沒編號的列表\n",
    "# li (列表裡的項目）\n",
    "#Example\n",
    "#<ol>\n",
    "#  <li>Coffee</li>\n",
    "#  <li>Tea</li>\n",
    "#  <li>Milk</li>\n",
    "#</ol>"
   ]
  },
  {
   "cell_type": "markdown",
   "metadata": {},
   "source": [
    "<ol>\n",
    "  <li>Coffee</li>\n",
    "  <li>Tea</li>\n",
    "  <li>Milk</li>\n",
    "</ol>"
   ]
  },
  {
   "cell_type": "code",
   "execution_count": 3,
   "metadata": {},
   "outputs": [],
   "source": [
    "#table 整張表格\n",
    "#tr 表格的某一行\n",
    "#th 表格的表頭\n",
    "#td 表格的資料\n",
    "\n",
    "#example\n",
    "#<table>\n",
    "# <tr>\n",
    "#   <th>Month</th>\n",
    "#   <th>Savings</th>\n",
    "# </tr>\n",
    "# <tr>\n",
    "#   <td>January</td>\n",
    "#   <td>100</td>\n",
    "# </tr>\n",
    "#</table>"
   ]
  },
  {
   "cell_type": "markdown",
   "metadata": {},
   "source": [
    "<table>\n",
    " <tr>\n",
    "   <th>Month</th>\n",
    "   <th>Savings</th>\n",
    " </tr>\n",
    " <tr>\n",
    "   <td>January</td>\n",
    "   <td>100 </td>\n",
    " </tr>\n",
    "</table>"
   ]
  },
  {
   "cell_type": "code",
   "execution_count": 4,
   "metadata": {},
   "outputs": [],
   "source": [
    "#HTML Attributes 有點像是標籤，最常用的有id跟class，這些資訊是我們要挑取資料很重要的資訊\n",
    "#<h1 class=\"intro\">Header 1</h1>\n",
    "#<p>A paragraph.</p>\n",
    "#<p class=\"important\">Note that this is an important paragraph. :)</p>"
   ]
  },
  {
   "cell_type": "markdown",
   "metadata": {},
   "source": [
    "### 如何觀察網頁的HTML\n",
    "#### 最好的方式是應用Google Chrome的開發者工具（Develop Tools）\n",
    "#### 示範時間～"
   ]
  },
  {
   "cell_type": "markdown",
   "metadata": {},
   "source": [
    "### Homework"
   ]
  },
  {
   "cell_type": "markdown",
   "metadata": {},
   "source": [
    "Q1. goole搜尋結果的第一排文字是哪一種元素（element）？"
   ]
  },
  {
   "cell_type": "code",
   "execution_count": null,
   "metadata": {},
   "outputs": [],
   "source": []
  },
  {
   "cell_type": "markdown",
   "metadata": {},
   "source": [
    "Q2. https://www.python.org/downloads/release/python-370/ 有用到兩種h1，他的差別在哪裡？"
   ]
  },
  {
   "cell_type": "code",
   "execution_count": null,
   "metadata": {},
   "outputs": [],
   "source": []
  },
  {
   "cell_type": "markdown",
   "metadata": {},
   "source": [
    "Q3. Youtube首頁上的首圖(img）的id跟class分別是什麼？"
   ]
  },
  {
   "cell_type": "code",
   "execution_count": null,
   "metadata": {},
   "outputs": [],
   "source": []
  },
  {
   "cell_type": "markdown",
   "metadata": {},
   "source": [
    "Q4. [w3school](https://www.w3schools.com/default.asp)的最上方的logo是照片還是文字？"
   ]
  },
  {
   "cell_type": "code",
   "execution_count": null,
   "metadata": {},
   "outputs": [],
   "source": []
  }
 ],
 "metadata": {
  "kernelspec": {
   "display_name": "Python 3",
   "language": "python",
   "name": "python3"
  },
  "language_info": {
   "codemirror_mode": {
    "name": "ipython",
    "version": 3
   },
   "file_extension": ".py",
   "mimetype": "text/x-python",
   "name": "python",
   "nbconvert_exporter": "python",
   "pygments_lexer": "ipython3",
   "version": "3.7.3"
  }
 },
 "nbformat": 4,
 "nbformat_minor": 4
}
