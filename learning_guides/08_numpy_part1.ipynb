{
 "cells": [
  {
   "cell_type": "markdown",
   "metadata": {
    "colab_type": "text",
    "id": "SOmMPH5qjR6H"
   },
   "source": [
    "## 模組/套件（package）\n",
    "第三方寫好的函式集，有點像是外掛或是補丁\n",
    "\n",
    "可以提供很強大跟快速的功能\n",
    "\n",
    "有許多常用的套件已經內建在anaconda裡\n",
    "\n",
    "未來如果需要新的套件則需要先在anaconda內安裝才能導入到notebook裡"
   ]
  },
  {
   "cell_type": "markdown",
   "metadata": {
    "colab_type": "text",
    "id": "jAvY7jISjR6M"
   },
   "source": [
    "## [Numpy](http://www.numpy.org/)\n",
    "\n",
    "Numpy是在python內做數學/科學運算的套件\n",
    "\n",
    "\n",
    "除了一個常用的數學運算函式之外，還有非常重要的n維陣列（np.array)的功能\n",
    "\n",
    "np.array看起來很像list，但是他只能存放數字，而且有很多針對數字跟陣列運算的功能是list本身沒有的"
   ]
  },
  {
   "cell_type": "markdown",
   "metadata": {
    "colab_type": "text",
    "id": "QfvevHdDjR6O"
   },
   "source": [
    "導入套件"
   ]
  },
  {
   "cell_type": "code",
   "execution_count": 1,
   "metadata": {
    "colab": {},
    "colab_type": "code",
    "collapsed": true,
    "id": "w06I79LCjR6R",
    "jupyter": {
     "outputs_hidden": true
    }
   },
   "outputs": [],
   "source": [
    "#導入套件的時候可以用 as ... 縮寫套件名稱\n",
    "import numpy\n",
    "import numpy as np"
   ]
  },
  {
   "cell_type": "markdown",
   "metadata": {
    "colab_type": "text",
    "id": "sPxm0tPkjR6Y"
   },
   "source": [
    "**np.array** 用把提供的資料建立成陣列（可以提供list）"
   ]
  },
  {
   "cell_type": "code",
   "execution_count": 59,
   "metadata": {
    "colab": {},
    "colab_type": "code",
    "id": "FviTkVfRjR6b",
    "outputId": "401f912b-809f-4781-d055-f4b951d51b4e"
   },
   "outputs": [
    {
     "data": {
      "text/plain": [
       "array([1, 2, 3, 4, 5])"
      ]
     },
     "execution_count": 59,
     "metadata": {},
     "output_type": "execute_result"
    }
   ],
   "source": [
    "M = np.array([1, 2, 3, 4, 5])\n",
    "M"
   ]
  },
  {
   "cell_type": "markdown",
   "metadata": {
    "colab_type": "text",
    "id": "-IpLh65bjR6i"
   },
   "source": [
    "也可以提供nested list"
   ]
  },
  {
   "cell_type": "code",
   "execution_count": 64,
   "metadata": {
    "colab": {},
    "colab_type": "code",
    "collapsed": true,
    "id": "toqkBcRhjR6j",
    "jupyter": {
     "outputs_hidden": true
    },
    "outputId": "d03ed8fb-6db5-4aac-f38e-50cad90a03fb"
   },
   "outputs": [
    {
     "data": {
      "text/plain": [
       "array([[1, 2, 3],\n",
       "       [4, 5, 6],\n",
       "       [7, 8, 9]])"
      ]
     },
     "execution_count": 64,
     "metadata": {},
     "output_type": "execute_result"
    }
   ],
   "source": [
    "M = np.array([[1, 2, 3], [4, 5, 6], [7, 8, 9]])\n",
    "M"
   ]
  },
  {
   "cell_type": "markdown",
   "metadata": {
    "colab_type": "text",
    "id": "18EZvq89jR6p"
   },
   "source": [
    "### numpy operation v.s.list opteration"
   ]
  },
  {
   "cell_type": "code",
   "execution_count": 7,
   "metadata": {
    "colab": {},
    "colab_type": "code",
    "id": "9SVkSnk7jR6s",
    "outputId": "eb404114-e196-4118-ccae-0a45ed8786d0"
   },
   "outputs": [
    {
     "name": "stdout",
     "output_type": "stream",
     "text": [
      "[2 4 6]\n",
      "[1, 2, 3, 1, 2, 3]\n"
     ]
    }
   ],
   "source": [
    "a = np.array([1,2,3])\n",
    "b = [1,2,3]\n",
    "print(a*2)\n",
    "print(b*2)"
   ]
  },
  {
   "cell_type": "code",
   "execution_count": 8,
   "metadata": {
    "colab": {},
    "colab_type": "code",
    "id": "r0uB4Uz5jR6w",
    "outputId": "5d0d8f66-21b2-4ce5-d7bd-dc8a3691d782"
   },
   "outputs": [
    {
     "name": "stdout",
     "output_type": "stream",
     "text": [
      "[1 4 9]\n"
     ]
    },
    {
     "ename": "TypeError",
     "evalue": "unsupported operand type(s) for ** or pow(): 'list' and 'int'",
     "output_type": "error",
     "traceback": [
      "\u001b[0;31m---------------------------------------------------------------------------\u001b[0m",
      "\u001b[0;31mTypeError\u001b[0m                                 Traceback (most recent call last)",
      "\u001b[0;32m<ipython-input-8-29f29995ada6>\u001b[0m in \u001b[0;36m<module>\u001b[0;34m\u001b[0m\n\u001b[1;32m      1\u001b[0m \u001b[0mprint\u001b[0m\u001b[0;34m(\u001b[0m\u001b[0ma\u001b[0m\u001b[0;34m**\u001b[0m\u001b[0;36m2\u001b[0m\u001b[0;34m)\u001b[0m\u001b[0;34m\u001b[0m\u001b[0;34m\u001b[0m\u001b[0m\n\u001b[0;32m----> 2\u001b[0;31m \u001b[0mprint\u001b[0m\u001b[0;34m(\u001b[0m\u001b[0mb\u001b[0m\u001b[0;34m**\u001b[0m\u001b[0;36m2\u001b[0m\u001b[0;34m)\u001b[0m\u001b[0;34m\u001b[0m\u001b[0;34m\u001b[0m\u001b[0m\n\u001b[0m",
      "\u001b[0;31mTypeError\u001b[0m: unsupported operand type(s) for ** or pow(): 'list' and 'int'"
     ]
    }
   ],
   "source": [
    "print(a**2)  #np.array可以執行\n",
    "print(b**2)  #一般的list會跳錯誤"
   ]
  },
  {
   "cell_type": "markdown",
   "metadata": {
    "colab_type": "text",
    "id": "2H7hVm45jR60"
   },
   "source": [
    "**np.arange ( )** 類似 range ( ) 的函數"
   ]
  },
  {
   "cell_type": "code",
   "execution_count": 9,
   "metadata": {
    "colab": {},
    "colab_type": "code",
    "id": "OyOU27zNjR63",
    "outputId": "5a0712dd-d8ff-4d4e-d633-b8fa82ebb3e0"
   },
   "outputs": [
    {
     "name": "stdout",
     "output_type": "stream",
     "text": [
      "[0 1 2 3 4 5 6 7 8 9]\n"
     ]
    },
    {
     "data": {
      "text/plain": [
       "[0, 1, 2, 3, 4, 5, 6, 7, 8, 9]"
      ]
     },
     "execution_count": 9,
     "metadata": {},
     "output_type": "execute_result"
    }
   ],
   "source": [
    "print(np.arange(10))\n",
    "list(range(10))"
   ]
  },
  {
   "cell_type": "code",
   "execution_count": 10,
   "metadata": {
    "colab": {},
    "colab_type": "code",
    "id": "wl0uDoHkjR68",
    "outputId": "0ea064dc-9205-4ef7-d62c-4c2a9b454634"
   },
   "outputs": [
    {
     "data": {
      "text/plain": [
       "array([0, 2, 4, 6, 8])"
      ]
     },
     "execution_count": 10,
     "metadata": {},
     "output_type": "execute_result"
    }
   ],
   "source": [
    "#例題\n",
    "np.arange(0,10,2)"
   ]
  },
  {
   "cell_type": "code",
   "execution_count": 1,
   "metadata": {
    "colab": {},
    "colab_type": "code",
    "id": "1nJPAnFIjR7A",
    "outputId": "212e4190-be0b-4cf1-ad43-f58a17b30b91"
   },
   "outputs": [],
   "source": [
    "#演練\n",
    "#用np.arange製作出 array([100, 90, 80, 70, 60, 50])"
   ]
  },
  {
   "cell_type": "markdown",
   "metadata": {
    "colab_type": "text",
    "id": "zZtzS22DjR7E"
   },
   "source": [
    "**其他製作numpy array的基本作法** "
   ]
  },
  {
   "cell_type": "code",
   "execution_count": 62,
   "metadata": {
    "colab": {},
    "colab_type": "code",
    "id": "vDFQ5FBojR7H",
    "outputId": "a7a55d1e-fa8a-45b9-eabd-4b229d68dafb"
   },
   "outputs": [
    {
     "name": "stdout",
     "output_type": "stream",
     "text": [
      "[[0. 0.]\n",
      " [0. 0.]]\n",
      "[[[1. 1. 1. 1. 1.]\n",
      "  [1. 1. 1. 1. 1.]]]\n",
      "[[7 7]\n",
      " [7 7]]\n",
      "[[1. 0. 0. 0. 0.]\n",
      " [0. 1. 0. 0. 0.]\n",
      " [0. 0. 1. 0. 0.]\n",
      " [0. 0. 0. 1. 0.]\n",
      " [0. 0. 0. 0. 1.]]\n"
     ]
    }
   ],
   "source": [
    "a = np.zeros((2,2))   # 全部都是零\n",
    "print(a)              # Prints \"[[ 0.  0.]\n",
    "                      #          [ 0.  0.]]\"\n",
    "\n",
    "b = np.ones((1,2,5))    # 全部都是一\n",
    "print(b)              # Prints \"[[ 1.  1.]]\"\n",
    "\n",
    "c = np.full((2,2), 7)  # 全部都是指定的數字\n",
    "print(c)               # Prints \"[[ 7.  7.]\n",
    "                       #          [ 7.  7.]]\"\n",
    "\n",
    "d = np.eye(5)         # 單位矩陣（可以跳過）\n",
    "print(d)              # Prints \"[[ 1.  0.]\n",
    "                      #          [ 0.  1.]]\""
   ]
  },
  {
   "cell_type": "markdown",
   "metadata": {
    "colab_type": "text",
    "id": "u_Pwer0SjR7U"
   },
   "source": [
    "#### slicing:跟list一樣，但這邊會多介紹一個細節\n",
    "取出第一列"
   ]
  },
  {
   "cell_type": "code",
   "execution_count": 65,
   "metadata": {},
   "outputs": [
    {
     "data": {
      "text/plain": [
       "array([[1, 2, 3],\n",
       "       [4, 5, 6],\n",
       "       [7, 8, 9]])"
      ]
     },
     "execution_count": 65,
     "metadata": {},
     "output_type": "execute_result"
    }
   ],
   "source": [
    "M"
   ]
  },
  {
   "cell_type": "code",
   "execution_count": 66,
   "metadata": {
    "colab": {},
    "colab_type": "code",
    "id": "9dXk1QmxjR7V",
    "outputId": "5527e283-635e-4563-860b-e808a6599e76"
   },
   "outputs": [
    {
     "data": {
      "text/plain": [
       "array([1, 2, 3])"
      ]
     },
     "execution_count": 66,
     "metadata": {},
     "output_type": "execute_result"
    }
   ],
   "source": [
    "M[0]"
   ]
  },
  {
   "cell_type": "markdown",
   "metadata": {
    "colab_type": "text",
    "id": "vzXz7TIHjR7Z"
   },
   "source": [
    "取出第 3 列，第 2 , 3 行的資料"
   ]
  },
  {
   "cell_type": "code",
   "execution_count": 69,
   "metadata": {
    "colab": {},
    "colab_type": "code",
    "id": "bzTkCkz1jR7f",
    "outputId": "5cea9f70-ad76-4916-cc95-2a444a93f116"
   },
   "outputs": [
    {
     "data": {
      "text/plain": [
       "array([8, 9])"
      ]
     },
     "execution_count": 69,
     "metadata": {},
     "output_type": "execute_result"
    }
   ],
   "source": [
    "M[2, 1:]"
   ]
  },
  {
   "cell_type": "markdown",
   "metadata": {
    "colab_type": "text",
    "id": "KSRr-6EijR7i"
   },
   "source": [
    "取出所有列，第 2, 3 行的資料"
   ]
  },
  {
   "cell_type": "code",
   "execution_count": 70,
   "metadata": {
    "colab": {},
    "colab_type": "code",
    "id": "myCQhCvDjR7i",
    "outputId": "a5735417-372d-4395-e309-dbc869a36d6d"
   },
   "outputs": [
    {
     "data": {
      "text/plain": [
       "array([[2, 3],\n",
       "       [5, 6],\n",
       "       [8, 9]])"
      ]
     },
     "execution_count": 70,
     "metadata": {},
     "output_type": "execute_result"
    }
   ],
   "source": [
    "#例題\n",
    "M[0:3, 1:3]"
   ]
  },
  {
   "cell_type": "code",
   "execution_count": 2,
   "metadata": {
    "colab": {},
    "colab_type": "code",
    "id": "cfp4nReijR7m",
    "outputId": "f2dd96e6-23f2-41a2-ed1c-6abca4ca71f1"
   },
   "outputs": [],
   "source": [
    "#演練\n",
    "#取出第1,2行的第1,2列"
   ]
  },
  {
   "cell_type": "markdown",
   "metadata": {
    "colab_type": "text",
    "id": "3q0tXCTxi2On"
   },
   "source": [
    "## 練習題（答案在這份檔案最下方）"
   ]
  },
  {
   "cell_type": "code",
   "execution_count": null,
   "metadata": {},
   "outputs": [],
   "source": [
    "#1.宣告一個變數Q1，它是一個(3,3)所有值都為零的陣列"
   ]
  },
  {
   "cell_type": "code",
   "execution_count": 21,
   "metadata": {},
   "outputs": [],
   "source": [
    "#2.用slicing的方式取出no2_list裡的8\n",
    "no2_list=np.array([[5,0,2],[[8,3],1],[0,9,7,3]])"
   ]
  },
  {
   "cell_type": "code",
   "execution_count": 25,
   "metadata": {},
   "outputs": [],
   "source": [
    "#3.建立一個5x5大小的矩陣，其中在斜線上（1之1,2之2....)的數值為7,其他數值為0"
   ]
  },
  {
   "cell_type": "code",
   "execution_count": 35,
   "metadata": {},
   "outputs": [],
   "source": [
    "#4.製作一個np.array，其中的數值為0~10的平方"
   ]
  },
  {
   "cell_type": "code",
   "execution_count": 37,
   "metadata": {},
   "outputs": [],
   "source": [
    "#5.用slicing的方式取出no5_list裡的[2,3,4,5,6]\n",
    "no5_list = [0,0,1,2,3,4,5,6,3,2,1,1,0]"
   ]
  },
  {
   "cell_type": "markdown",
   "metadata": {
    "colab_type": "text",
    "id": "3q0tXCTxi2On"
   },
   "source": [
    "## 回家作業"
   ]
  },
  {
   "cell_type": "markdown",
   "metadata": {},
   "source": [
    "#### 第一題  建立一個大小為5x6的矩陣no1_array，其中的值皆為1\n"
   ]
  },
  {
   "cell_type": "code",
   "execution_count": null,
   "metadata": {
    "colab_type": "text",
    "id": "XIrHM22vjR8w"
   },
   "outputs": [],
   "source": []
  },
  {
   "cell_type": "markdown",
   "metadata": {},
   "source": [
    "#### 第二題  建立矩陣no2_array，讓其中的值為[9,8,7,6,5,4,3,2,1]"
   ]
  },
  {
   "cell_type": "code",
   "execution_count": null,
   "metadata": {
    "colab": {},
    "colab_type": "code",
    "id": "nuhFcyiBjR8x"
   },
   "outputs": [],
   "source": []
  },
  {
   "cell_type": "markdown",
   "metadata": {},
   "source": [
    "#### 第三題  用slicing的方式將no3_array裡的各個項目倒序取出 [72,42,20,6,0]"
   ]
  },
  {
   "cell_type": "code",
   "execution_count": 47,
   "metadata": {
    "colab": {},
    "colab_type": "code",
    "id": "VcYSunTujR9E"
   },
   "outputs": [
    {
     "data": {
      "text/plain": [
       "array([ 0,  6, 20, 42, 72])"
      ]
     },
     "execution_count": 47,
     "metadata": {},
     "output_type": "execute_result"
    }
   ],
   "source": [
    "no3_array = np.arange(0,10,2)*np.arange(1,11,2)\n",
    "no3_array"
   ]
  },
  {
   "cell_type": "markdown",
   "metadata": {},
   "source": [
    "#### 第四題 取出第3,4行的每一列   ans包含: 3, 4, 7, 8, 11, 12, 15, 16"
   ]
  },
  {
   "cell_type": "code",
   "execution_count": 49,
   "metadata": {},
   "outputs": [
    {
     "data": {
      "text/plain": [
       "array([[ 1,  2,  3,  4],\n",
       "       [ 5,  6,  7,  8],\n",
       "       [ 9, 10, 11, 12],\n",
       "       [13, 14, 15, 16]])"
      ]
     },
     "execution_count": 49,
     "metadata": {},
     "output_type": "execute_result"
    }
   ],
   "source": [
    "no4_array = np.array([[1, 2, 3, 4], [5, 6, 7, 8], [9, 10, 11, 12], [13, 14, 15, 16]])\n",
    "no4_array"
   ]
  },
  {
   "cell_type": "markdown",
   "metadata": {},
   "source": [
    "#### 第五題 建立一個5x5大小的矩陣no5_array，其中在斜線上（1之1,2之2....)的數值為7,其他數值為3"
   ]
  },
  {
   "cell_type": "code",
   "execution_count": null,
   "metadata": {},
   "outputs": [],
   "source": []
  },
  {
   "cell_type": "markdown",
   "metadata": {
    "colab_type": "text",
    "id": "3q0tXCTxi2On"
   },
   "source": [
    "## 練習題答案"
   ]
  },
  {
   "cell_type": "code",
   "execution_count": 31,
   "metadata": {},
   "outputs": [
    {
     "data": {
      "text/plain": [
       "array([[0., 0., 0.],\n",
       "       [0., 0., 0.],\n",
       "       [0., 0., 0.]])"
      ]
     },
     "execution_count": 31,
     "metadata": {},
     "output_type": "execute_result"
    }
   ],
   "source": [
    "#1.宣告一個變數Q1，它是一個(3,3)所有值都為零的陣列\n",
    "Q1=np.zeros((3,3))\n",
    "Q1"
   ]
  },
  {
   "cell_type": "code",
   "execution_count": 34,
   "metadata": {},
   "outputs": [
    {
     "data": {
      "text/plain": [
       "8"
      ]
     },
     "execution_count": 34,
     "metadata": {},
     "output_type": "execute_result"
    }
   ],
   "source": [
    "#2.用slicing的方式取出no2_list裡的8\n",
    "no2_list=np.array([[5,0,2],[[8,3],1],[0,9,7,3]])\n",
    "no2_list[1][0][0]"
   ]
  },
  {
   "cell_type": "code",
   "execution_count": 30,
   "metadata": {},
   "outputs": [
    {
     "data": {
      "text/plain": [
       "array([[7., 0., 0., 0., 0.],\n",
       "       [0., 7., 0., 0., 0.],\n",
       "       [0., 0., 7., 0., 0.],\n",
       "       [0., 0., 0., 7., 0.],\n",
       "       [0., 0., 0., 0., 7.]])"
      ]
     },
     "execution_count": 30,
     "metadata": {},
     "output_type": "execute_result"
    }
   ],
   "source": [
    "#3.建立一個5x5大小的矩陣Q2，其中在斜線上（1之1,2之2....)的數值為7,其他數值為0\n",
    "Q2 = np.full((5,5),7) * np.eye(5)\n",
    "Q2"
   ]
  },
  {
   "cell_type": "code",
   "execution_count": 39,
   "metadata": {},
   "outputs": [
    {
     "data": {
      "text/plain": [
       "array([  0,   1,   4,   9,  16,  25,  36,  49,  64,  81, 100])"
      ]
     },
     "execution_count": 39,
     "metadata": {},
     "output_type": "execute_result"
    }
   ],
   "source": [
    "#4.製作一個np.array Q3，其中的數值為0~10的平方\n",
    "Q3 = np.arange(0,11)**2\n",
    "Q3"
   ]
  },
  {
   "cell_type": "code",
   "execution_count": 38,
   "metadata": {},
   "outputs": [
    {
     "data": {
      "text/plain": [
       "[2, 3, 4, 5, 6]"
      ]
     },
     "execution_count": 38,
     "metadata": {},
     "output_type": "execute_result"
    }
   ],
   "source": [
    "#5.用slicing的方式取出no5_list裡的[2,3,4,5,6]\n",
    "no5_list = [0,0,1,2,3,4,5,6,3,2,1,1,0]\n",
    "no5_list[3:8]"
   ]
  }
 ],
 "metadata": {
  "colab": {
   "name": "session5_numpy.ipynb",
   "provenance": []
  },
  "kernelspec": {
   "display_name": "Python 3 (ipykernel)",
   "language": "python",
   "name": "python3"
  },
  "language_info": {
   "codemirror_mode": {
    "name": "ipython",
    "version": 3
   },
   "file_extension": ".py",
   "mimetype": "text/x-python",
   "name": "python",
   "nbconvert_exporter": "python",
   "pygments_lexer": "ipython3",
   "version": "3.9.10"
  }
 },
 "nbformat": 4,
 "nbformat_minor": 4
}
