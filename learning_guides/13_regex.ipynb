{
 "cells": [
  {
   "cell_type": "markdown",
   "metadata": {},
   "source": [
    "### [Regex (Regular Expressions) 正規表示式](https://docs.python.org/3/library/re.html#)\n",
    "針對文字處理的套件 "
   ]
  },
  {
   "cell_type": "code",
   "execution_count": 1,
   "metadata": {},
   "outputs": [],
   "source": [
    "import re"
   ]
  },
  {
   "cell_type": "markdown",
   "metadata": {},
   "source": [
    "### 常用函式\n",
    "<li>re.findall(要找的東西,要在哪裡找）</li>\n",
    "<li>re.sub(要被取代的東西,要取代的東西,要在哪裡找)</li>\n",
    "<li>re.split(要分段的工具, 要處理的字串)</li>"
   ]
  },
  {
   "cell_type": "markdown",
   "metadata": {},
   "source": [
    "### 正規表示式\n",
    "[ ] -> 一組字元 >> [a-m]\n",
    "\n",
    "\\ -> 用來使用/跳脫特殊字元 -> \\d\n",
    "\n",
    ". -> 任意一個字元 -> \"he..o\"\n",
    "\n",
    "^ -> 開頭為... -> \"^hello\"\n",
    "\n",
    "\\\\$ -> \\...作結尾 -> \"world$\"\n",
    "\n",
    "\\* -> 代表前個字元出現0次以上的 -> \"aix*\"\n",
    "\n",
    "\\+ -> 代表前個字元出現1次以上的-> \"aix+\"\n",
    "\n",
    "{} -> 括弧內代表字元出現次數 -> \"al{2}\"\n",
    "\n",
    "| -> 或 -> \"falls|stays\"\n",
    "\n",
    "\\w -> 所有字母\n",
    "\n",
    "\\W -> 所有非字母\n",
    "\n",
    "\\s -> 所有空白\n",
    "\n",
    "\\S -> 所有非空白\n",
    "\n",
    "\\d -> 所有數字\n",
    "\n",
    "\\D -> 所有非數字\n",
    "\n",
    "教學範例\n",
    "https://www.w3schools.com/python/python_regex.asp\n",
    "\n",
    "（幾乎）所有Re使用方式\n",
    "https://www.tutorialspoint.com/python/python_reg_expressions.htm\n",
    "\n"
   ]
  },
  {
   "cell_type": "code",
   "execution_count": 11,
   "metadata": {},
   "outputs": [],
   "source": [
    "string = \"The 12 raein Spppn 3in1 $$ Spaine.\""
   ]
  },
  {
   "cell_type": "code",
   "execution_count": 15,
   "metadata": {},
   "outputs": [
    {
     "name": "stdout",
     "output_type": "stream",
     "text": [
      "['h', 'e', 'a', 'e', 'i', 'i', 'a', 'i', 'e']\n",
      "['.']\n",
      "['$', '$']\n",
      "['Spppn', 'Spain']\n",
      "['Spaine']\n",
      "['in', 'in', 'in']\n"
     ]
    }
   ],
   "source": [
    "#例題\n",
    "print(re.findall(\"[a-m]\", string))\n",
    "print(re.findall(\".$\", string))\n",
    "print(re.findall('\\$',string)) \n",
    "print(re.findall(\"Sp..n\", string))\n",
    "print(re.findall(\"Sp..ne\", string))\n",
    "print(re.findall('r*in',string))"
   ]
  },
  {
   "cell_type": "code",
   "execution_count": 16,
   "metadata": {},
   "outputs": [],
   "source": [
    "#演練 把剩下所有的re正規表示測試一遍\n"
   ]
  },
  {
   "cell_type": "code",
   "execution_count": 17,
   "metadata": {},
   "outputs": [
    {
     "data": {
      "text/plain": [
       "'The 12 raein Spppn 3in1  Spaine.'"
      ]
     },
     "execution_count": 17,
     "metadata": {},
     "output_type": "execute_result"
    }
   ],
   "source": [
    "#例題\n",
    "re.sub('\\$\\$','',string)"
   ]
  },
  {
   "cell_type": "code",
   "execution_count": 1,
   "metadata": {},
   "outputs": [],
   "source": [
    "#演練 把e用3取代、把i用1取代\n"
   ]
  },
  {
   "cell_type": "code",
   "execution_count": 42,
   "metadata": {},
   "outputs": [
    {
     "data": {
      "text/plain": [
       "['Th3', 'ra31n', '1n', '$$', 'Spa1n3']"
      ]
     },
     "execution_count": 42,
     "metadata": {},
     "output_type": "execute_result"
    }
   ],
   "source": [
    "#一般來說split以空白（文字）跟/（網址）為主\n",
    "re.split(\" \", string)"
   ]
  },
  {
   "cell_type": "markdown",
   "metadata": {},
   "source": [
    "### RE處理真實處理範例"
   ]
  },
  {
   "cell_type": "code",
   "execution_count": 257,
   "metadata": {},
   "outputs": [],
   "source": [
    "# regex to remove all Non-Alpha Numeric and space\n",
    "special_character_removal=re.compile(r'[^a-z\\d ]',re.IGNORECASE)\n",
    "\n",
    "# regex to replace all numeric\n",
    "replace_numbers=re.compile(r'\\d+',re.IGNORECASE)\n",
    "\n",
    "def clean_text(text):\n",
    "    #全部轉小寫\n",
    "    text = text.lower()\n",
    "    #縮寫展開\n",
    "    text = re.sub(\"what's\", \"what is \", text)\n",
    "    text = re.sub(\"\\'s\", \" \", text)\n",
    "    text = re.sub(\"\\'ve\", \" have \", text)\n",
    "    text = re.sub(\"can't\", \"cannot \", text)\n",
    "    text = re.sub(\"n't\", \" not \", text)\n",
    "    text = re.sub(\"i'm\", \"i am \", text)\n",
    "    text = re.sub(\"i’m\", \"i am\", text)\n",
    "    text = re.sub(\"\\'re\", \" are \", text)\n",
    "    text = re.sub(\"\\'d\", \" would \", text)\n",
    "    text = re.sub(\"\\'ll\", \" will \", text)\n",
    "    #無用標點符號去除\n",
    "    text = re.sub(\",\", \" \", text)\n",
    "    text = re.sub(\"\\.\", \" \", text)\n",
    "    text = re.sub(\"\\/\", \" \", text)\n",
    "    text = re.sub(\"'\", \" \", text)\n",
    "    text = re.sub(\"\\s{2,}\", \" \", text)\n",
    "    #可能有意義的標點符號留著\n",
    "    text = re.sub(\"!\", \" ! \", text)\n",
    "    text = re.sub(\"\\^\", \" ^ \", text)\n",
    "    text = re.sub(\"\\+\", \" + \", text)\n",
    "    text = re.sub(\"\\-\", \" - \", text)\n",
    "    text = re.sub(\"\\=\", \" = \", text)\n",
    "\n",
    "    text = replace_numbers.sub('', text)\n",
    "    text = special_character_removal.sub('',text)\n",
    "\n",
    "    return text"
   ]
  },
  {
   "cell_type": "markdown",
   "metadata": {},
   "source": [
    "### 那中文怎麼辦\n",
    "Re主要是針對英文設計，最長使用在英文文字處理以及網址處理。但是中文re正規表示並不適用，又沒辦法用空白分字/詞。因此處理中文資料時必須用別的處理方式，主要是以jeiba（結巴斷詞）這個套件為主"
   ]
  },
  {
   "cell_type": "markdown",
   "metadata": {},
   "source": [
    "### Homework"
   ]
  },
  {
   "cell_type": "code",
   "execution_count": 32,
   "metadata": {},
   "outputs": [],
   "source": [
    "#text為python在維基百科的第一段文字\n",
    "text = \"Python is an interpreted, high-level, general-purpose programming language. Created by Guido van Rossum and first released in 1991, Python's design philosophy emphasizes code readability with its notable use of significant whitespace. Its language constructs and object-oriented approach aim to help programmers write clear, logical code for small and large-scale projects.[27]Python is dynamically typed and garbage-collected. It supports multiple programming paradigms, including procedural, object-oriented, and functional programming. Python is often described as a batteries included language due to its comprehensive standard library.[28]Python was conceived in the late 1980s as a successor to the ABC language. Python 2.0, released in 2000, introduced features like list comprehensions and a garbage collection system capable of collecting reference cycles. Python 3.0, released in 2008, was a major revision of the language that is not completely backward-compatible, and much Python 2 code does not run unmodified on Python 3.The Python 2 language, i.e. Python 2.7.x, is sunsetting on January 1, 2020 (after extension; first planned for 2015), and the Python team of volunteers will not fix security issues, or improve it in other ways after that date.[29][30] With the end-of-life, only Python 3.5.x and later will be supported.Python interpreters are available for many operating systems. A global community of programmers develops and maintains CPython, an open source[31] reference implementation. A non-profit organization, the Python Software Foundation, manages and directs resources for Python and CPython development.\""
   ]
  },
  {
   "cell_type": "markdown",
   "metadata": {},
   "source": [
    "Q1. 計算Python出現的次數（前後都不能接別的字母）"
   ]
  },
  {
   "cell_type": "code",
   "execution_count": null,
   "metadata": {},
   "outputs": [],
   "source": []
  },
  {
   "cell_type": "markdown",
   "metadata": {},
   "source": [
    "Q2. 列出所有用\"-\"串起來的字 e.x.high-level"
   ]
  },
  {
   "cell_type": "code",
   "execution_count": null,
   "metadata": {},
   "outputs": [],
   "source": []
  },
  {
   "cell_type": "markdown",
   "metadata": {},
   "source": [
    "Q3. 計算這串字串裡總共有幾個字/詞（不含數字）"
   ]
  },
  {
   "cell_type": "code",
   "execution_count": null,
   "metadata": {},
   "outputs": [],
   "source": []
  },
  {
   "cell_type": "markdown",
   "metadata": {},
   "source": [
    "Q4. 列出所有不是英文字母、數字或空白的獨特字元"
   ]
  },
  {
   "cell_type": "code",
   "execution_count": null,
   "metadata": {},
   "outputs": [],
   "source": []
  },
  {
   "cell_type": "markdown",
   "metadata": {},
   "source": [
    "Q5. 計算a~k之間（包含a,k）的字母總共出現幾次（包含大小寫）"
   ]
  },
  {
   "cell_type": "code",
   "execution_count": null,
   "metadata": {},
   "outputs": [],
   "source": []
  }
 ],
 "metadata": {
  "kernelspec": {
   "display_name": "Python 3",
   "language": "python",
   "name": "python3"
  },
  "language_info": {
   "codemirror_mode": {
    "name": "ipython",
    "version": 3
   },
   "file_extension": ".py",
   "mimetype": "text/x-python",
   "name": "python",
   "nbconvert_exporter": "python",
   "pygments_lexer": "ipython3",
   "version": "3.7.3"
  }
 },
 "nbformat": 4,
 "nbformat_minor": 4
}
