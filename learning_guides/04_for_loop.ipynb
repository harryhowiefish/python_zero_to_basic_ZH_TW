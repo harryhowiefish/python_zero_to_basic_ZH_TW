{
 "cells": [
  {
   "cell_type": "markdown",
   "metadata": {
    "id": "OZKM6kdGJKOq"
   },
   "source": [
    "## For loop\n",
    "\n",
    "For loop跟C或java不一樣，不用給變動條件，是給一個列表 （類似其他語言內foreach的用法）\n",
    "\n",
    "For loop裡面則是針對列表內的每一個項目做處理\n",
    "\n",
    "格式：\n",
    "\n",
    "for x in list/range/str:\n",
    "\n",
    "    要執行的東西\n"
   ]
  },
  {
   "cell_type": "code",
   "execution_count": null,
   "metadata": {
    "id": "2yRANNMAJKOr",
    "outputId": "32ca095f-100c-4e26-9400-ae0a02395b8f"
   },
   "outputs": [
    {
     "name": "stdout",
     "output_type": "stream",
     "text": [
      "True\n",
      "False\n",
      "True\n"
     ]
    }
   ],
   "source": [
    "#示範題 列印出[312,329435,559]各項是不是13的倍數（回傳True, False）\n",
    "numbers = [312,329435,559]\n",
    "for i in numbers:\n",
    "    print(i%13==0)\n"
   ]
  },
  {
   "cell_type": "code",
   "execution_count": 1,
   "metadata": {
    "id": "K4RKfeOLJKOw",
    "outputId": "a29aa6c0-57c3-439e-9133-b160ea93352c"
   },
   "outputs": [],
   "source": [
    "#練習題 將[\"K\",\"C\",\"I\",\"S\"]內的項目串起來回傳合併後的結果（KCIS）\n"
   ]
  },
  {
   "cell_type": "markdown",
   "metadata": {
    "id": "3q0tXCTxi2On"
   },
   "source": [
    "#### 如果解釋不太清楚的話，可以參考下列外部學習資源\n",
    "<li><a href=\"https://www.youtube.com/watch?v=iKUu9MuDemA\">莫煩</a>\n",
    "<li><a href=\"https://www.youtube.com/watch?v=szaAeLt_49U\">彭彭（彭兆蔚）part1 (For while混在一起）</a>\n",
    "<li><a href=\"https://www.youtube.com/watch?v=yBXlwOmLqZ4\">彭彭（彭兆蔚）part2 (For while混在一起）</a>\n",
    "<li><a href=\"https://www.youtube.com/watch?v=OnDr4J2UXSA\"> CS Dojo（英文）</a>"
   ]
  },
  {
   "cell_type": "markdown",
   "metadata": {
    "id": "8HorEot6JKO0"
   },
   "source": [
    "## 練習題（答案在這份檔案最下方）"
   ]
  },
  {
   "cell_type": "code",
   "execution_count": null,
   "metadata": {
    "id": "_EUpItZWJKO1"
   },
   "outputs": [],
   "source": [
    "#1.把2的0次方到2的10次方列印出來"
   ]
  },
  {
   "cell_type": "code",
   "execution_count": null,
   "metadata": {
    "id": "YRkHziDrJKO4"
   },
   "outputs": [],
   "source": [
    "#2.把python的每個字母依序印出來"
   ]
  },
  {
   "cell_type": "code",
   "execution_count": null,
   "metadata": {
    "id": "sydDCPozJKO6"
   },
   "outputs": [],
   "source": [
    "#3印出1~10（包含1跟10）裡的所有整數"
   ]
  },
  {
   "cell_type": "code",
   "execution_count": null,
   "metadata": {
    "id": "oLxTBnr8JKO9"
   },
   "outputs": [],
   "source": [
    "#4印出1~10（包含1跟10）裡的所有奇數"
   ]
  },
  {
   "cell_type": "code",
   "execution_count": null,
   "metadata": {
    "id": "6sGhzrU6JKPA"
   },
   "outputs": [],
   "source": [
    "#5將1~10（包含1跟10）裡的奇數全部加總在一起#5"
   ]
  },
  {
   "cell_type": "code",
   "execution_count": null,
   "metadata": {
    "id": "WKy8FXmAJKPE"
   },
   "outputs": [],
   "source": [
    "#6將列表內所有數字加總在一起\n",
    "list_ = [312,53,12,44]"
   ]
  },
  {
   "cell_type": "code",
   "execution_count": null,
   "metadata": {
    "id": "b0SKF_CWJKPH"
   },
   "outputs": [],
   "source": [
    "#7將number的各個數字加總再一起  e.x.123 >> 6, 9123 >> 15\n",
    "number = 1239053"
   ]
  },
  {
   "cell_type": "code",
   "execution_count": null,
   "metadata": {
    "id": "v4dW8FzUJKPJ"
   },
   "outputs": [],
   "source": [
    "#8檢查rand_list裡面哪些是文字？（回傳True,False)\n",
    "rand_list=['hello','world',23,\"2020\",421]"
   ]
  },
  {
   "cell_type": "code",
   "execution_count": null,
   "metadata": {
    "id": "OORuvSkJJKPM"
   },
   "outputs": [],
   "source": [
    "#9印出1~100（包含1跟100）裡的所有7的倍數"
   ]
  },
  {
   "cell_type": "code",
   "execution_count": null,
   "metadata": {
    "id": "lTSXlbHLJKPP"
   },
   "outputs": [],
   "source": [
    "#10把1~10的平方值加總在一起"
   ]
  },
  {
   "cell_type": "markdown",
   "metadata": {
    "id": "zcnCSR-DJKPS"
   },
   "source": [
    "## Homework"
   ]
  },
  {
   "cell_type": "markdown",
   "metadata": {
    "id": "d58gJRUMJKPS"
   },
   "source": [
    "#### 第一題\n",
    "把number除以1~10的餘數列印出來"
   ]
  },
  {
   "cell_type": "code",
   "execution_count": null,
   "metadata": {
    "id": "X2Sj9ANUJKPT"
   },
   "outputs": [],
   "source": [
    "number = 123159"
   ]
  },
  {
   "cell_type": "markdown",
   "metadata": {
    "id": "8uZiPhYZJKPW"
   },
   "source": [
    "#### 第二題\n",
    "檢查rand_list裡面哪些是數字？（回傳True,False)"
   ]
  },
  {
   "cell_type": "code",
   "execution_count": null,
   "metadata": {
    "id": "Ylo6FP3qJKPW"
   },
   "outputs": [],
   "source": [
    "rand_list=['hello','world',23,\"2020\",421]"
   ]
  },
  {
   "cell_type": "markdown",
   "metadata": {
    "id": "IZ68V9_XJKPZ"
   },
   "source": [
    "#### 第三題\n",
    "將rand_list內的所有項目串成字串回傳"
   ]
  },
  {
   "cell_type": "code",
   "execution_count": null,
   "metadata": {
    "id": "ITkXMP-ZJKPZ"
   },
   "outputs": [],
   "source": [
    "rand_list=['hello','world',23,\"2020\",421]"
   ]
  },
  {
   "cell_type": "markdown",
   "metadata": {
    "id": "UCKS-cK0JKPb"
   },
   "source": [
    "#### 第四題\n",
    "檢查numbers內的數字哪些值的開根號為整數？（回傳True,False)"
   ]
  },
  {
   "cell_type": "code",
   "execution_count": null,
   "metadata": {
    "id": "hY3qepTpJKPc"
   },
   "outputs": [],
   "source": [
    "numbers = [312,329435,559]"
   ]
  },
  {
   "cell_type": "markdown",
   "metadata": {
    "id": "Q8oS1w1PJKPf"
   },
   "source": [
    "#### 第五題\n",
    "把num_list內所有項目加總在一起\n"
   ]
  },
  {
   "cell_type": "code",
   "execution_count": null,
   "metadata": {
    "id": "7JJBVmtEJKPg"
   },
   "outputs": [],
   "source": [
    "num_list = ['213','3123','9','1234']"
   ]
  },
  {
   "cell_type": "markdown",
   "metadata": {
    "id": "bpfFJt87JKPi"
   },
   "source": [
    "## 練習題答案"
   ]
  },
  {
   "cell_type": "code",
   "execution_count": null,
   "metadata": {
    "id": "QXg6oCjCJKPj",
    "outputId": "b96fc1b9-759d-44c1-f6de-f46a0c9d1f27"
   },
   "outputs": [
    {
     "name": "stdout",
     "output_type": "stream",
     "text": [
      "1\n",
      "2\n",
      "4\n",
      "8\n",
      "16\n",
      "32\n",
      "64\n",
      "128\n",
      "256\n",
      "512\n",
      "1024\n"
     ]
    }
   ],
   "source": [
    "#1.把2的0次方到2的10次方列印出來\n",
    "for i in range(11):\n",
    "    print(2**i)"
   ]
  },
  {
   "cell_type": "code",
   "execution_count": null,
   "metadata": {
    "id": "sEYv3s-NJKPl",
    "outputId": "fe3abbb5-8b09-49e4-aafb-a42b895195a0"
   },
   "outputs": [
    {
     "name": "stdout",
     "output_type": "stream",
     "text": [
      "p\n",
      "y\n",
      "t\n",
      "h\n",
      "o\n",
      "n\n"
     ]
    }
   ],
   "source": [
    "#2.把python的每個字母依序印出來\n",
    "for i in \"python\":\n",
    "    print(i)"
   ]
  },
  {
   "cell_type": "code",
   "execution_count": null,
   "metadata": {
    "id": "sICbO6c-JKPn",
    "outputId": "985290c5-2959-46c7-cb60-ac1a129662e6"
   },
   "outputs": [
    {
     "name": "stdout",
     "output_type": "stream",
     "text": [
      "1\n",
      "2\n",
      "3\n",
      "4\n",
      "5\n",
      "6\n",
      "7\n",
      "8\n",
      "9\n",
      "10\n"
     ]
    }
   ],
   "source": [
    "#3印出1~10（包含1跟10）裡的所有整數\n",
    "for i in range(1,11):\n",
    "    print(i)"
   ]
  },
  {
   "cell_type": "code",
   "execution_count": null,
   "metadata": {
    "id": "sJn5kdI8JKPq",
    "outputId": "61c0fee6-a017-4551-ee9c-d98c4a9d52d4"
   },
   "outputs": [
    {
     "name": "stdout",
     "output_type": "stream",
     "text": [
      "1\n",
      "3\n",
      "5\n",
      "7\n",
      "9\n"
     ]
    }
   ],
   "source": [
    "#4印出1~10（包含1跟10）裡的所有奇數\n",
    "for i in range(1,11,2):\n",
    "    print(i)"
   ]
  },
  {
   "cell_type": "code",
   "execution_count": 1,
   "metadata": {
    "colab": {
     "base_uri": "https://localhost:8080/",
     "height": 34
    },
    "executionInfo": {
     "elapsed": 1418,
     "status": "ok",
     "timestamp": 1601085699172,
     "user": {
      "displayName": "林允涵Harry Lin",
      "photoUrl": "",
      "userId": "04254809937206892399"
     },
     "user_tz": -480
    },
    "id": "AcmdKw7SJKPs",
    "outputId": "89817171-bd64-4afa-abd1-2efad50e2540"
   },
   "outputs": [
    {
     "name": "stdout",
     "output_type": "stream",
     "text": [
      "25\n"
     ]
    }
   ],
   "source": [
    "#5將1~10（包含1跟10）裡的奇數全部加總在一起\n",
    "total = 0\n",
    "for i in range(1,11,2):\n",
    "    total = total+i\n",
    "print(total)"
   ]
  },
  {
   "cell_type": "code",
   "execution_count": null,
   "metadata": {
    "id": "arRu9sqqJKPv",
    "outputId": "ce9c5b52-fa14-4a32-8c34-d8fa84b79a5c"
   },
   "outputs": [
    {
     "name": "stdout",
     "output_type": "stream",
     "text": [
      "421\n"
     ]
    }
   ],
   "source": [
    "#6將列表內所有數字加總再一起\n",
    "list_ = [312,53,12,44]\n",
    "total = 0\n",
    "for i in list_:\n",
    "    total = total + i\n",
    "print(total)"
   ]
  },
  {
   "cell_type": "code",
   "execution_count": null,
   "metadata": {
    "id": "zLtZ3iJpJKPx",
    "outputId": "8fa4ebb0-7bd7-45ee-d6ac-6b44ea7656eb"
   },
   "outputs": [
    {
     "name": "stdout",
     "output_type": "stream",
     "text": [
      "23\n"
     ]
    }
   ],
   "source": [
    "#7將number的各個數字加總再一起  e.x.123 >> 6, 9123 >> 15\n",
    "number = 1239053\n",
    "total = 0\n",
    "for i in str(number):\n",
    "    total = total + int(i)\n",
    "print(total)"
   ]
  },
  {
   "cell_type": "code",
   "execution_count": null,
   "metadata": {
    "id": "MbFSDONoJKPz",
    "outputId": "b7922843-db6a-4802-a5e6-cfc32049bc1a"
   },
   "outputs": [
    {
     "name": "stdout",
     "output_type": "stream",
     "text": [
      "True\n",
      "True\n",
      "False\n",
      "True\n",
      "False\n"
     ]
    }
   ],
   "source": [
    "#8檢查rand_list裡面哪些是文字？（回傳True,False)\n",
    "rand_list=['hello','world',23,\"2020\",421]\n",
    "for i in rand_list:\n",
    "    print(type(i) == str)"
   ]
  },
  {
   "cell_type": "code",
   "execution_count": null,
   "metadata": {
    "id": "EAuFvCyfJKP2",
    "outputId": "9fd48938-f234-4096-f791-4ba4f21c760c"
   },
   "outputs": [
    {
     "name": "stdout",
     "output_type": "stream",
     "text": [
      "7\n",
      "14\n",
      "21\n",
      "28\n",
      "35\n",
      "42\n",
      "49\n",
      "56\n",
      "63\n",
      "70\n",
      "77\n",
      "84\n",
      "91\n",
      "98\n"
     ]
    }
   ],
   "source": [
    "#9印出1~100（包含1跟100）裡的所有7的倍數\n",
    "for i in range(7,101,7):\n",
    "    print(i)"
   ]
  },
  {
   "cell_type": "code",
   "execution_count": null,
   "metadata": {
    "id": "yx_o8uZOJKP4",
    "outputId": "c2096140-87cd-44b1-cb2d-9a53f6de8bea"
   },
   "outputs": [
    {
     "name": "stdout",
     "output_type": "stream",
     "text": [
      "385\n"
     ]
    }
   ],
   "source": [
    "#10把1~10的平方值加總在一起\n",
    "total = 0\n",
    "for i in range(0,11):\n",
    "    total = total + i**2\n",
    "print(total)"
   ]
  }
 ],
 "metadata": {
  "colab": {
   "collapsed_sections": [],
   "name": "04_for_loop.ipynb",
   "provenance": []
  },
  "kernelspec": {
   "display_name": "Python 3.9.9 64-bit ('3.9.9')",
   "language": "python",
   "name": "python3"
  },
  "language_info": {
   "codemirror_mode": {
    "name": "ipython",
    "version": 3
   },
   "file_extension": ".py",
   "mimetype": "text/x-python",
   "name": "python",
   "nbconvert_exporter": "python",
   "pygments_lexer": "ipython3",
   "version": "3.9.9"
  },
  "vscode": {
   "interpreter": {
    "hash": "8cbaa6da7797478f60c5212ed19a0b0ddd8f36d4bec3dabef5ef91c21fcc369e"
   }
  }
 },
 "nbformat": 4,
 "nbformat_minor": 4
}
